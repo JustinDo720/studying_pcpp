{
 "cells": [
  {
   "cell_type": "markdown",
   "source": [
    "### 1) Abstract class provides a mean for API"
   ],
   "metadata": {
    "collapsed": false
   },
   "id": "586c771a70e072fb"
  },
  {
   "cell_type": "code",
   "execution_count": 1,
   "outputs": [
    {
     "name": "stdout",
     "output_type": "stream",
     "text": [
      "welcome to the white pool!\n"
     ]
    }
   ],
   "source": [
    "# 2)\n",
    "import abc \n",
    "\n",
    "# @abc.abstractclass DOES NOT EXIST \n",
    "class BluePrint(abc.ABC):\n",
    "    @abc.abstractclassmethod\n",
    "    def hello(cls):\n",
    "        pass\n",
    "\n",
    "class WhitePool(BluePrint):\n",
    "    def hello(self):\n",
    "        print(\"welcome to the white pool!\")\n",
    "        \n",
    "wp = WhitePool()\n",
    "wp.hello()"
   ],
   "metadata": {
    "collapsed": false,
    "ExecuteTime": {
     "end_time": "2023-11-19T07:06:23.053922100Z",
     "start_time": "2023-11-19T07:06:23.046806600Z"
    }
   },
   "id": "c92f404ecf2cac7f"
  },
  {
   "cell_type": "markdown",
   "source": [
    "### 3)\n",
    "`__context__` is implicitly chained exception \n",
    "`__cause__` is explicitly chained exception\n",
    "   - raise OwnException from e \n"
   ],
   "metadata": {
    "collapsed": false
   },
   "id": "35da779b68c056ea"
  },
  {
   "cell_type": "markdown",
   "source": [
    "### 4) @property is a proxying method **NOT** a 'getter' type method"
   ],
   "metadata": {
    "collapsed": false
   },
   "id": "d7bc4d99b9493bb6"
  },
  {
   "cell_type": "markdown",
   "source": [
    "### 5) Class methods \n",
    "- are  methods that work on the class itself (doesnt require a class object instance)\n",
    "- available to all class instances"
   ],
   "metadata": {
    "collapsed": false
   },
   "id": "738ff43146a0efa6"
  },
  {
   "cell_type": "markdown",
   "source": [
    "### 6) *args and **kwargs \n",
    "- not explicitly expected arguments (ones a tuple and ones a dict of NOT explicitly expected arguments)"
   ],
   "metadata": {
    "collapsed": false
   },
   "id": "35a02c83550bc12a"
  },
  {
   "cell_type": "markdown",
   "source": [
    "### 7) Decorators can be a function that returns a function that can be called later "
   ],
   "metadata": {
    "collapsed": false
   },
   "id": "4c8a1c584f17fa7"
  },
  {
   "cell_type": "markdown",
   "source": [
    "### 8) `help()` could be used to list methods inherent to an obj"
   ],
   "metadata": {
    "collapsed": false
   },
   "id": "840d2be07cf1fe1c"
  },
  {
   "cell_type": "markdown",
   "source": [
    "### 9) The `__instancecheck__(self, object)` is responsible for handling the `isinstance()` function"
   ],
   "metadata": {
    "collapsed": false
   },
   "id": "c9ffeaa0795ea254"
  },
  {
   "cell_type": "markdown",
   "source": [
    "### 10) *Polymorphism* provisions a single interface to objects of different type"
   ],
   "metadata": {
    "collapsed": false
   },
   "id": "d1649f146f385762"
  },
  {
   "cell_type": "markdown",
   "source": [
    "### 11) `__dict__` acts like a dictionary and combines all attributes available in your code"
   ],
   "metadata": {
    "collapsed": false
   },
   "id": "d03e5f057b77bb9e"
  },
  {
   "cell_type": "code",
   "execution_count": null,
   "outputs": [],
   "source": [],
   "metadata": {
    "collapsed": false
   },
   "id": "3b833c138e2ea632"
  }
 ],
 "metadata": {
  "kernelspec": {
   "display_name": "Python 3",
   "language": "python",
   "name": "python3"
  },
  "language_info": {
   "codemirror_mode": {
    "name": "ipython",
    "version": 2
   },
   "file_extension": ".py",
   "mimetype": "text/x-python",
   "name": "python",
   "nbconvert_exporter": "python",
   "pygments_lexer": "ipython2",
   "version": "2.7.6"
  }
 },
 "nbformat": 4,
 "nbformat_minor": 5
}
