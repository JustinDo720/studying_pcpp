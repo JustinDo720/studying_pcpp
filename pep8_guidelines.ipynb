{
 "cells": [
  {
   "cell_type": "markdown",
   "source": [
    "## PEP 8 - **Coding Conventions** (code style guide) for Python code \n",
    "\n",
    "A **still evolving** must read for Python Professional Programmers because it provides a style guidance unless they have their own project-specific guidance \n",
    "\n",
    "> \"Our code will be read much more often than it will be written\"\n",
    "\n",
    "**Ignore** some specific PEP 8 guidelines:\n",
    "- break backwards compatibility \n",
    "- negative effect on code readability \n",
    "- Inconsistency with the rest of the code \n",
    "\n"
   ],
   "metadata": {
    "collapsed": false
   },
   "id": "8a9b383ef5073089"
  },
  {
   "cell_type": "markdown",
   "source": [
    "## `pip install pycodestyle`\n",
    "\n",
    "**pycodestyle** is a guide checker where you could run it on a file and see info about it \n",
    "\n",
    "**autopep8** automatically formats your code to PEP 8 guidelines \n",
    "\n",
    "**PEP 8 online** helps too where you could paste or upload your file to validate "
   ],
   "metadata": {
    "collapsed": false
   },
   "id": "b6ee67a7388495f8"
  },
  {
   "cell_type": "markdown",
   "source": [
    "## Code layout \n",
    "\n",
    "### Indentation \n",
    "\n",
    "ALl about whitespace:\n",
    "- **four spaces per indentation level**\n",
    "- **spaces rather than tabs** \n",
    "    - unless tabs to *keep consistency with code* that's already indented\n",
    "- **Mixing tabs and spaces are not allowed for indentation**\n",
    "\n",
    "```\n",
    "python\n",
    "\n",
    "# Bad:\n",
    "\n",
    "def my_fun_one(x, y):\n",
    "    return x * y\n",
    "\n",
    "def my_fun_two(a, b):\n",
    "  return a + b\n",
    "``` "
   ],
   "metadata": {
    "collapsed": false
   },
   "id": "5944a912224cde92"
  },
  {
   "cell_type": "markdown",
   "source": [
    "### Continuation lines \n",
    "\n",
    "Logical lines you'd like to split because they're too long which is allowed if using parentheses/brackets/braces \n",
    "\n",
    "```\n",
    "python\n",
    "\n",
    "# Bad:\n",
    "\n",
    "my_list_one = [1, 2, 3,\n",
    "    4, 5, 6\n",
    "]\n",
    "\n",
    "a = my_function_name(a, b, c,\n",
    "    d, e, f)\n",
    "\n",
    "\n",
    "# Good:\n",
    "\n",
    "my_list_two = [\n",
    "    1, 2, 3,\n",
    "    4, 5, 6,\n",
    "]\n",
    "\n",
    "\n",
    "def my_fun(\n",
    "        a, b, c,\n",
    "        d, e, f):\n",
    "    return (a + b + c) * (d + e + f)\n",
    "```"
   ],
   "metadata": {
    "collapsed": false
   },
   "id": "6dfe1bb9ddadb9e7"
  },
  {
   "cell_type": "markdown",
   "source": [
    "## Blank lines \n",
    "\n",
    "Vertical whitespaces to improve readability\n",
    "\n",
    "**Two Blank lines** to surround top-level functions and class\n",
    "\n",
    "```\n",
    "python\n",
    "\n",
    "class ClassOne:\n",
    "    pass\n",
    "\n",
    "\n",
    "Class ClassTwo:\n",
    "    pass\n",
    "\n",
    "\n",
    "def my_top_level_function():\n",
    "    return None\n",
    "```\n",
    " \n",
    "---\n",
    "\n",
    "**Single line for functions inside a class**\n",
    "```\n",
    "python\n",
    "\n",
    "class MyClass:\n",
    "    def method_one(self):\n",
    "        return None\n",
    "\n",
    "    def method_two(self):\n",
    "        return None\n",
    "```\n",
    "\n",
    "---\n",
    "\n",
    "### blank lines in functions to see logical sections \n",
    "```\n",
    "python\n",
    "\n",
    "def calculate_average():\n",
    "    how_many_numbers = int(input(\"How many numbers? \"))\n",
    "    \n",
    "    if how_many_numbers > 0:\n",
    "        sum_numbers = 0\n",
    "        for i in range(0, how_many_numbers):\n",
    "            number = float(input(\"Enter a number: \"))\n",
    "            sum_numbers += number\n",
    "\n",
    "        average = 0\n",
    "        average = sum_numbers / how_many_numbers\n",
    "\n",
    "        return average\n",
    "    else:\n",
    "        return \"Nothing happens.\"\n",
    "```"
   ],
   "metadata": {
    "collapsed": false
   },
   "id": "2dda61553e75142c"
  },
  {
   "cell_type": "markdown",
   "source": [
    "### Default encodings \n",
    "\n",
    "Use **UTF-8** for *Python 3* and **ASCII** for *Python 2* \n",
    "- Use English words whenever feasible \n",
    "- ASCII identifiers \n",
    "\n",
    "---\n",
    "\n",
    "### Imports \n",
    "\n",
    "**Beginning of the script** (add a space in between the categories)\n",
    "- Standard library \n",
    "- Third-party \n",
    "- Local Apps\n",
    " \n",
    "Use *Separate lines* rather than squeezing them into one \n",
    "\n",
    "```\n",
    "python\n",
    "\n",
    "# Bad:\n",
    "\n",
    "import sys, os\n",
    "\n",
    "# Good:\n",
    "\n",
    "import os\n",
    "import sys\n",
    "```\n",
    "\n",
    "But if you're using `from ... import ...`\n",
    "\n",
    "```\n",
    "python\n",
    "\n",
    "from subprocess import Popen, PIPE\n",
    "```\n",
    "\n",
    "If possible use **absolute imports** rather than **wildcards**\n",
    "\n",
    "```\n",
    "python\n",
    "\n",
    "# Good:\n",
    "\n",
    "import animals.mammals.dogs.puppies\n",
    "\n",
    "# Bad:\n",
    "\n",
    "from animals import *\n",
    "```"
   ],
   "metadata": {
    "collapsed": false
   },
   "id": "b3ec5c43cb01cf9f"
  },
  {
   "cell_type": "code",
   "execution_count": null,
   "outputs": [],
   "source": [],
   "metadata": {
    "collapsed": false
   },
   "id": "2badae3d2f102f50"
  },
  {
   "cell_type": "code",
   "execution_count": null,
   "outputs": [],
   "source": [],
   "metadata": {
    "collapsed": false
   },
   "id": "7e691a6c2c3e8f44"
  },
  {
   "cell_type": "code",
   "execution_count": null,
   "outputs": [],
   "source": [],
   "metadata": {
    "collapsed": false
   },
   "id": "9db87c4d6d500664"
  },
  {
   "cell_type": "code",
   "execution_count": null,
   "outputs": [],
   "source": [
    "b"
   ],
   "metadata": {
    "collapsed": false
   },
   "id": "56663f0aa615de3d"
  }
 ],
 "metadata": {
  "kernelspec": {
   "display_name": "Python 3",
   "language": "python",
   "name": "python3"
  },
  "language_info": {
   "codemirror_mode": {
    "name": "ipython",
    "version": 2
   },
   "file_extension": ".py",
   "mimetype": "text/x-python",
   "name": "python",
   "nbconvert_exporter": "python",
   "pygments_lexer": "ipython2",
   "version": "2.7.6"
  }
 },
 "nbformat": 4,
 "nbformat_minor": 5
}
