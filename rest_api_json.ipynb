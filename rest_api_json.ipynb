{
 "cells": [
  {
   "cell_type": "markdown",
   "source": [
    "## JSON - Javascript Object Notation \n",
    "\n",
    "Doesn't require knowing *Java* or *Javascript* it's just a notation that works even without Javascript \n",
    "- The whole idea is that we could transfer data with contents of an object or sets of objects \n",
    "\n",
    "**How to represent an object** \n",
    "- We solve this with JSON using two simple tricks (object is a set of data that has other objects)\n",
    "    -  **UTF-8 coded text** (no machine/platform dependent formats are used) JSON is readable (poorly but always readable)\n",
    "    - **Simple format (syntax or grammar)** to represent relationships between different parts of objects. Transfer both values and names of objects\n",
    "\n",
    "Here's an example of *JSON*:\n",
    "`{ \"prop\": 2.78 }`\n",
    "\n",
    "---\n",
    "\n",
    "## Encoding an integer value \n",
    "\n",
    "**JSON knows NOTHING about numbers written using radices different to 10**\n",
    "- `0x10`\n",
    "- `0o10`\n",
    "- `0b10`\n",
    "\n",
    "Here are some rules:\n",
    "- **Don't** put a *plus* in front of a *positive numbers*\n",
    "- **Don't** use *leading zeros* \n",
    "- **DO** put a *minus* sign in front of a *negative number*\n",
    "\n",
    "Representing data in JSON:\n",
    "- **Real Numbers** using *scientific notation* \n",
    "    - 3.141592653589\n",
    "    - 3.0857E16\n",
    "    - −1.6021766208E−19\n",
    "- **Strings** uses *quotes* not *apostrophes*\n",
    "    - \"Python\" **NOT** 'Python'\n",
    "    - This means we need to know our *digraphs*\n",
    "        - `\\b` for backspace\n",
    "        - `\\f` for form feed \n",
    "        - `\\n` for line feed\n",
    "        - `\\t` for tab \n",
    "    - JSON *strings* **cannot be split over multiple lines** \n",
    "- **Boolean values** are two literals \n",
    "    - **true**\n",
    "    - **false** \n",
    "- **None** is expressed as **null**\n",
    "\n",
    "---\n"
   ],
   "metadata": {
    "collapsed": false
   },
   "id": "89259ef6abc7e08a"
  },
  {
   "cell_type": "code",
   "execution_count": 1,
   "outputs": [
    {
     "data": {
      "text/plain": "3.0857e+16"
     },
     "execution_count": 1,
     "metadata": {},
     "output_type": "execute_result"
    }
   ],
   "source": [],
   "metadata": {
    "collapsed": false,
    "ExecuteTime": {
     "end_time": "2023-12-27T21:44:20.315362700Z",
     "start_time": "2023-12-27T21:44:20.302614100Z"
    }
   },
   "id": "e331b9337676c078"
  },
  {
   "cell_type": "code",
   "execution_count": null,
   "outputs": [],
   "source": [],
   "metadata": {
    "collapsed": false
   },
   "id": "e766eb1a16100a55"
  },
  {
   "cell_type": "code",
   "execution_count": null,
   "outputs": [],
   "source": [],
   "metadata": {
    "collapsed": false
   },
   "id": "294bf83b1926f5db"
  },
  {
   "cell_type": "code",
   "execution_count": null,
   "outputs": [],
   "source": [],
   "metadata": {
    "collapsed": false
   },
   "id": "cdcb87bab33ca249"
  },
  {
   "cell_type": "code",
   "execution_count": null,
   "outputs": [],
   "source": [],
   "metadata": {
    "collapsed": false
   },
   "id": "19ae8258c518d61f"
  },
  {
   "cell_type": "code",
   "execution_count": null,
   "outputs": [],
   "source": [],
   "metadata": {
    "collapsed": false
   },
   "id": "5f43f8220304b6b8"
  },
  {
   "cell_type": "code",
   "execution_count": null,
   "outputs": [],
   "source": [],
   "metadata": {
    "collapsed": false
   },
   "id": "2dab63fcdd8c48c0"
  }
 ],
 "metadata": {
  "kernelspec": {
   "display_name": "Python 3",
   "language": "python",
   "name": "python3"
  },
  "language_info": {
   "codemirror_mode": {
    "name": "ipython",
    "version": 2
   },
   "file_extension": ".py",
   "mimetype": "text/x-python",
   "name": "python",
   "nbconvert_exporter": "python",
   "pygments_lexer": "ipython2",
   "version": "2.7.6"
  }
 },
 "nbformat": 4,
 "nbformat_minor": 5
}
