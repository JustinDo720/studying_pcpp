{
 "cells": [
  {
   "cell_type": "markdown",
   "source": [
    "## PEP outlines the language standards and provide info about changes with regards to Python\n",
    "\n",
    "[Python Enhancement Proposals](https://peps.python.org/)\n",
    "\n",
    "---\n",
    "\n",
    "### We'll cover a few PEP:\n",
    "- **PEP 1 - Purpose and Guidelines** - purpose to PEP, their types and general guidelines \n",
    "- **PEP 8 - Style Guide for Python Code** - conventions and best practices for Python coding \n",
    "- **PEP 20 - Zen of Python** - List of principles for Python's design \n",
    "- **PEP 257 - Docstring Convention** - guidelines for conventions and semantics associated with Python docstring\n",
    "\n",
    "---\n",
    "\n",
    "### *Python Enhancement Proposals* is a collection of guidelines, best practices and descriptions of (new \n",
    "\n",
    "There are **three** different types:\n",
    "- **Standard Track** describes new language features and implements\n",
    "- **Informational** describes python's design issues and provide guidelines and info \n",
    "- **Process** describe process around python and give changes, recommendations and specify certain procedures\n",
    "\n",
    "--- "
   ],
   "metadata": {
    "collapsed": false
   },
   "id": "c17c4a26a27d974a"
  },
  {
   "cell_type": "code",
   "execution_count": 1,
   "outputs": [
    {
     "name": "stdout",
     "output_type": "stream",
     "text": [
      "The Zen of Python, by Tim Peters\n",
      "\n",
      "Beautiful is better than ugly.\n",
      "Explicit is better than implicit.\n",
      "Simple is better than complex.\n",
      "Complex is better than complicated.\n",
      "Flat is better than nested.\n",
      "Sparse is better than dense.\n",
      "Readability counts.\n",
      "Special cases aren't special enough to break the rules.\n",
      "Although practicality beats purity.\n",
      "Errors should never pass silently.\n",
      "Unless explicitly silenced.\n",
      "In the face of ambiguity, refuse the temptation to guess.\n",
      "There should be one-- and preferably only one --obvious way to do it.\n",
      "Although that way may not be obvious at first unless you're Dutch.\n",
      "Now is better than never.\n",
      "Although never is often better than *right* now.\n",
      "If the implementation is hard to explain, it's a bad idea.\n",
      "If the implementation is easy to explain, it may be a good idea.\n",
      "Namespaces are one honking great idea -- let's do more of those!\n"
     ]
    }
   ],
   "source": [
    "import this # Zen on Python"
   ],
   "metadata": {
    "collapsed": false,
    "ExecuteTime": {
     "end_time": "2023-11-23T06:14:15.800132800Z",
     "start_time": "2023-11-23T06:14:15.747169800Z"
    }
   },
   "id": "b838c70934c4f413"
  },
  {
   "cell_type": "markdown",
   "source": [
    "### Esthetic experience of beauty is a judgement of human truth \n",
    "- more **readable** \n",
    "- **style rules** \n",
    "    - 79 character max line \n",
    "    - variable naming conventions \n",
    "    - placing statements on sep lines \n",
    "    - others... "
   ],
   "metadata": {
    "collapsed": false
   },
   "id": "2cb0d89e7df2bc31"
  },
  {
   "cell_type": "code",
   "execution_count": 2,
   "outputs": [
    {
     "name": "stdout",
     "output_type": "stream",
     "text": [
      "Hypotenuse is 84.8528137423857\n"
     ]
    }
   ],
   "source": [
    "from math import sqrt \n",
    "\n",
    "# Too stiffed \n",
    "sidea = float(input('Length A:'))\n",
    "sideb = float(input('Length B:'))\n",
    "sidec = sqrt(sidea**2+sideb**2)\n",
    "print(\"Hypotenuse is\", sidec)\n",
    "\n",
    "# better spaced and naming conventions \n",
    "side_a = float(input('Length A: '))\n",
    "side_b = float(input('Length B: '))\n",
    "hypotenuse = sqrt(side_a**2 + side_b**2)"
   ],
   "metadata": {
    "collapsed": false,
    "ExecuteTime": {
     "end_time": "2023-11-23T06:14:21.623929200Z",
     "start_time": "2023-11-23T06:14:15.758094900Z"
    }
   },
   "id": "92e09bc3048c860c"
  },
  {
   "cell_type": "markdown",
   "source": [
    "## Explicit is better than implicit \n",
    "\n",
    "The whole idea is that your code should be **explicit and readable** \n",
    "- Do you really need it?\n",
    "    - if something's implicit is there a better way to implement it or just comment in code to explain what's going on\n",
    "\n",
    "```\n",
    "python\n",
    "# incorrect \n",
    "from fruit import * \n",
    "\n",
    "apples(2,3.45)\n",
    "\n",
    "# correct \n",
    "from fruit import apples, bananas # instead of using a wildcard we explicitly imported the needed functions from our module\n",
    "\n",
    "apples(quantity=2, price=3.45) # instead of positional arguments which could leave ambuguity... we use keyword arguments to see what thhose positional arg means\n",
    "```  "
   ],
   "metadata": {
    "collapsed": false
   },
   "id": "e27c16a00af0a328"
  },
  {
   "cell_type": "markdown",
   "source": [
    "### Simple is better than complex \n",
    "\n",
    "A **simpler solution** refers to a minimalistic approach \n",
    "- use the **appropriate tools necessary**\n",
    "- **divide problems into smaller and simpler parts**\n",
    "\n",
    "### Complex is better than complicated \n",
    "\n",
    "**Limitations carried by simplicity** leads to using complex solutions \n",
    "- Avoid misunderstanding, lack of clarity, and miscomprehension.\n",
    "- \n",
    "```\n",
    "python\n",
    "\n",
    "first_number = int(input(\"Enter the first number: \"))\n",
    "second_number = int(input(\"Enter the second number: \"))\n",
    "addition_result = first_number + second_number\n",
    "print(first_number, \"+\", second_number, \"=\", addition_result)\n",
    "first_number = int(input(\"Enter the first number: \"))\n",
    "second_number = int(input(\"Enter the second number: \"))\n",
    "addition_result = first_number + second_number\n",
    "print(first_number, \"+\", second_number, \"=\", addition_result)\n",
    "first_number = int(input(\"Enter the first number: \"))\n",
    "second_number = int(input(\"Enter the second number: \"))\n",
    "addition_result = first_number + second_number\n",
    "print(first_number, \"+\", second_number, \"=\", addition_result)\n",
    "first_number = int(input(\"Enter the first number: \"))\n",
    "second_number = int(input(\"Enter the second number: \"))\n",
    "addition_result = first_number + second_number\n",
    "print(first_number, \"+\", second_number, \"=\", addition_result)\n",
    "first_number = int(input(\"Enter the first number: \"))\n",
    "second_number = int(input(\"Enter the second number: \"))\n",
    "addition_result = first_number + second_number\n",
    "print(first_number, \"+\", second_number, \"=\", addition_result)\n",
    "```\n",
    "\n",
    "```\n",
    "python\n",
    "\n",
    "def addition(x, y):\n",
    "    print(x, \"+\", y, \"=\", x+y)\n",
    "\n",
    "for i in range(5):\n",
    "    first_number = int(input(\"Enter the first number: \"))\n",
    "    second_number = int(input(\"Enter the second number: \"))\n",
    "    addition(first_number, second_number)\n",
    "```"
   ],
   "metadata": {
    "collapsed": false
   },
   "id": "8591ed43699fd6bd"
  },
  {
   "cell_type": "markdown",
   "source": [
    "### Flat is better than nested \n",
    "\n",
    "**Nesting** code makes it more difficult to follow \n",
    "- **anything above three** should require refactoring \n",
    "- Flat code is **easier to maintain**\n",
    "\n",
    "```\n",
    "python\n",
    "\n",
    "x = float(input(\"Enter a number: \"))\n",
    "\n",
    "if x > 0:\n",
    "    if x > 1:\n",
    "        if x > 2:\n",
    "            if x > 3:\n",
    "                if x >= 4:\n",
    "                    if x <= 6:\n",
    "                        print(\"x is a number between 4 and 6.\")\n",
    "else:\n",
    "    print(\"x is not a number between 4 and 6.\")\n",
    "```\n",
    "\n",
    "```\n",
    "python\n",
    "\n",
    "x = float(input(\"Enter a number: \"))\n",
    "\n",
    "if x >= 4 and x <=6:\n",
    "    print(\"x is a number between 4 and 6.\")\n",
    "else:\n",
    "    print(\"x is not a number between 4 and 6.\")\n",
    "```"
   ],
   "metadata": {
    "collapsed": false
   },
   "id": "687ea5257253245c"
  },
  {
   "cell_type": "markdown",
   "source": [
    "### Sparse is better than dense \n",
    "\n",
    "Don't write too much code in one line (affects readability)\n",
    "- **Reduce nesting** and **Reduce density**\n",
    "\n",
    "```\n",
    "python\n",
    "\n",
    "# Wrong because its too dense\n",
    "x = 1\n",
    "if x == 1 : print(\"Hello, World!\")\n",
    "```\n",
    "\n",
    "```\n",
    "python\n",
    "\n",
    "# More spaced out \n",
    "x = 1\n",
    "if x == 1:\n",
    "    print(\"Hello, World!\")\n",
    "```"
   ],
   "metadata": {
    "collapsed": false
   },
   "id": "d263f0d3aff1180e"
  },
  {
   "cell_type": "markdown",
   "source": [
    "### Readability Counts \n",
    "\n",
    "The **essence of Python Philosophy** is that **\"Code is read more often than it is written\"**\n",
    "- **meaningful names** to variables, functions, modules and classes \n",
    "- **styling blocks of code** \n",
    "- **using comments** to keep your code neat and readable \n",
    "\n",
    "```\n",
    "python\n",
    "\n",
    "# unreadbale\n",
    "def f(i):\n",
    "    l = i + (0.08 * i)\n",
    "    return l\n",
    "```\n",
    "\n",
    "```\n",
    "python\n",
    "\n",
    "# Readable\n",
    "# Calculates the gross price of products in Wonderland.\n",
    "\n",
    "def calculate_gross_price(net_price):\n",
    "    gross_price = net_price + (0.08 * net_price)\n",
    "    return gross_price\n",
    "```"
   ],
   "metadata": {
    "collapsed": false
   },
   "id": "cf593a3289cb4061"
  },
  {
   "cell_type": "markdown",
   "source": [
    "### Special cases should **NOT** break the rules\n",
    "\n",
    "**Discipline, consistency and compliance with standards and conventions** are all important elements in professional code dev. No exceptions for breaking the principles \n",
    "\n",
    "**Ensure backward compatibility** by keeping naming conventions unchanged.\n",
    "\n",
    "```\n",
    "python\n",
    "\n",
    "def multiply_two_numbers(first_number, second_number):\n",
    "    return first_number * second_number\n",
    "\n",
    "print(multiply_two_numbers(7, 9))\n",
    "\n",
    "# we changed the snake case to camel case\n",
    "def addingTwoNumbers(firstNumber, secondNumber):\n",
    "    return firstNumber + secondNumber\n",
    "\n",
    "print(addingTwoNumbers(7, 9))\n",
    "```\n",
    "\n",
    "```\n",
    "python\n",
    "\n",
    "def multiply_two_numbers(first_number, second_number):\n",
    "    return first_number * second_number\n",
    "\n",
    "print(multiply_two_numbers(7, 9))\n",
    "\n",
    "# keeping the snake case instead of chaning to camel case\n",
    "def add_two_numbers(first_number, second_number):\n",
    "    return first_number + second_number\n",
    "\n",
    "print(add_two_numbers(7, 9))\n",
    "```"
   ],
   "metadata": {
    "collapsed": false
   },
   "id": "92f72dad4e83d10f"
  },
  {
   "cell_type": "markdown",
   "source": [
    "### Practicality beats purity \n",
    "\n",
    "Yes... your code must be elegant, readable and complies with styling conventions **BUT** if it doesnt function the way it should... then does it make much sense?\n",
    "\n",
    "Does it make sense to split a 85 character long line of code (79 being the limit) that affects readability?\n",
    "- **YES** if it affects readability  "
   ],
   "metadata": {
    "collapsed": false
   },
   "id": "5729f428b3da8328"
  },
  {
   "cell_type": "markdown",
   "source": [
    "### Errors should never pass silently \n",
    "\n",
    "A program that crashes is **easier to debug.** You want to **draw your attention to the issue and provide important and actionable information**\n",
    "\n",
    "```\n",
    "python\n",
    "\n",
    "try:\n",
    "    print(1/0)\n",
    "except Exception as e: # it works but we don't know aht we're specifically targeting\n",
    "    pass\n",
    "```\n",
    "\n",
    "```\n",
    "python\n",
    "\n",
    "try:\n",
    "    print(1/0)\n",
    "except ZeroDivisionError: # an exact error we're expecting\n",
    "    print(\"Don't divide by zero!\")\n",
    "```"
   ],
   "metadata": {
    "collapsed": false
   },
   "id": "69f7ee414287a8fb"
  },
  {
   "cell_type": "markdown",
   "source": [
    "### Ambiguity? Refuse to guess\n",
    "\n",
    "There's **limited trust** when it comes to reading and writing code \n",
    "\n",
    "**test your code** to save time and **avoid writing ambiguous code** \n",
    "- you should get your variables **self-commenting names** and **leave comments** where necessary "
   ],
   "metadata": {
    "collapsed": false
   },
   "id": "7e6db6f5cfd290a"
  },
  {
   "cell_type": "markdown",
   "source": [
    "### One obvious way to do it \n",
    "\n",
    "Many different ways to achieve something but **agree on the best way to achieve a particular goal** \n",
    "\n",
    "**Follow the language use standards and conventions** (dont change snake_case to CamelCase for **each function, class, method and entity should have a single cohesive responsibility)\n"
   ],
   "metadata": {
    "collapsed": false
   },
   "id": "e76112905a2e18a4"
  },
  {
   "cell_type": "markdown",
   "source": [
    "### Now is better than never \n",
    "\n",
    "Write down the information if we're pushing it to later because if you don't implement the idea as soon as possible... you may end up forgetting the necessary information\n"
   ],
   "metadata": {
    "collapsed": false
   },
   "id": "a6f9ed268b4e1f9d"
  },
  {
   "cell_type": "markdown",
   "source": [
    "### If the implementation is hard to explain, its a bad idea \n",
    "\n",
    "Everything and anything that could be **explained in words** can be **translated into code**\n",
    "- **keep things simple and minimal because **simple is better than complex but complex is better than complicated** \n"
   ],
   "metadata": {
    "collapsed": false
   },
   "id": "7cf3d57ba7de76c6"
  },
  {
   "cell_type": "markdown",
   "source": [
    "### Namespaces!!!\n",
    "\n",
    "Namespaces are **\"mapping from names to objects\"**\n",
    "- Defining a variable = Python remembering two things...\n",
    "    - Variable's Identifier \n",
    "    - Value passed \n",
    "- *Functions, classes, objects, modules, packages...* they're all namespaces \n",
    "- Using `global` keyword in front of a global variable lets you alter that variable from any scope\n",
    "\n",
    "```\n",
    "python\n",
    "\n",
    "\n",
    "from instruments.guitars import fender, ibanez\n",
    "\n",
    "# there's no namescapes \n",
    "fender(page)\n",
    "ibanez(vai)\n",
    "```\n",
    "\n",
    "```\n",
    "from instruments import guitars\n",
    "\n",
    "# we know exactly where these functions come from due to namespaces\n",
    "guitars.fender(page)\n",
    "guitars.ibanez(vai)\n"
   ],
   "metadata": {
    "collapsed": false
   },
   "id": "d3d6df5a66cb48b3"
  },
  {
   "cell_type": "markdown",
   "source": [
    "## Let's recap\n",
    "\n",
    "**Python Enchancement Proposal** (PEP) are collections of guidelines, best practices, and descriptions of new implementations to python \n",
    "\n",
    "There's a couple of PEP:\n",
    "- **PEP 1 - Purpose and Guidelines** - purpose to PEP, their types and general guidelines \n",
    "- **PEP 8 - Style Guide for Python Code** - conventions and best practices for Python coding \n",
    "- **PEP 20 - Zen of Python** - List of principles for Python's design \n",
    "- **PEP 257 - Docstring Convention** - guidelines for conventions and semantics associated with Python docstring\n",
    "\n",
    "Types of PEP:\n",
    "- **Standard Track** describes new language features and implements\n",
    "- **Informational** describes python's design issues and provide guidelines and info \n",
    "- **Process** describe process around python and give changes, recommendations and specify certain procedures\n",
    "\n",
    "`import this`:\n",
    "---\n",
    "\n",
    "> \"Beautiful is better than ugly\"\n",
    "\n",
    "Talks about *more readable* code and *style rules* like var naming conventions and 70 character max lines\n",
    "\n",
    "> \"Explicit is better than implicit\" \n",
    "\n",
    "Do you really need it? If something is implicit add some comments explaining what it is or find a better way to implement it by explicitly naming the functions needed from a module etc\n",
    "\n",
    "```\n",
    "python\n",
    "from fruit import apples, bananas # instead of using a wildcard we explicitly imported the needed functions from our module\n",
    "\n",
    "apples(quantity=2, price=3.45) # instead of positional arguments which could leave ambuguity... we use keyword arguments to see what thhose positional arg means\n",
    "```\n",
    "\n",
    "> \"Simple is better than complex. Complex is better than complicated\"\n",
    "\n",
    "Divide your problems, use the necessary tools for a minimalistic approach and avoid misunderstanding through proving a more simple solution\n",
    "\n",
    "> \"Flat is better than nested\"\n",
    "\n",
    "Nested Code is difficult to follow especially when there's three nested code. Refactor because falt code is easier to maintain\n",
    "\n",
    "> \"Sparse is better than desense\"\n",
    "\n",
    "Space them out... don't make it too compact on one line (reduce nesting and density)\n",
    "\n",
    "> \"Readability counts\"\n",
    "\n",
    "\"Code is read more often than it is written\" meaning use meaningful names for var, func, modules and classes as well as styling blocks of code and using comments to keep your code neat and readable \n",
    "\n",
    "> \"Special cases aren't special enough to break the rules\" \n",
    "\n",
    "All about Discipline, consistency and compliance with standards and conventions (Not exceptions for breaking the principles)\n",
    "\n",
    "> \"Practicality beats purity\"\n",
    "\n",
    "No exceptions **BUT** if it doesn't work then why worry about styling conventions. If the line of code is more than 85 characters long and affects readability, it's okay to ignore the 79 limit.\n",
    "\n",
    "> \"Errors should never pass silently\"\n",
    "\n",
    "A program is easier to debug when it crashes because it draws your attention to the issue and provide important actionable information \n",
    "\n",
    "> \"Ambiguity? Refuse ... to guess\"\n",
    "\n",
    "Limit trust in reading and writing your code and always test it to avoid writing ambiguous code. Leave comments where necessary \n",
    "\n",
    "> \"Preferably only one --obvious way to do it\"\n",
    "\n",
    "Agree on the **BEST** way to achieve a particular goal. Follow the language use standards and conventions \n",
    "\n",
    "> \"Never is often better than *right* now\"\n",
    "\n",
    "Write down your information if youre implementing it later\n",
    "\n",
    "> \"Implementation is hard to explain ... it's a bad idea\"\n",
    "\n",
    "Anything explained in words could be translated to code by keeping it simple and minimal \n",
    "\n",
    "> \"Namespaces ... let's do more of those!\"\n",
    "\n",
    "Mapping from names to object, python remembers two things when declaring a variable:\n",
    "the variable name and value. Use namespaces to specify where things are coming from."
   ],
   "metadata": {
    "collapsed": false
   },
   "id": "3a2ae31d0869d4d5"
  },
  {
   "cell_type": "markdown",
   "source": [
    "## Overall Recap\n",
    "\n",
    "Python Enchancement Proposal (PEP) is a collection of guidelines, best practices and information on new implementation \n",
    "\n",
    "Standard deals with the new implementation, Informational deals with best practices and Process talks about suggestions on how to do things.\n",
    "\n",
    "Worry about being practical than the styling. Comments, namespaces, spacing and avoiding nested and compact code are ways to improve our code in terms of readability. Remember people read more than the code being written so make it flat and readable. Implement things you know immediately and always test them because you should have limited trust in your code. In fact, errors should not passs silently"
   ],
   "metadata": {
    "collapsed": false
   },
   "id": "6cc29393889bdaf4"
  },
  {
   "cell_type": "code",
   "execution_count": 2,
   "outputs": [],
   "source": [],
   "metadata": {
    "collapsed": false,
    "ExecuteTime": {
     "end_time": "2023-11-23T06:14:21.623929200Z",
     "start_time": "2023-11-23T06:14:21.613412900Z"
    }
   },
   "id": "85ce7179047f723f"
  }
 ],
 "metadata": {
  "kernelspec": {
   "display_name": "Python 3",
   "language": "python",
   "name": "python3"
  },
  "language_info": {
   "codemirror_mode": {
    "name": "ipython",
    "version": 2
   },
   "file_extension": ".py",
   "mimetype": "text/x-python",
   "name": "python",
   "nbconvert_exporter": "python",
   "pygments_lexer": "ipython2",
   "version": "2.7.6"
  }
 },
 "nbformat": 4,
 "nbformat_minor": 5
}
