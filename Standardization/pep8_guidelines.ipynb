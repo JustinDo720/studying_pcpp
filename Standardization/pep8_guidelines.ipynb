{
 "cells": [
  {
   "cell_type": "markdown",
   "source": [
    "## PEP 8 - **Coding Conventions** (code style guide) for Python code \n",
    "\n",
    "A **still evolving** must read for Python Professional Programmers because it provides a style guidance unless they have their own project-specific guidance \n",
    "\n",
    "> \"Our code will be read much more often than it will be written\"\n",
    "\n",
    "**Ignore** some specific PEP 8 guidelines:\n",
    "- break backwards compatibility \n",
    "- negative effect on code readability \n",
    "- Inconsistency with the rest of the code \n",
    "\n"
   ],
   "metadata": {
    "collapsed": false
   },
   "id": "8a9b383ef5073089"
  },
  {
   "cell_type": "markdown",
   "source": [
    "## `pip install pycodestyle`\n",
    "\n",
    "**pycodestyle** is a guide checker where you could run it on a file and see info about it \n",
    "\n",
    "**autopep8** automatically formats your code to PEP 8 guidelines \n",
    "\n",
    "**PEP 8 online** helps too where you could paste or upload your file to validate "
   ],
   "metadata": {
    "collapsed": false
   },
   "id": "b6ee67a7388495f8"
  },
  {
   "cell_type": "markdown",
   "source": [
    "## Code layout \n",
    "\n",
    "### Indentation \n",
    "\n",
    "ALl about whitespace:\n",
    "- **four spaces per indentation level**\n",
    "- **spaces rather than tabs** \n",
    "    - unless tabs to *keep consistency with code* that's already indented\n",
    "- **Mixing tabs and spaces are not allowed for indentation**\n",
    "\n",
    "```\n",
    "python\n",
    "\n",
    "# Bad:\n",
    "\n",
    "def my_fun_one(x, y):\n",
    "    return x * y\n",
    "\n",
    "def my_fun_two(a, b):\n",
    "  return a + b\n",
    "``` "
   ],
   "metadata": {
    "collapsed": false
   },
   "id": "5944a912224cde92"
  },
  {
   "cell_type": "markdown",
   "source": [
    "### Continuation lines \n",
    "\n",
    "Logical lines you'd like to split because they're too long which is allowed if using parentheses/brackets/braces \n",
    "\n",
    "```\n",
    "python\n",
    "\n",
    "# Bad:\n",
    "\n",
    "my_list_one = [1, 2, 3,\n",
    "    4, 5, 6\n",
    "]\n",
    "\n",
    "a = my_function_name(a, b, c,\n",
    "    d, e, f)\n",
    "\n",
    "\n",
    "# Good:\n",
    "\n",
    "my_list_two = [\n",
    "    1, 2, 3,\n",
    "    4, 5, 6,\n",
    "]\n",
    "\n",
    "\n",
    "def my_fun(\n",
    "        a, b, c,\n",
    "        d, e, f):\n",
    "    return (a + b + c) * (d + e + f)\n",
    "```"
   ],
   "metadata": {
    "collapsed": false
   },
   "id": "6dfe1bb9ddadb9e7"
  },
  {
   "cell_type": "markdown",
   "source": [
    "## Blank lines \n",
    "\n",
    "Vertical whitespaces to improve readability\n",
    "\n",
    "**Two Blank lines** to surround top-level functions and class\n",
    "\n",
    "```\n",
    "python\n",
    "\n",
    "class ClassOne:\n",
    "    pass\n",
    "\n",
    "\n",
    "Class ClassTwo:\n",
    "    pass\n",
    "\n",
    "\n",
    "def my_top_level_function():\n",
    "    return None\n",
    "```\n",
    " \n",
    "---\n",
    "\n",
    "**Single line for functions inside a class**\n",
    "```\n",
    "python\n",
    "\n",
    "class MyClass:\n",
    "    def method_one(self):\n",
    "        return None\n",
    "\n",
    "    def method_two(self):\n",
    "        return None\n",
    "```\n",
    "\n",
    "---\n",
    "\n",
    "### blank lines in functions to see logical sections \n",
    "```\n",
    "python\n",
    "\n",
    "def calculate_average():\n",
    "    how_many_numbers = int(input(\"How many numbers? \"))\n",
    "    \n",
    "    if how_many_numbers > 0:\n",
    "        sum_numbers = 0\n",
    "        for i in range(0, how_many_numbers):\n",
    "            number = float(input(\"Enter a number: \"))\n",
    "            sum_numbers += number\n",
    "\n",
    "        average = 0\n",
    "        average = sum_numbers / how_many_numbers\n",
    "\n",
    "        return average\n",
    "    else:\n",
    "        return \"Nothing happens.\"\n",
    "```"
   ],
   "metadata": {
    "collapsed": false
   },
   "id": "2dda61553e75142c"
  },
  {
   "cell_type": "markdown",
   "source": [
    "### Default encodings \n",
    "\n",
    "Use **UTF-8** for *Python 3* and **ASCII** for *Python 2* \n",
    "- Use English words whenever feasible \n",
    "- ASCII identifiers \n",
    "\n",
    "---\n",
    "\n",
    "### Imports \n",
    "\n",
    "**Beginning of the script** (add a space in between the categories)\n",
    "- Standard library \n",
    "- Third-party \n",
    "- Local Apps\n",
    " \n",
    "Use *Separate lines* rather than squeezing them into one \n",
    "\n",
    "```\n",
    "python\n",
    "\n",
    "# Bad:\n",
    "\n",
    "import sys, os\n",
    "\n",
    "# Good:\n",
    "\n",
    "import os\n",
    "import sys\n",
    "```\n",
    "\n",
    "But if you're using `from ... import ...`\n",
    "\n",
    "```\n",
    "python\n",
    "\n",
    "from subprocess import Popen, PIPE\n",
    "```\n",
    "\n",
    "If possible use **absolute imports** rather than **wildcards**\n",
    "\n",
    "```\n",
    "python\n",
    "\n",
    "# Good:\n",
    "\n",
    "import animals.mammals.dogs.puppies\n",
    "\n",
    "# Bad:\n",
    "\n",
    "from animals import *\n",
    "```"
   ],
   "metadata": {
    "collapsed": false
   },
   "id": "b3ec5c43cb01cf9f"
  },
  {
   "cell_type": "markdown",
   "source": [
    "---\n",
    "\n",
    "### Avoid whitespace in expressions and statement \n",
    "\n",
    "```\n",
    "python\n",
    "\n",
    "# Bad:\n",
    "\n",
    "my_list = ( dog[ 2 ] , 5 , { \"year\": 1980 } , \"string\" )\n",
    "if 5 in my_list : print( \"Hello!\" ) ; print( \"Goodbye!\" )\n",
    "```\n",
    "\n",
    "```\n",
    "python\n",
    " \n",
    "# Good:\n",
    "\n",
    "my_list = (dog[2], 5, {\"year\": 1980}, \"string\")\n",
    "if 5 in my_list: print(\"Hello!\"); print(\"Goodbye!\")\n",
    "```\n",
    "\n",
    "### Don't use whitespace in trailing commas\n",
    "- trailing comma after a closing () \n",
    "- immediately before () for an arg list of func\n",
    "- immediately before () indexing/string\n",
    "\n",
    "```\n",
    "python\n",
    "\n",
    "\n",
    "\n",
    "# Good:\n",
    "\n",
    "my_tuple = (0, 1, 2,)\n",
    "my_function(5)\n",
    "my_dictionary['key'] = my_list[index]\n",
    "```"
   ],
   "metadata": {
    "collapsed": false
   },
   "id": "4715d1b6eafcb529"
  },
  {
   "cell_type": "markdown",
   "source": [
    "### Commenting \n",
    "\n",
    "Comments are good for readability because they're able to document their code \n",
    "- Update your comments if the program updates \n",
    "- No misleading comments \n",
    "- Complete sentences (Capitalize first letter and end with a period)\n",
    "- Two spaces after each full sentence \n",
    "\n",
    "Block commends are usually longer **explaining sections of code**\n",
    "- refer to the code that follows them \n",
    "- using `#` and sep paragraphs with a blank `#`\n",
    "\n",
    "```python\n",
    "def calculate_product():\n",
    "    # Calculate the average of three numbers obtained from the user. Then \n",
    "    # multiply the result by 4.17, and assign it to the product variable.\n",
    "    #\n",
    "    # Return the value passed to the product variable and use it\n",
    "    # for the subsequent x to y calculations to speed up the process.\n",
    "    sum_numbers = 0\n",
    "    \n",
    "    for number in range(0, 3):\n",
    "        number = float(input(\"Enter a number: \"))\n",
    "        sum_numbers += number\n",
    "    \n",
    "    average = (sum_numbers / 3) * 4.17\n",
    "    product = average\n",
    "    return product\n",
    "\n",
    "x = product * 1.73\n",
    "y = x ** 2\n",
    "x_to_y = (x*y) / 1.05\n",
    "```"
   ],
   "metadata": {
    "collapsed": false
   },
   "id": "3acbabf93228c1b5"
  },
  {
   "cell_type": "markdown",
   "source": [
    "### Inline comments \n",
    "\n",
    "**Comments written on the same line as your statements** which **provides further explanation to a single line of code**\n",
    "- *DON'T* overuse them \n",
    "- separated by two (or more) spaces from the statement they address\n",
    "\n",
    "```python\n",
    "# Good\n",
    "\n",
    "counter = 0 # Initialize the counter. \n",
    "\n",
    "# Bad\n",
    "\n",
    "a += 1  # Increment a.\n",
    "```"
   ],
   "metadata": {
    "collapsed": false
   },
   "id": "16bd4caebd5ecc55"
  },
  {
   "cell_type": "markdown",
   "source": [
    "### Documentation Strings \n",
    "\n",
    "#### **Docstrings**\n",
    "Are descriptions and explanation for:\n",
    "- public modules\n",
    "- files\n",
    "- functions \n",
    "- classes\n",
    "- methods \n",
    "\n",
    "*PEP 257* talks more about it but you begin and end with `\"\"\"`"
   ],
   "metadata": {
    "collapsed": false
   },
   "id": "5c84d3b970eb539d"
  },
  {
   "cell_type": "markdown",
   "source": [],
   "metadata": {
    "collapsed": false
   },
   "id": "be212df35bc8cc1f"
  },
  {
   "cell_type": "markdown",
   "source": [
    "---\n",
    "\n",
    "### Naming Conventions \n",
    "\n",
    "**Avoid** using **single-letter** names because it oculd be mistaken for binary \n",
    "- *mysamplename* => lowercase\n",
    "- *my_sample_name* => snakecase \n",
    "- *MYSAMPLENAME* => uppercase \n",
    "- *MY_SAMPLE_NAME* => snake and upper case\n",
    "\n",
    "**CamelCase**\n",
    "- MySampleName => Capitalized words capitalize all letters to make up an acronym \n",
    "- _my_sample_name => \"internal use\" as `from SAMPLE import *` will not take names that start with an underscore \n",
    "- my_sample_name_ => avoid conflicts with Python keywords like for (for_)\n",
    "- __my_sample_name => class attr (usually to indicate priv var) (_ClassName__my_sample_name)\n",
    "- __my_sample_name__ => dunder \"magic\" object for user-controlled namespaces"
   ],
   "metadata": {
    "collapsed": false
   },
   "id": "840e33e58d901a86"
  },
  {
   "cell_type": "markdown",
   "source": [
    "### Naming conventions -- Recommendations \n",
    "\n",
    "**Variables** and **Functions** should use *lowercase letters or seperated by underscores* \n",
    "\n",
    "**Class**, **Exceptions**, and **Type Variables** should use *CamelCase* unless there's only one word \n",
    "\n",
    "**Method** should use *lowercase or underscore sep* with the first arg being self or cls (for class methods) \n",
    "\n",
    "**Constants** should be *uppercase and sep by underscores*\n",
    "\n",
    "**Modules** vs **Packages**\n",
    "- *Modules* - a .py file that is *short* and *sep by underscores* \n",
    "- *Package* - a dir with `__init__.py` and all the modules that should be *one lowercase word or words*\n"
   ],
   "metadata": {
    "collapsed": false
   },
   "id": "ab6fea66cceb7cde"
  },
  {
   "cell_type": "markdown",
   "source": [
    "### Programming Recommendations \n",
    "\n",
    "Conventions and tips to prevent ambiguity \n",
    "- When dealing with `None` and `Boolean` objects use `is` and `is not` and `==` with value comparison "
   ],
   "metadata": {
    "collapsed": false
   },
   "id": "d1875d8a65f4229e"
  },
  {
   "cell_type": "code",
   "execution_count": null,
   "outputs": [],
   "source": [],
   "metadata": {
    "collapsed": false
   },
   "id": "149fd20235fa80b0"
  }
 ],
 "metadata": {
  "kernelspec": {
   "display_name": "Python 3",
   "language": "python",
   "name": "python3"
  },
  "language_info": {
   "codemirror_mode": {
    "name": "ipython",
    "version": 2
   },
   "file_extension": ".py",
   "mimetype": "text/x-python",
   "name": "python",
   "nbconvert_exporter": "python",
   "pygments_lexer": "ipython2",
   "version": "2.7.6"
  }
 },
 "nbformat": 4,
 "nbformat_minor": 5
}
