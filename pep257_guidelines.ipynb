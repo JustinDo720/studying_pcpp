{
 "cells": [
  {
   "cell_type": "markdown",
   "source": [
    "# **PEP 257** is all about *Conventions*, *Best Practices* and *Semantics* for docstrings\n",
    "\n",
    "## Two Main Questions:\n",
    "- **What** should Python docstrings contain?\n",
    "- **How** should Python docstrings be used?\n",
    "\n",
    "A *docstring* is a \"string literal that occurs as the **first statement in a module, function, class or method definition**\n",
    "- they're used in front of these things to provide **information about the functionality**\n",
    "\n",
    "\n",
    "## Docstring vs. Comments\n",
    "\n",
    "**Comments** are used to add a *comment* to your code while **Docstrings** are used to *document* your code \n",
    "- **Comments** has a purpose of providing precise info and helping whoever is reading to understand a particular line/snippet\n",
    "- **Docstrings** accessed by `help()` or `__doc__` to a function, are used to document code by describing functionality, use and capability to users who don't know how it works\n",
    "\n"
   ],
   "metadata": {
    "collapsed": false
   },
   "id": "8ec0ab1be56c5629"
  },
  {
   "cell_type": "markdown",
   "source": [
    "---\n",
    "\n",
    "### Quick Comments Recap \n",
    "- they're *close* to the code its explaining \n",
    "- short and relevant \n",
    "- multi-line comments includes multiple `#` \n",
    "\n",
    "### When do we use comments?\n",
    "- **Code and algorithm descriptions** and **tag** sections that need to be worked on later on in the future \n",
    "    - ```python\n",
    "      # TODO: Add function to do something\n",
    "      ``` \n",
    "- **Testing** by ignoring certain sections\n",
    "- **Outline** your code by providing steps \n",
    "    - ```python\n",
    "      # Step 1: Ask the user for the value.\n",
    "      # Step 2: Change the value to an int and handle possible exceptions.\n",
    "      # Step 3: Print the value multiplied by 0.7.\n",
    "      ```  \n"
   ],
   "metadata": {
    "collapsed": false
   },
   "id": "360029a2af9ba2fc"
  },
  {
   "cell_type": "markdown",
   "source": [
    "---\n",
    "\n",
    "## Type hints\n",
    "\n",
    "**Type hinting** allows you to provide additional info without comments. This optional feature *provides type hint information* and allows you to *statically indicate* the type information related to a Python object \n",
    "\n",
    "```python\n",
    "# No type information added:\n",
    "def hello(name):\n",
    "    return \"Hello, \" + name\n",
    "\n",
    "\n",
    "# Type information added to a function:\n",
    "def hello(name: str) -> str:\n",
    "    return \"Hello, \" + name\n",
    "```\n",
    "\n",
    "**Type hinting** (same as comments) are *not used at runtime* so you could *notice certain kinds of errors more effectively* with *cleaner code*"
   ],
   "metadata": {
    "collapsed": false
   },
   "id": "135f729364dbf9"
  },
  {
   "cell_type": "markdown",
   "source": [
    "---\n",
    "\n",
    "## Back to Docstrings \n",
    "\n",
    "These should include docstrings (**in the first statement**) :\n",
    "- public modules\n",
    "- functions\n",
    "- classes\n",
    "- methods \n",
    "\n",
    "**Packages** could have docstrings in the `__init__.py` file \n",
    "\n",
    "Using `\"\"\"Triple Double Quotes\"\"\"`, we could create a docstring \n",
    "\n",
    "But now:\n",
    "\n",
    "## One-line vs Multi-line docstrings\n",
    "- **One-line** docstrings are just a simple and short description\n",
    "    - ```python\n",
    "      def my_func():\n",
    "        \"\"\"One-line description\"\"\"\n",
    "        do_something = None\n",
    "      ```\n",
    "- **Multi-line** docstring consist of a summary line then more elaborate description seperated by a blank space \n",
    "    - ```python\n",
    "      def my_func():\n",
    "        \"\"\"Summary lined\n",
    "        \n",
    "        More description \n",
    "        ...\n",
    "        ...\n",
    "        ...\n",
    "        \"\"\"\n",
    "        do_something = None\n",
    "      ``` "
   ],
   "metadata": {
    "collapsed": false
   },
   "id": "8c029fff577372cc"
  },
  {
   "cell_type": "markdown",
   "source": [
    "### Prescribe not Describe\n",
    "\n",
    "*Prescribe* meaning it should take form of \"Do this. Convert that.\" instead of...\n",
    "\n",
    "*Describe* where it's \"Does this. Returns that.\"\n",
    "\n",
    "Basically something **imperative**\n",
    "```python\n",
    "def greeting(name):\n",
    "    \"\"\"Take a name and return its replicated form.\"\"\"\n",
    "    return name * 2\n",
    "```\n",
    "Not \n",
    "```python\n",
    "def my_function(x, y):\n",
    "    \"\"\"my_function(x, y) -> list\"\"\"\n",
    "```"
   ],
   "metadata": {
    "collapsed": false
   },
   "id": "2a7ee620568848b2"
  },
  {
   "cell_type": "markdown",
   "source": [
    "## Multi-line docstrings Example \n",
    "\n",
    "**Multi-line** should have a *summary line*, *a blank*, and then *a more elaborate description\n",
    "\n",
    "```python\n",
    "def king_creator(name=\"Greg\", ordinal=\"I\", country=\"Neverland\"):\n",
    "    \"\"\"Create a king following the article title naming convention.\n",
    "    \n",
    "    Keyword arguments:\n",
    "    :arg name: the king's name (default: Greg)\n",
    "    :type name: str\n",
    "    :arg ordinal: Roman ordinal number (default: I)\n",
    "    :type ordinal: str\n",
    "    :arg country: the country ruled (default: Neverland)\n",
    "    :type country: str\n",
    "    \"\"\"\n",
    "    if name == \"Voldemort\":\n",
    "        return \"Voldemort is a reserved name.\"\n",
    "    ...\n",
    "\n",
    "```"
   ],
   "metadata": {
    "collapsed": false
   },
   "id": "c230d90e753b0fa1"
  },
  {
   "cell_type": "markdown",
   "source": [
    "### How could I access the docstrings?\n",
    "\n",
    "Given that `king_creator()` is a function from a last example:\n",
    "- we could use `king_creator().__doc__` to access our docstring \n",
    "- or use `help(king_creator)`"
   ],
   "metadata": {
    "collapsed": false
   },
   "id": "a14c06fd60ba7a8f"
  },
  {
   "cell_type": "code",
   "execution_count": null,
   "outputs": [],
   "source": [],
   "metadata": {
    "collapsed": false
   },
   "id": "c23cb14a740e8805"
  }
 ],
 "metadata": {
  "kernelspec": {
   "display_name": "Python 3",
   "language": "python",
   "name": "python3"
  },
  "language_info": {
   "codemirror_mode": {
    "name": "ipython",
    "version": 2
   },
   "file_extension": ".py",
   "mimetype": "text/x-python",
   "name": "python",
   "nbconvert_exporter": "python",
   "pygments_lexer": "ipython2",
   "version": "2.7.6"
  }
 },
 "nbformat": 4,
 "nbformat_minor": 5
}
