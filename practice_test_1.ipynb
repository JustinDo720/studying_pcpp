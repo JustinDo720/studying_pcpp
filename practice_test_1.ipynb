{
 "cells": [
  {
   "cell_type": "markdown",
   "source": [
    "## Practice Test questions that we got wrong\n",
    "\n",
    "**After redoing the test...**\n",
    "\n",
    "All my assumptions (*Maybe*) are correct :D \n",
    "\n",
    "---\n",
    "\n",
    "### Encapsulation allows for?\n",
    "- *Incorrect*: controlling the access to selected methods and attributes \n",
    "- *Maybe*: controlling the access to selected attributes \n",
    "- **My Reasoning:** I know private attributes and methods exist; however, we end up controlling more access to the private variable set in the constructor during instantization. \n",
    "\n",
    "### `Shelve` module is <u>false</u>\n",
    "- *Incorrect*: built on top of `Pickle` module and **don't** have to abide by the order placed in shelve\n",
    "- *Maybe*: built on top of `Pickle` module and **have** to abide by the order placed in shelve \n",
    "- **My Reasoning:** We didnt need to place specific objects in order when we set keys to a random mutable object \n",
    "\n",
    "### *Instance Variable*\n",
    "- *Incorrect*: variable that can be created only during object initialization\n",
    "- *Maybe*: a kind of variable that exists inside an object \n",
    "- **My Reasoning:** You know... instance variables could be created when an object is running a method so its just a var that exists in objects\n",
    "\n",
    "### *Abstract Class*\n",
    "- *Incorrect*: blueprint for other classes; cannot contain fully defined methods\n",
    "- *Maybe*: blueprint for other class; must contain one abstract method  \n",
    "- **My Reasoning:** The whole purpose of abstract classes are to create blueprints that have abstract methods using the decorator `@abc.abstractmethod` that require our subclasses to override  \n",
    "\n",
    "### Possible to instantiate an abstract class?\n",
    "- *Incorrect*: no bc contract between class designer and dev \n",
    "- *Maybe*: no bc its not the role of abstract class; those are bp that must be implemented by subclasses \n",
    "- **My Reasoning:** it's true you cannot instantiate an abstract class because its not the role of an abstract class since they act as blueprints creating mandatory methods from a class designer and as a dev you are supposed to override those mandatory methods\n",
    "\n",
    "### access data stored in shelve what type is it?\n",
    "- *Incorrect*: any mutable type \n",
    "- *Maybe*: i actually dunno maybeee a string????\n",
    "- **My Reasoning:** I think the question is a bit off but its referring to the keys what type do the keys have to be and since it's like accessing a dictionary they're a string\n",
    "\n",
    "### pickle file format constant?\n",
    "- *Incorrect*: yes, power of python\n",
    "- *Maybe*: no not expected wide compatibility\n",
    "- **My Reasoning:** I thought .pckl was able to stay constant but truth be told theres no wide compatibility due to continuous updates\n",
    "\n",
    "### Exception chain \n",
    "- *Incorrect*: structure containing exception attr `__context__` and `__cause__`\n",
    "- *Maybe*: concept of handling exceptions raised by other exception handling code\n",
    "- **My Reasoning:** Honestly, it's between these two choices because the structure do contain attr like `__context__` for implicit handling and `__cause__` for explicit... however; its mainly a concept of being a nested exception where it handles things that are wrong **WITH** the exception handling code"
   ],
   "metadata": {
    "collapsed": false
   },
   "id": "5b71717abcc56a2b"
  },
  {
   "cell_type": "code",
   "execution_count": null,
   "outputs": [],
   "source": [],
   "metadata": {
    "collapsed": false
   },
   "id": "c46057eb02f2f6b1"
  }
 ],
 "metadata": {
  "kernelspec": {
   "display_name": "Python 3",
   "language": "python",
   "name": "python3"
  },
  "language_info": {
   "codemirror_mode": {
    "name": "ipython",
    "version": 2
   },
   "file_extension": ".py",
   "mimetype": "text/x-python",
   "name": "python",
   "nbconvert_exporter": "python",
   "pygments_lexer": "ipython2",
   "version": "2.7.6"
  }
 },
 "nbformat": 4,
 "nbformat_minor": 5
}
