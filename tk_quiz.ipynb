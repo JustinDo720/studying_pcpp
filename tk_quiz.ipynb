{
 "cells": [
  {
   "cell_type": "markdown",
   "source": [
    "## Tkinter Exam \n",
    "\n",
    "**First Score**: Passed with *71%*\n",
    "\n",
    "### 1) `anchor` property uses **compass coordinates**\n",
    "---\n",
    "### 2) (C) *black* has a hexcode of `#000000`\n",
    "---\n",
    "### 3) (W) *shade of grey* could be `#C0C0C0` or `#122112`\n",
    "- Initial Answer: `#888888`\n",
    "- Correct Answer: **AND** `#C0C0C0`\n",
    "---\n",
    "### 4) (C) `create_arc()` has *three shapes*\n",
    "---\n",
    "### 5) (C) **callbacks** could be *bound to more than one widget* & possible to *change a callback* bound to a widget\n",
    "---\n",
    "### 6) (C) `x = IntVar()` is an **object** carrying `0`\n",
    "---\n",
    "### 7) (C) **observable variable** can *own* its callbacks and *trigger* a callback when value is set\n",
    "---\n",
    "### 8) (C) `Checkbutton` can use *observable variable* to *read and set* the current state of a widget\n",
    "---\n",
    "### 9) (C) `fg` is foreground\n",
    "---\n",
    "### 10) (W) `b1` button focused?\n",
    "- Initial answer: `b1.set_focus()`\n",
    "- Correct answer: `b1.focus_set()`\n",
    "---\n",
    "### 11) (C) **deaf** buttons with `tk.DISABLED` is bound to **state property**\n",
    "---\n",
    "### 12) (C) **GUI elements** designed to *receive user gestures* are **controls** and **widgets**\n",
    "---\n",
    "### 13) (C) `<Button-2>` is a *single middle-click* of mouse button\n",
    "---\n",
    "### 14) (C) `after()` can be canceled with `after_cancel()`\n",
    "---\n",
    "### 15) (P) `grid()` geometry manager can\n",
    "- Initial answers: Can occupy more than one cell of **column** and **row**\n",
    "- Correct answers: *AND* occupy the whole **window's interior** \n",
    "---\n",
    "### 16) (C) **Tkinter** GUI toolkit is named *Tk*\n",
    "---\n",
    "### 17) (W) Pressing **\"Q\"** event is named\n",
    "- Initial answer: `<Key-Q>`\n",
    "- Correct answer: `q`\n",
    "---\n",
    "### 18) (C) **Tkinter fonts** are represented as **tuples**\n",
    "---\n",
    "### 19) (C) Geometry managers that produce **different** layouts depending on the order is `pack()`\n",
    "---\n",
    "### 20) (C) Change value of `Label` with `label['text'] = 'change'` and `label.config('text', 'change')`\n",
    "---\n",
    "### 21) (C) **event object** has data like **cursor location** and **event type**\n",
    "---\n",
    "### 22) (W) Color model for **Tkinter** is \n",
    "- Initial answer: cubic\n",
    "- Correct answer: additive\n",
    "---\n",
    "### 23) (C) **radiobuttons** belong to the same group if they **use the same observable variable**\n",
    "---\n",
    "### 24) (W) Create a main window object \n",
    "- Initial answer: `tkiner.Tk()`\n",
    "- Correct answer: `tkinter.Tk()`\n",
    "---\n",
    "### 25) (C) width argument in `place()` describes **widget size** in **pixels**\n"
   ],
   "metadata": {
    "collapsed": false
   },
   "id": "7e2fcb9427d4b5c8"
  },
  {
   "cell_type": "markdown",
   "source": [
    "## Some questions that were wrong on the smaller quiz\n",
    "\n",
    "### Starting from *top-left* to *bottom-right* draw a line on a canvas (with a **200x200** size)\n",
    "- Initial answer: `c.create_line(10,10,200,200)`\n",
    "- Correct answer: `c.create_line(0,0, 200,200)`\n",
    "\n",
    "---\n",
    "\n",
    "### **Entry** widgets\n",
    "- Initial answer: accessed by `get()` and through **observable variable**\n",
    "- Correct answer: **AND** it can *grab and lose* focus\n",
    "\n",
    "---\n",
    "\n",
    "### IF your window size is **200x200** whats the top-right window?\n",
    "- Initial answer: `x=200, y=200` (this would be the bottom right)\n",
    "- Correct answer: `x=200, y=0` \n",
    "- For these questions just remember that the x axis is now on top for a *Cartesian coordinate system*"
   ],
   "metadata": {
    "collapsed": false
   },
   "id": "dfb2243078f86fc2"
  },
  {
   "cell_type": "code",
   "execution_count": null,
   "outputs": [],
   "source": [],
   "metadata": {
    "collapsed": false
   },
   "id": "6a88e6b2fc970a18"
  }
 ],
 "metadata": {
  "kernelspec": {
   "display_name": "Python 3",
   "language": "python",
   "name": "python3"
  },
  "language_info": {
   "codemirror_mode": {
    "name": "ipython",
    "version": 2
   },
   "file_extension": ".py",
   "mimetype": "text/x-python",
   "name": "python",
   "nbconvert_exporter": "python",
   "pygments_lexer": "ipython2",
   "version": "2.7.6"
  }
 },
 "nbformat": 4,
 "nbformat_minor": 5
}
