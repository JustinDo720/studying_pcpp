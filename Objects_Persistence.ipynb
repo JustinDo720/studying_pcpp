{
 "cells": [
  {
   "cell_type": "markdown",
   "source": [
    "# Copying Objects using Shallow and Deep Operations\n",
    "\n",
    "- Objects: *Label* vs *Identity* vs *Value* \n",
    "- `id()` function and the is operand \n",
    "- Shallow and Deep copies of the objects"
   ],
   "metadata": {
    "collapsed": false
   },
   "id": "b907c4998718d8d5"
  },
  {
   "cell_type": "code",
   "execution_count": 1,
   "outputs": [
    {
     "name": "stdout",
     "output_type": "stream",
     "text": [
      "10 days to departure 3006270118768\n"
     ]
    }
   ],
   "source": [
    "# we're assigning (reference to) a label (variable) \n",
    "a_list = [1, 'New York', 100] # with an object (could consist of other objects) \n",
    "\n",
    "a_string = '10 days to departure'\n",
    "print(a_string, id(a_string)) # using the id() function gives us the identity of an object "
   ],
   "metadata": {
    "collapsed": false,
    "ExecuteTime": {
     "end_time": "2023-11-16T23:28:18.781654300Z",
     "start_time": "2023-11-16T23:28:18.768400900Z"
    }
   },
   "id": "6899bc4702259f90"
  },
  {
   "cell_type": "markdown",
   "source": [
    "Why do we even use `id()` function?\n",
    "- It's more often used to debug the code \n",
    "- To check our copies are referring to the right object \n",
    "\n"
   ],
   "metadata": {
    "collapsed": false
   },
   "id": "6c81f84b3f6625ca"
  },
  {
   "cell_type": "markdown",
   "source": [
    "**Shallow** vs **Deep** Copies \n",
    "- Shallow refers to the same reference of the object \n",
    "- Deep creates a new instance of that object \n",
    "\n",
    "We could see this with `is` vs `==`:\n",
    "- *is* checks if it refers to the same object or not (referring to the same id()?) \n",
    "- == checks if the values of both operands are equal"
   ],
   "metadata": {
    "collapsed": false
   },
   "id": "7de2ca53334cad80"
  },
  {
   "cell_type": "code",
   "execution_count": 1,
   "outputs": [
    {
     "name": "stdout",
     "output_type": "stream",
     "text": [
      "a_string identity: 1794571522432\n",
      "b_string identity: 1794571522432\n",
      "The result of the value comparison: True\n",
      "The result of the identity comparison: True\n"
     ]
    }
   ],
   "source": [
    "a_string = ['10', 'days', 'to', 'departure']\n",
    "b_string = a_string # Shallow Copy (same list reference in this case) \n",
    "\n",
    "print('a_string identity:', id(a_string))\n",
    "print('b_string identity:', id(b_string))\n",
    "print('The result of the value comparison:', a_string == b_string)\n",
    "print('The result of the identity comparison:', a_string is b_string) # this is true because the id() are the same \n"
   ],
   "metadata": {
    "collapsed": false,
    "ExecuteTime": {
     "end_time": "2023-11-17T16:59:20.831579100Z",
     "start_time": "2023-11-17T16:59:20.825066700Z"
    }
   },
   "id": "b63c07e63aa59ae7"
  },
  {
   "cell_type": "code",
   "execution_count": 2,
   "outputs": [
    {
     "name": "stdout",
     "output_type": "stream",
     "text": [
      "a_string identity: 1794572872704\n",
      "b_string identity: 1794572872768\n",
      "The result of the value comparison: True\n",
      "The result of the identity comparison: False\n"
     ]
    }
   ],
   "source": [
    "a_string = ['10', 'days', 'to', 'departure']\n",
    "b_string = ['10', 'days', 'to', 'departure']\n",
    "\n",
    "print('a_string identity:', id(a_string))\n",
    "print('b_string identity:', id(b_string)) # these two have different id() \n",
    "print('The result of the value comparison:', a_string == b_string) # they are equally the same list\n",
    "print('The result of the identity comparison:', a_string is b_string) # but dont have the same id() which is why is is returning false \n"
   ],
   "metadata": {
    "collapsed": false,
    "ExecuteTime": {
     "end_time": "2023-11-17T17:00:23.863714900Z",
     "start_time": "2023-11-17T17:00:23.852280400Z"
    }
   },
   "id": "e78ee7ef184eb277"
  },
  {
   "cell_type": "code",
   "execution_count": 7,
   "outputs": [
    {
     "name": "stdout",
     "output_type": "stream",
     "text": [
      "a_list contents: [10, 'banana', [997, 123]]\n",
      "b_list contents: [10, 'banana', [997, 123]]\n",
      "Is it the same object? False\n"
     ]
    }
   ],
   "source": [
    "a_list = [10, \"banana\", [997, 123]]\n",
    "b_list = a_list[:] # we get a fresh copy of a_list object using [:] to copy all values during the slice \n",
    "print(\"a_list contents:\", a_list)\n",
    "print(\"b_list contents:\", b_list)\n",
    "print(\"Is it the same object?\", a_list is b_list) # different ids same list object  "
   ],
   "metadata": {
    "collapsed": false,
    "ExecuteTime": {
     "end_time": "2023-11-17T17:08:01.302315300Z",
     "start_time": "2023-11-17T17:08:01.297803300Z"
    }
   },
   "id": "14a08d79754ef615"
  },
  {
   "cell_type": "code",
   "execution_count": 8,
   "outputs": [
    {
     "name": "stdout",
     "output_type": "stream",
     "text": [
      "a_list contents: [10, 'banana', [112, 123]]\n",
      "b_list contents: [10, 'banana', [112, 123]]\n",
      "Is it the same object? False\n"
     ]
    }
   ],
   "source": [
    "# modifying a value in b_list will modify the a_list\n",
    "b_list[2][0] = 112\n",
    "print(\"a_list contents:\", a_list)\n",
    "print(\"b_list contents:\", b_list) # this is an example of shallow copy\n",
    "print(\"Is it the same object?\", a_list is b_list)"
   ],
   "metadata": {
    "collapsed": false,
    "ExecuteTime": {
     "end_time": "2023-11-17T17:08:02.210757100Z",
     "start_time": "2023-11-17T17:08:02.204957500Z"
    }
   },
   "id": "4f642e93eafde76e"
  },
  {
   "cell_type": "code",
   "execution_count": 9,
   "outputs": [
    {
     "name": "stdout",
     "output_type": "stream",
     "text": [
      "a_list contents: [10, 'banana', [997, 123]]\n",
      "b_list contents: [10, 'banana', [997, 123]]\n",
      "Is it the same object? False\n"
     ]
    }
   ],
   "source": [
    "# what about separate copies?\n",
    "import copy \n",
    "a_list = [10, \"banana\", [997, 123]]\n",
    "b_list = copy.deepcopy(a_list) # making a deep copy of all the objects found in the original list \n",
    "print(\"a_list contents:\", a_list)\n",
    "print(\"b_list contents:\", b_list)\n",
    "print(\"Is it the same object?\", a_list is b_list) # we know the ids are different "
   ],
   "metadata": {
    "collapsed": false,
    "ExecuteTime": {
     "end_time": "2023-11-17T17:10:48.005424Z",
     "start_time": "2023-11-17T17:10:47.994540200Z"
    }
   },
   "id": "6b07064b9814016e"
  },
  {
   "cell_type": "code",
   "execution_count": 10,
   "outputs": [
    {
     "name": "stdout",
     "output_type": "stream",
     "text": [
      "a_list contents: [10, 'banana', [997, 123]]\n",
      "b_list contents: [10, 'banana', [112, 123]]\n",
      "Is it the same object? False\n"
     ]
    }
   ],
   "source": [
    "# let's see if modifying b_list will change a_list\n",
    "b_list[2][0] = 112\n",
    "print(\"a_list contents:\", a_list)\n",
    "print(\"b_list contents:\", b_list) # because of the deep copy we have a new reference of the same list\n",
    "print(\"Is it the same object?\", a_list is b_list)"
   ],
   "metadata": {
    "collapsed": false,
    "ExecuteTime": {
     "end_time": "2023-11-17T17:12:04.558620500Z",
     "start_time": "2023-11-17T17:12:04.549621Z"
    }
   },
   "id": "e717bfd251ac7f0a"
  },
  {
   "cell_type": "markdown",
   "source": [
    "### Just a recap of Shallow vs Deep copies\n",
    "\n",
    "*Shallow* just means that we have the same list reference; therefore, if we change the value in one list it will affect the other \n",
    "\n",
    "*Deep* on the other hand, creates a new reference to the same object (as we could use it with dictionaries and custom class too); therefore, if we change the value in one object we don't change the value for the other\n",
    "\n",
    "### Recap of is vs ==:\n",
    "\n",
    "*is* deals with checking the id() while *==* checks the value.\n",
    "\n",
    "Two variables could have the same value (True with *==*) but different `id()` (False with *is*) depending on the assignment of that variable \n",
    "\n",
    "```\n",
    "python\n",
    "\n",
    "# same ids() \n",
    "a_list = ['ele1', 'ele2']\n",
    "b_list = a_list\n",
    "\n",
    "# different ids() \n",
    "b_list = a_list[:]\n",
    "```\n",
    "\n",
    "### It's VERY important to note:\n",
    "\n",
    "Just because something have different ids **DOESNT** mean it's a **deep copy**. That's something i misunderstood...\n",
    "\n",
    "Look at how `b_list = a_list[:]` have difference `id()` yet they're a *shallow copy* given that they refer to the same memory address; therefore, changing one will change the other."
   ],
   "metadata": {
    "collapsed": false
   },
   "id": "4947636ca4d20203"
  },
  {
   "cell_type": "code",
   "execution_count": 14,
   "outputs": [
    {
     "name": "stdout",
     "output_type": "stream",
     "text": [
      "Same memory chunk? False\n",
      "a_dict movies: ['Goldfinger (1964)', 'You Only Live Twice', 'Diamonds Are Forever (1971)']\n",
      "b_dict movies: ['Goldfinger (1964)', 'You Only Live Twice']\n"
     ]
    }
   ],
   "source": [
    "import copy\n",
    "\n",
    "a_dict = {\n",
    "    'first name': 'James',\n",
    "    'last name': 'Bond',\n",
    "    'movies': ['Goldfinger (1964)', 'You Only Live Twice']\n",
    "    }\n",
    "b_dict = copy.deepcopy(a_dict)\n",
    "\n",
    "print('Same memory chunk?', a_dict is b_dict)\n",
    "# Changing a will not affect b\n",
    "a_dict['movies'].append('Diamonds Are Forever (1971)')\n",
    "print('a_dict movies:', a_dict['movies'])\n",
    "print('b_dict movies:', b_dict['movies'])"
   ],
   "metadata": {
    "collapsed": false,
    "ExecuteTime": {
     "end_time": "2023-11-17T17:28:33.045110600Z",
     "start_time": "2023-11-17T17:28:33.041599Z"
    }
   },
   "id": "7ca7dd2df661c79a"
  },
  {
   "cell_type": "code",
   "execution_count": 13,
   "outputs": [
    {
     "name": "stdout",
     "output_type": "stream",
     "text": [
      "Hello from __init__()\n",
      "Same memory chunk? False\n",
      "\n",
      "a_example.properties: ['112', '997']\n",
      "b_example.properties: ['112', '997', '911']\n"
     ]
    }
   ],
   "source": [
    "# look at deepcopies of class variables \n",
    "import copy\n",
    "\n",
    "class Example:\n",
    "    def __init__(self):\n",
    "        self.properties = [\"112\", \"997\"]\n",
    "        print(\"Hello from __init__()\")\n",
    "\n",
    "a_example = Example()\n",
    "# notice how we dont get another __init__ print because the object we're referring to has already been initialized \n",
    "b_example = copy.deepcopy(a_example)\n",
    "print(\"Same memory chunk?\", a_example is b_example)\n",
    "b_example.properties.append('911')\n",
    "print()\n",
    "# again deep copies allow different references because of new instances of the same objects \n",
    "print('a_example.properties:', a_example.properties)\n",
    "print('b_example.properties:', b_example.properties)"
   ],
   "metadata": {
    "collapsed": false,
    "ExecuteTime": {
     "end_time": "2023-11-17T17:24:20.399820700Z",
     "start_time": "2023-11-17T17:24:20.387816900Z"
    }
   },
   "id": "b7337d2395e9c856"
  },
  {
   "cell_type": "markdown",
   "source": [
    "## Pickle Module \n",
    "\n",
    "**Pickling** is the process of extending the lifespan of food\n",
    "\n",
    "We want to extend our python objects through *serialization*\n",
    "\n",
    "**serialization** converts an object structure into bytes containing all of the information to reconstruct that object \n",
    "\n",
    "**Deserialization** would be the opposite \n",
    "\n",
    "The `pickle` module could be used to \"pickle\" your python objects for later use \n",
    "\n",
    "The following types can be pickled:\n",
    "-None, booleans;\n",
    "- integers, floating-point numbers, complex numbers;\n",
    "- strings, bytes, bytearrays;\n",
    "- tuples, lists, sets, and dictionaries containing pickleable objects;\n",
    "- objects, including objects with references to other objects (remember to avoid cycles!)\n",
    "- references to functions and classes, but not their definitions.\n"
   ],
   "metadata": {
    "collapsed": false
   },
   "id": "f8ea139a38f9c011"
  },
  {
   "cell_type": "code",
   "execution_count": 16,
   "outputs": [],
   "source": [
    "import pickle \n",
    "\n",
    "# creating our objects\n",
    "a_dict = dict()\n",
    "a_dict['EUR'] = {'code':'Euro', 'symbol': '€'}\n",
    "a_dict['GBP'] = {'code':'Pounds sterling', 'symbol': '£'}\n",
    "a_dict['USD'] = {'code':'US dollar', 'symbol': '$'}\n",
    "a_dict['JPY'] = {'code':'Japanese yen', 'symbol': '¥'}\n",
    "\n",
    "a_list = ['a', 123, [10, 100, 1000]]\n",
    "\n",
    "# pickling our objects into a file\n",
    "file_loc = 'practice_files/multidata.pckl' # mind the pckl extension \n",
    "# note that we're using write byte mode\n",
    "with open(file_loc, 'wb') as file_out:\n",
    "    pickle.dump(a_list, file_out)\n",
    "    pickle.dump(a_list, file_out)"
   ],
   "metadata": {
    "collapsed": false,
    "ExecuteTime": {
     "end_time": "2023-11-17T17:42:11.239716100Z",
     "start_time": "2023-11-17T17:42:11.231957Z"
    }
   },
   "id": "29b82635fce4c975"
  },
  {
   "cell_type": "code",
   "execution_count": 20,
   "outputs": [
    {
     "name": "stdout",
     "output_type": "stream",
     "text": [
      "['a', 123, [10, 100, 1000]] is a <class 'list'>\n",
      "['a', 123, [10, 100, 1000]] is a <class 'list'>\n"
     ]
    }
   ],
   "source": [
    "with open(file_loc, 'rb') as file_in:\n",
    "    data1 = pickle.load(file_in)\n",
    "    data2 = pickle.load(file_in)\n",
    "\n",
    "print(f'{data1} is a {type(data1)}\\n{data2} is a {type(data2)}') # we could see that it preserved the type of data we serialized"
   ],
   "metadata": {
    "collapsed": false,
    "ExecuteTime": {
     "end_time": "2023-11-17T17:51:10.398510800Z",
     "start_time": "2023-11-17T17:51:10.387744700Z"
    }
   },
   "id": "5188c4fe02351d9"
  },
  {
   "cell_type": "markdown",
   "source": [
    "With our `pickle` module we're focused on two things:\n",
    "- `pickle.dump(data_object, file_destination)`\n",
    "- `pickle.load(bytes_object)`\n",
    "\n",
    "It's similar to the json module "
   ],
   "metadata": {
    "collapsed": false
   },
   "id": "bd419bd6008e6f9e"
  },
  {
   "cell_type": "markdown",
   "source": [
    "Like we said about the pickle module...\n",
    "\n",
    "We that serialized object could be persisted in a db or sent via a network\n",
    "\n",
    "Our `pickel.dumps(data_object, file)` function expects an **initial object** but not a **file** \n",
    "\n",
    "As for our 'pickle.load(bytes_object)` function, we could send a **file object** as an argument but also a normal byte object that we **serialized using dump** "
   ],
   "metadata": {
    "collapsed": false
   },
   "id": "367f73403ef17942"
  },
  {
   "cell_type": "code",
   "execution_count": 22,
   "outputs": [
    {
     "name": "stdout",
     "output_type": "stream",
     "text": [
      "Intermediate object type, used to preserve data: <class 'bytes'>\n"
     ]
    }
   ],
   "source": [
    "# remember pickle was already imported in this ipynb\n",
    "a_list = ['a', 123, [10, 100, 1000]]\n",
    "a_bytes = pickle.dumps(a_list)\n",
    "print('Intermediate object type, used to preserve data:', type(bytes))"
   ],
   "metadata": {
    "collapsed": false,
    "ExecuteTime": {
     "end_time": "2023-11-17T17:58:08.710487300Z",
     "start_time": "2023-11-17T17:58:08.700971400Z"
    }
   },
   "id": "6a1ebfb6e23c7f27"
  },
  {
   "cell_type": "code",
   "execution_count": 23,
   "outputs": [
    {
     "name": "stdout",
     "output_type": "stream",
     "text": [
      "Contents: ['a', 123, [10, 100, 1000]]\n"
     ]
    }
   ],
   "source": [
    "# therefore when you receive a bytes object from an appropriate driver you can deserialize it\n",
    "b_list = pickle.loads(bytes) \n",
    "print('Contents:', b_list)"
   ],
   "metadata": {
    "collapsed": false,
    "ExecuteTime": {
     "end_time": "2023-11-17T18:00:13.077207600Z",
     "start_time": "2023-11-17T18:00:13.023348500Z"
    }
   },
   "id": "89c96a776befc644"
  },
  {
   "cell_type": "markdown",
   "source": [
    "### Expected Pickling Errors \n",
    "\n",
    "`PicklingError` exception will be raised if we pickle a non-pickleable object \n",
    "\n",
    "`RecursionError` for highly recursive data structure \n",
    "\n",
    "`AttributeError` for unrecognizable namespace of your code"
   ],
   "metadata": {
    "collapsed": false
   },
   "id": "5009d3ba2d1e3dfb"
  },
  {
   "cell_type": "code",
   "execution_count": 33,
   "outputs": [
    {
     "name": "stdout",
     "output_type": "stream",
     "text": [
      "<class 'function'>\n",
      "Hello from da jar :D\n"
     ]
    }
   ],
   "source": [
    "# functions are pickleable \n",
    "def f1():\n",
    "    print(\"Hello from da jar :D\") \n",
    "\n",
    "with open('practice_files/function.pckl', 'wb') as file_out:\n",
    "    pickle.dump(f1, file_out)\n",
    " \n",
    "with open('practice_files/function.pckl', 'rb') as file_in:\n",
    "    data = pickle.load(file_in)\n",
    "\n",
    "print(type(data))\n",
    "data()"
   ],
   "metadata": {
    "collapsed": false,
    "ExecuteTime": {
     "end_time": "2023-11-17T18:12:26.754507800Z",
     "start_time": "2023-11-17T18:12:26.741989Z"
    }
   },
   "id": "e1a92b2e078b1572"
  },
  {
   "cell_type": "code",
   "execution_count": 38,
   "outputs": [
    {
     "name": "stdout",
     "output_type": "stream",
     "text": [
      "small\n"
     ]
    }
   ],
   "source": [
    "# pickling a class\n",
    "class Cucumber:\n",
    "    def __init__(self):\n",
    "        self.__size = 'small'\n",
    "        \n",
    "    # encapsulation :D \n",
    "    def get_size(self):\n",
    "        return self.__size\n",
    "\n",
    "cucu = Cucumber()\n",
    "with open('practice_files/cucumber.pckl', 'wb') as file_out:\n",
    "    pickle.dump(cucu, file_out)\n",
    "\n",
    "with open('practice_files/cucumber.pckl', 'rb') as file_in:\n",
    "    data = pickle.load(file_in)\n",
    "\n",
    "print(data.get_size())"
   ],
   "metadata": {
    "collapsed": false,
    "ExecuteTime": {
     "end_time": "2023-11-17T18:13:28.680926200Z",
     "start_time": "2023-11-17T18:13:28.670288200Z"
    }
   },
   "id": "6656abd34a2646d1"
  },
  {
   "cell_type": "markdown",
   "source": [
    "### What about the shelve module?\n",
    "\n",
    "We know that pickling works by changing the serialized data into a single byte stream \n",
    "\n",
    "`Shelve` module works using a **serialization dictionary** where pickled objects are **associated with a key**"
   ],
   "metadata": {
    "collapsed": false
   },
   "id": "6efaea8b886147de"
  },
  {
   "cell_type": "code",
   "execution_count": 42,
   "outputs": [],
   "source": [
    "import shelve\n",
    "\n",
    "shelve_name = 'practice_files/first_shelve.shlv'\n",
    "\n",
    "\"\"\"\n",
    "Shelve has it's own optioanl flag parameter:\n",
    "r = reading only \n",
    "w = reading and writing \n",
    "c = reading, writing and creating if not exist (default value) \n",
    "n = create new database for reading and writing \n",
    "\"\"\"\n",
    "\n",
    "# here our flag is c to show that if not exist we create \n",
    "my_shelve = shelve.open(shelve_name, flag='c')\n",
    "\n",
    "# adding the data to our shelf \n",
    "my_shelve['EUR'] = {'code':'Euro', 'symbol': '€'}\n",
    "my_shelve['GBP'] = {'code':'Pounds sterling', 'symbol': '£'}\n",
    "my_shelve['USD'] = {'code':'US dollar', 'symbol': '$'}\n",
    "my_shelve['JPY'] = {'code':'Japanese yen', 'symbol': '¥'}\n",
    "\n",
    "my_shelve.close()"
   ],
   "metadata": {
    "collapsed": false,
    "ExecuteTime": {
     "end_time": "2023-11-17T18:25:22.421119900Z",
     "start_time": "2023-11-17T18:25:22.411110100Z"
    }
   },
   "id": "78b12f9602ee2dff"
  },
  {
   "cell_type": "code",
   "execution_count": 43,
   "outputs": [
    {
     "name": "stdout",
     "output_type": "stream",
     "text": [
      "{'code': 'US dollar', 'symbol': '$'}\n"
     ]
    }
   ],
   "source": [
    "# open our shelf and access data like a dictionary\n",
    "new_shelve = shelve.open(shelve_name)\n",
    "print(new_shelve['USD'])\n",
    "new_shelve.close()"
   ],
   "metadata": {
    "collapsed": false,
    "ExecuteTime": {
     "end_time": "2023-11-17T18:25:23.839742800Z",
     "start_time": "2023-11-17T18:25:23.829320900Z"
    }
   },
   "id": "a88475cf30635115"
  },
  {
   "cell_type": "markdown",
   "source": [
    "### So tell me how shelves work again?\n",
    "\n",
    "We start by importing the 'shelve' module:\n",
    "`import shelve`\n",
    "\n",
    "To use shelve we mainly use \n",
    "`shelve.open(file, flag='mode')` \n",
    "where mode could be:\n",
    "- r for reading \n",
    "- w for reading and writing \n",
    "- c (default) for reading, writing, and creating new file if it doesnt exist \n",
    "- n for creating a new emptied database for reading and writing \n",
    "\n",
    "Knowing this, lets create our shelve by attaching it to a variable \n",
    "`new_shelve = shelve.open('file.shlv', flag='c')`\n",
    "\n",
    "To add data, treat this as a dictionary:\n",
    "`new_shelve['key'] = dict`\n",
    "\n",
    "Then like other files we close it \n",
    "`new_shelve.close()`\n",
    "\n",
    "To access our data with the shlv file:\n",
    "- we open it using `shelve.open(file.shlv)`\n",
    "- access data based on keys like you could with any dictionary \n",
    "    - `new_shlv['key']`\n",
    "- We close that file \n",
    "    - `new_shelve.close()`\n",
    "\n",
    "   "
   ],
   "metadata": {
    "collapsed": false
   },
   "id": "a65f1978045fecec"
  },
  {
   "cell_type": "markdown",
   "source": [
    "## New File extensions to know \n",
    "- Pickle = pckl \n",
    "- Shelve = shlv"
   ],
   "metadata": {
    "collapsed": false
   },
   "id": "d9919e974d0ce5d5"
  },
  {
   "cell_type": "code",
   "execution_count": null,
   "outputs": [],
   "source": [],
   "metadata": {
    "collapsed": false
   },
   "id": "e8cc1ee98fdd1750"
  }
 ],
 "metadata": {
  "kernelspec": {
   "display_name": "Python 3",
   "language": "python",
   "name": "python3"
  },
  "language_info": {
   "codemirror_mode": {
    "name": "ipython",
    "version": 2
   },
   "file_extension": ".py",
   "mimetype": "text/x-python",
   "name": "python",
   "nbconvert_exporter": "python",
   "pygments_lexer": "ipython2",
   "version": "2.7.6"
  }
 },
 "nbformat": 4,
 "nbformat_minor": 5
}
