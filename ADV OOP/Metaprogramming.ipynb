{
 "cells": [
  {
   "cell_type": "markdown",
   "source": [
    "## Metaclasses \n",
    "- programming technique to modify their own code \n",
    "- code modifications could occur upon code execution \n",
    "\n",
    "**metaclass** usage  \n",
    "- Logging\n",
    "- Register classes at cretion time\n",
    "- interface checking\n",
    "- automatically add \n",
    "    - new methods \n",
    "    - new var"
   ],
   "metadata": {
    "collapsed": false
   },
   "id": "71766eb73fdc246e"
  },
  {
   "cell_type": "code",
   "execution_count": 2,
   "outputs": [
    {
     "name": "stdout",
     "output_type": "stream",
     "text": [
      "<class 'int'>\n",
      "<class 'list'>\n",
      "<class '__main__.Dog'>\n",
      "<class 'type'>\n"
     ]
    }
   ],
   "source": [
    "class Dog:\n",
    "    pass \n",
    "\n",
    "age = 10 \n",
    "codes = [33, 92]\n",
    "dog = Dog() \n",
    "\n",
    "print(type(age))\n",
    "print(type(codes))\n",
    "print(type(dog))\n",
    "print(type(Dog))"
   ],
   "metadata": {
    "collapsed": false,
    "ExecuteTime": {
     "end_time": "2023-11-19T06:20:16.531926Z",
     "start_time": "2023-11-19T06:20:16.527415800Z"
    }
   },
   "id": "3acac3fbb983686a"
  },
  {
   "cell_type": "markdown",
   "source": [
    "### Special class attributes \n",
    "\n",
    "- `__name__` contains name of the class \n",
    "- `__class__` contains information about that class that the instance belongs to \n",
    "- `__bases__` tuple that contains info about the base classes of a class \n",
    "- `__dict__` contains a dictionary of objects attributes\n"
   ],
   "metadata": {
    "collapsed": false
   },
   "id": "96327f1536813969"
  },
  {
   "cell_type": "markdown",
   "source": [
    "With the `type()` function...\n",
    "\n",
    "You could create a new class with **three arguments**\n",
    "- type(class_name, (base), {methods, variables})\n",
    "- "
   ],
   "metadata": {
    "collapsed": false
   },
   "id": "b8b50952fb637bea"
  },
  {
   "cell_type": "code",
   "execution_count": 3,
   "outputs": [
    {
     "name": "stdout",
     "output_type": "stream",
     "text": [
      "The class name is: Dog\n",
      "The class is an instance of: <class 'type'>\n",
      "The class is based on: (<class 'object'>,)\n",
      "The class attributes are: {'__module__': '__main__', '__dict__': <attribute '__dict__' of 'Dog' objects>, '__weakref__': <attribute '__weakref__' of 'Dog' objects>, '__doc__': None}\n"
     ]
    }
   ],
   "source": [
    "Dog = type('Dog', (), {})\n",
    "\n",
    "print('The class name is:', Dog.__name__)\n",
    "print('The class is an instance of:', Dog.__class__)\n",
    "print('The class is based on:', Dog.__bases__)\n",
    "print('The class attributes are:', Dog.__dict__)\n"
   ],
   "metadata": {
    "collapsed": false,
    "ExecuteTime": {
     "end_time": "2023-11-19T06:22:53.750314800Z",
     "start_time": "2023-11-19T06:22:53.743802Z"
    }
   },
   "id": "709768a33758f4eb"
  },
  {
   "cell_type": "code",
   "execution_count": 6,
   "outputs": [
    {
     "name": "stdout",
     "output_type": "stream",
     "text": [
      "The class name is: Dog\n",
      "The class is an instance of: <class 'type'>\n",
      "The class is based on: (<class '__main__.Animal'>,)\n",
      "The class attributes are: {'age': 0, 'bark': <function bark at 0x000001F2297BF560>, '__module__': '__main__', '__doc__': None}\n"
     ]
    }
   ],
   "source": [
    "# creating our methods\n",
    "def bark(self):\n",
    "    print('Woof, woof')\n",
    "\n",
    "# inheriting base class\n",
    "class Animal:\n",
    "    def feed(self):\n",
    "        print('It is feeding time!')\n",
    "\n",
    "# we made a sub class of animal with a properties age and bark \n",
    "Dog = type('Dog', (Animal, ), {'age':0, 'bark':bark})\n",
    "\n",
    "print('The class name is:', Dog.__name__)\n",
    "print('The class is an instance of:', Dog.__class__)\n",
    "print('The class is based on:', Dog.__bases__)\n",
    "print('The class attributes are:', Dog.__dict__)"
   ],
   "metadata": {
    "collapsed": false,
    "ExecuteTime": {
     "end_time": "2023-11-19T06:27:27.990962400Z",
     "start_time": "2023-11-19T06:27:27.980600700Z"
    }
   },
   "id": "615f6ed4ed97360e"
  },
  {
   "cell_type": "code",
   "execution_count": 7,
   "outputs": [
    {
     "name": "stdout",
     "output_type": "stream",
     "text": [
      "Woof, woof\n",
      "It is feeding time!\n"
     ]
    }
   ],
   "source": [
    "muffin = Dog() \n",
    "muffin.bark() \n",
    "muffin.feed()"
   ],
   "metadata": {
    "collapsed": false,
    "ExecuteTime": {
     "end_time": "2023-11-19T06:27:28.798081400Z",
     "start_time": "2023-11-19T06:27:28.793691900Z"
    }
   },
   "id": "9cf7377ea264c5a1"
  },
  {
   "cell_type": "code",
   "execution_count": 10,
   "outputs": [
    {
     "name": "stdout",
     "output_type": "stream",
     "text": [
      "{'__module__': '__main__', '__dict__': <attribute '__dict__' of 'My_Obj' objects>, '__weakref__': <attribute '__weakref__' of 'My_Obj' objects>, '__doc__': None, 'custom_attribute': 'Added by Meta'}\n"
     ]
    }
   ],
   "source": [
    "# metaclasses are classes that are instantiated to get classes \n",
    "\n",
    "class My_Meta(type): # metaclass derives from type \n",
    "    # our own __new__ method\n",
    "    def __new__(mcs, name, bases, dictionary): # mcs are just referring to the class\n",
    "        # calling the genuine function to create a new class \n",
    "        obj = super().__new__(mcs, name, bases, dictionary)\n",
    "        obj.custom_attribute = \"Added by Meta\" # custom c lass attr\n",
    "        return obj \n",
    "\n",
    "class My_Obj(metaclass=My_Meta):\n",
    "    pass\n",
    "\n",
    "print(My_Obj.__dict__) # we could see custom_attribute is there"
   ],
   "metadata": {
    "collapsed": false,
    "ExecuteTime": {
     "end_time": "2023-11-19T06:32:41.661437200Z",
     "start_time": "2023-11-19T06:32:41.651684400Z"
    }
   },
   "id": "e72102baf6dfbb21"
  },
  {
   "cell_type": "code",
   "execution_count": 14,
   "outputs": [
    {
     "name": "stdout",
     "output_type": "stream",
     "text": [
      "just a greeting function, but it could be something more serious\n",
      "We are ready to greet you!\n"
     ]
    }
   ],
   "source": [
    "# say we had to make sure all classes have a function...\n",
    "def greetings(self):\n",
    "    print( \"just a greeting function, but it could be something more serious\")\n",
    "\n",
    "class MyMeta(type):\n",
    "    # making our own __new__ \n",
    "    def __new__(mcs, name, base, dictionary):\n",
    "        # before we run our __new__() function we need to check our dictionary to see if we have the function \n",
    "        if 'greetings' not in dictionary:\n",
    "            dictionary['greetings'] = greetings\n",
    "        # running our __new__() to make the actual class\n",
    "        obj = super().__new__(mcs, name, base, dictionary)\n",
    "        return obj \n",
    "\n",
    "class MyClass1(metaclass=MyMeta):\n",
    "    pass\n",
    "\n",
    "class MyClass2(metaclass=MyMeta):\n",
    "    def greetings(self):\n",
    "        print('We are ready to greet you!') \n",
    "        \n",
    "myobj1 = MyClass1()\n",
    "myobj1.greetings()\n",
    "myobj2 = MyClass2()\n",
    "myobj2.greetings()"
   ],
   "metadata": {
    "collapsed": false,
    "ExecuteTime": {
     "end_time": "2023-11-19T06:39:32.656424500Z",
     "start_time": "2023-11-19T06:39:32.650325400Z"
    }
   },
   "id": "9eb8d797e1b942f4"
  },
  {
   "cell_type": "markdown",
   "source": [
    "### So lets recap about metaclasses \n",
    "\n",
    "When you want to change your classes automatically \n",
    "- metaclasses should help you not decorators \n",
    "- It's still beneficial to learn about them to solve a class type problem\n",
    "\n",
    "Essentially \n",
    "- `type()` is more than just viewing the type of object \n",
    "- when supplied with **3 arguments (class_name, (base), {variable:value})** you end up creating a class\n",
    "- the magic behind this works with type's `__new__(cls, name, base, dictionary)` function\n",
    "- When creating a Meta Class\n",
    "    - figure out what you want to put in your dictionary (an attr, a function etc) \n",
    "    - Figure our the parent class if any and the class name \n",
    "    - Create the Meta Class by inheriting from `type`\n",
    "    - Make your own `__new__` function and make sure you return a `variable = super().__new__(cls, name, base, dictionary)` because you need the `__new__` function to actually create the class \n",
    "    - add your new attribute or functionality \n",
    "    - return the obj \n",
    "    - Go to your new class and set the argument of that class \n",
    "        - `metaclass=MyMeta`"
   ],
   "metadata": {
    "collapsed": false
   },
   "id": "7451e77c318c0428"
  },
  {
   "cell_type": "code",
   "execution_count": null,
   "outputs": [],
   "source": [],
   "metadata": {
    "collapsed": false
   },
   "id": "89263fb9ea655993"
  }
 ],
 "metadata": {
  "kernelspec": {
   "display_name": "Python 3",
   "language": "python",
   "name": "python3"
  },
  "language_info": {
   "codemirror_mode": {
    "name": "ipython",
    "version": 2
   },
   "file_extension": ".py",
   "mimetype": "text/x-python",
   "name": "python",
   "nbconvert_exporter": "python",
   "pygments_lexer": "ipython2",
   "version": "2.7.6"
  }
 },
 "nbformat": 4,
 "nbformat_minor": 5
}
