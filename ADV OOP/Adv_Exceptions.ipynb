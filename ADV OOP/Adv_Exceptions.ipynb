{
 "cells": [
  {
   "cell_type": "markdown",
   "source": [
    "### Advanced Exceptions \n",
    "- short intro to exceptions \n",
    "- Review of named attributes of exception objects \n",
    "- introduction to chained exceptions \n",
    "- analysis of traceback object of each exception "
   ],
   "metadata": {
    "collapsed": false
   },
   "id": "c54b45a6fb1a725e"
  },
  {
   "cell_type": "markdown",
   "source": [
    "### Exception - short intro \n",
    "\n",
    "An exception:\n",
    "- Stops your program\n",
    "- creates a special data called an exception (an object) \n",
    "\n",
    "We usually *raise* an exception \n",
    "- expects someone to notice and take care of it \n",
    "- program **forcibly terminated** and theres an error msg output \n",
    "- if **handled** properly, the program will resume and execution can continue \n",
    "\n",
    "Python tools allow us to **observe exceptions, identify them and handle them**"
   ],
   "metadata": {
    "collapsed": false
   },
   "id": "812503f7c838a0e1"
  },
  {
   "cell_type": "code",
   "execution_count": 2,
   "outputs": [
    {
     "name": "stdout",
     "output_type": "stream",
     "text": [
      "(\"invalid literal for int() with base 10: 'a'\",)\n"
     ]
    }
   ],
   "source": [
    "# Exception handling - try and except block \n",
    "try:\n",
    "    print(int('a')) \n",
    "except ValueError as e_var: # variable set to this exception \n",
    "    print(e_var.args) # args present all the arguments in the variables exception instance "
   ],
   "metadata": {
    "collapsed": false,
    "ExecuteTime": {
     "end_time": "2023-11-15T04:42:29.249159500Z",
     "start_time": "2023-11-15T04:42:29.242644500Z"
    }
   },
   "id": "7829d0ef542b0b90"
  },
  {
   "cell_type": "code",
   "execution_count": 3,
   "outputs": [
    {
     "name": "stdout",
     "output_type": "stream",
     "text": [
      "(\"No module named 'asdasd'\",) asdasd None\n"
     ]
    }
   ],
   "source": [
    "# importing a wrong module will bring up an importerror \n",
    "try:\n",
    "    import asdasd\n",
    "except ImportError as e:\n",
    "    print(e.args, e.name, e.path) # args = arguments & name = name of the module & path = path to any file which triggered the exception "
   ],
   "metadata": {
    "collapsed": false,
    "ExecuteTime": {
     "end_time": "2023-11-15T04:44:28.586133500Z",
     "start_time": "2023-11-15T04:44:28.571433600Z"
    }
   },
   "id": "1e5782f064535cba"
  },
  {
   "cell_type": "markdown",
   "source": [
    "Something like `UnicodeError` has attributes such as \n",
    "- **encoding** -> name of the encoding raised \n",
    "- **reason** -> specific codec error \n",
    "- **object** -> obj codec was attempting to encode or decode \n",
    "- **start** -> first index of invalid data \n",
    "- **end** -> index after the last invalid data"
   ],
   "metadata": {
    "collapsed": false
   },
   "id": "89d48409b0d11f5f"
  },
  {
   "cell_type": "code",
   "execution_count": 4,
   "outputs": [
    {
     "name": "stdout",
     "output_type": "stream",
     "text": [
      "'utf-8' codec can't decode byte 0x80 in position 0: invalid start byte\n",
      "utf-8\n",
      "invalid start byte\n",
      "b'\\x80'\n",
      "0\n",
      "1\n"
     ]
    }
   ],
   "source": [
    "try:\n",
    "    b'\\x80'.decode(\"utf-8\")\n",
    "except UnicodeError as e:\n",
    "    print(e)\n",
    "    print(e.encoding)\n",
    "    print(e.reason)\n",
    "    print(e.object)\n",
    "    print(e.start)\n",
    "    print(e.end)"
   ],
   "metadata": {
    "collapsed": false,
    "ExecuteTime": {
     "end_time": "2023-11-15T04:48:35.636310Z",
     "start_time": "2023-11-15T04:48:35.621298800Z"
    }
   },
   "id": "ecfba7d27bbebd9b"
  },
  {
   "cell_type": "markdown",
   "source": [
    "### Chained Exceptions\n",
    "\n",
    "Chaining Concept includes:\n",
    "- the `__context__` attr for implicitly chained exception and `__cause__` attr for explicitly chained exception"
   ],
   "metadata": {
    "collapsed": false
   },
   "id": "68548488d0bbcbff"
  },
  {
   "cell_type": "code",
   "execution_count": 11,
   "outputs": [
    {
     "name": "stdout",
     "output_type": "stream",
     "text": [
      "Inner exception (f): division by zero\n",
      "Outer exception (e): list index out of range\n",
      "Outer exception referenced: list index out of range\n",
      "Is it the same object: True\n"
     ]
    }
   ],
   "source": [
    "a_list = ['First error', 'Second error']\n",
    "\n",
    "try:\n",
    "    print(a_list[3])\n",
    "except Exception as e:\n",
    "    try:\n",
    "    # the following line is a developer mistake - they wanted to print progress as 1/10\tbut wrote 1/0\n",
    "        print(1 / 0)\n",
    "    except ZeroDivisionError as f:\n",
    "        print('Inner exception (f):', f)\n",
    "        print('Outer exception (e):', e)\n",
    "        print('Outer exception referenced:', f.__context__) # the context is referencing the original exception object e \n",
    "        print('Is it the same object:', f.__context__ is e) # thats why this is true"
   ],
   "metadata": {
    "collapsed": false,
    "ExecuteTime": {
     "end_time": "2023-11-15T05:02:41.281088300Z",
     "start_time": "2023-11-15T05:02:41.274361300Z"
    }
   },
   "id": "8d155307fa497a0e"
  },
  {
   "cell_type": "code",
   "execution_count": 12,
   "outputs": [
    {
     "name": "stdout",
     "output_type": "stream",
     "text": [
      "Final check procedure\n",
      "\tThe captain's name is John\n",
      "\tThe pilot's name is Mary\n",
      "\tThe mechanic's name is Mike\n"
     ]
    },
    {
     "ename": "RocketNetReadyErr",
     "evalue": "Crew not complete",
     "output_type": "error",
     "traceback": [
      "\u001B[1;31m---------------------------------------------------------------------------\u001B[0m",
      "\u001B[1;31mIndexError\u001B[0m                                Traceback (most recent call last)",
      "Cell \u001B[1;32mIn[12], line 10\u001B[0m, in \u001B[0;36mpersonnel_check\u001B[1;34m()\u001B[0m\n\u001B[0;32m      9\u001B[0m     \u001B[38;5;28mprint\u001B[39m(\u001B[38;5;124m\"\u001B[39m\u001B[38;5;130;01m\\t\u001B[39;00m\u001B[38;5;124mThe mechanic\u001B[39m\u001B[38;5;124m'\u001B[39m\u001B[38;5;124ms name is\u001B[39m\u001B[38;5;124m\"\u001B[39m, crew[\u001B[38;5;241m2\u001B[39m])\n\u001B[1;32m---> 10\u001B[0m     \u001B[38;5;28mprint\u001B[39m(\u001B[38;5;124m\"\u001B[39m\u001B[38;5;130;01m\\t\u001B[39;00m\u001B[38;5;124mThe navigator\u001B[39m\u001B[38;5;124m'\u001B[39m\u001B[38;5;124ms name is\u001B[39m\u001B[38;5;124m\"\u001B[39m, \u001B[43mcrew\u001B[49m\u001B[43m[\u001B[49m\u001B[38;5;241;43m3\u001B[39;49m\u001B[43m]\u001B[49m)\n\u001B[0;32m     11\u001B[0m \u001B[38;5;28;01mexcept\u001B[39;00m \u001B[38;5;167;01mIndexError\u001B[39;00m \u001B[38;5;28;01mas\u001B[39;00m e:\n",
      "\u001B[1;31mIndexError\u001B[0m: list index out of range",
      "\nThe above exception was the direct cause of the following exception:\n",
      "\u001B[1;31mRocketNetReadyErr\u001B[0m                         Traceback (most recent call last)",
      "Cell \u001B[1;32mIn[12], line 17\u001B[0m\n\u001B[0;32m     14\u001B[0m crew \u001B[38;5;241m=\u001B[39m [\u001B[38;5;124m'\u001B[39m\u001B[38;5;124mJohn\u001B[39m\u001B[38;5;124m'\u001B[39m, \u001B[38;5;124m'\u001B[39m\u001B[38;5;124mMary\u001B[39m\u001B[38;5;124m'\u001B[39m, \u001B[38;5;124m'\u001B[39m\u001B[38;5;124mMike\u001B[39m\u001B[38;5;124m'\u001B[39m]\n\u001B[0;32m     15\u001B[0m \u001B[38;5;28mprint\u001B[39m(\u001B[38;5;124m'\u001B[39m\u001B[38;5;124mFinal check procedure\u001B[39m\u001B[38;5;124m'\u001B[39m)\n\u001B[1;32m---> 17\u001B[0m \u001B[43mpersonnel_check\u001B[49m\u001B[43m(\u001B[49m\u001B[43m)\u001B[49m\n",
      "Cell \u001B[1;32mIn[12], line 12\u001B[0m, in \u001B[0;36mpersonnel_check\u001B[1;34m()\u001B[0m\n\u001B[0;32m     10\u001B[0m     \u001B[38;5;28mprint\u001B[39m(\u001B[38;5;124m\"\u001B[39m\u001B[38;5;130;01m\\t\u001B[39;00m\u001B[38;5;124mThe navigator\u001B[39m\u001B[38;5;124m'\u001B[39m\u001B[38;5;124ms name is\u001B[39m\u001B[38;5;124m\"\u001B[39m, crew[\u001B[38;5;241m3\u001B[39m])\n\u001B[0;32m     11\u001B[0m \u001B[38;5;28;01mexcept\u001B[39;00m \u001B[38;5;167;01mIndexError\u001B[39;00m \u001B[38;5;28;01mas\u001B[39;00m e:\n\u001B[1;32m---> 12\u001B[0m     \u001B[38;5;28;01mraise\u001B[39;00m RocketNetReadyErr(\u001B[38;5;124m'\u001B[39m\u001B[38;5;124mCrew not complete\u001B[39m\u001B[38;5;124m'\u001B[39m) \u001B[38;5;28;01mfrom\u001B[39;00m \u001B[38;5;21;01me\u001B[39;00m\n",
      "\u001B[1;31mRocketNetReadyErr\u001B[0m: Crew not complete"
     ]
    }
   ],
   "source": [
    "# Explicitly Chained Exceptions \n",
    "class RocketNetReadyErr(Exception):\n",
    "    pass \n",
    "\n",
    "def personnel_check():\n",
    "    try:\n",
    "        print(\"\\tThe captain's name is\", crew[0])\n",
    "        print(\"\\tThe pilot's name is\", crew[1])\n",
    "        print(\"\\tThe mechanic's name is\", crew[2])\n",
    "        print(\"\\tThe navigator's name is\", crew[3])\n",
    "    except IndexError as e:\n",
    "        raise RocketNetReadyErr('Crew not complete') from e # concerting an exception object to another exception object \n",
    "    \n",
    "crew = ['John', 'Mary', 'Mike']\n",
    "print('Final check procedure')\n",
    "\n",
    "personnel_check()"
   ],
   "metadata": {
    "collapsed": false,
    "ExecuteTime": {
     "end_time": "2023-11-15T05:05:35.238121600Z",
     "start_time": "2023-11-15T05:05:35.194891300Z"
    }
   },
   "id": "2fbd61b9d9cf00b8"
  },
  {
   "cell_type": "code",
   "execution_count": 14,
   "outputs": [
    {
     "name": "stdout",
     "output_type": "stream",
     "text": [
      "\tThe captain's name is John\n",
      "\tThe pilot's name is Mary\n",
      "\tThe mechanic's name is Mike\n",
      "General exception: \"Crew not complete\", caused by \"list index out of range\"\n",
      "list index out of range\n"
     ]
    }
   ],
   "source": [
    "try:\n",
    "    personnel_check()\n",
    "except RocketNetReadyErr as f: # excepting the Error Directly \n",
    "    # we're using the __cause__ attribute for explicitly seeing the exception \n",
    "    print('General exception: \"{}\", caused by \"{}\"'.format(f, f.__cause__))\n",
    "    print(f.__context__)\n"
   ],
   "metadata": {
    "collapsed": false,
    "ExecuteTime": {
     "end_time": "2023-11-15T05:18:46.018342100Z",
     "start_time": "2023-11-15T05:18:46.009826100Z"
    }
   },
   "id": "cdce447a1b01476f"
  },
  {
   "cell_type": "code",
   "execution_count": 15,
   "outputs": [
    {
     "name": "stdout",
     "output_type": "stream",
     "text": [
      "Final check procedure\n",
      "\tThe captain's name is John\n",
      "\tThe pilot's name is Mary\n",
      "\tThe mechanic's name is Mike\n",
      "RocketNotReady exception: \"Crew not complete\", caused by \"list index out of range\"\n",
      "RocketNotReady exception: \"Problem with fuel gauge\", caused by \"division by zero\"\n"
     ]
    }
   ],
   "source": [
    "def fuel_check():\n",
    "    try:\n",
    "        print('Fuel tank is full in {}%'.format(100 / 0))\n",
    "    except ZeroDivisionError as e:\n",
    "        raise RocketNetReadyErr('Problem with fuel gauge') from e\n",
    "\n",
    "crew = ['John', 'Mary', 'Mike']\n",
    "fuel = 100\n",
    "check_list = [personnel_check, fuel_check]\n",
    "print('Final check procedure')\n",
    "\n",
    "for check in check_list:\n",
    "    try:\n",
    "        check() # note that check var is referencing the function\n",
    "    except RocketNetReadyErr as f:\n",
    "        # because of polymorphism we could have multiple RocketNotReady Exceptions\n",
    "        print('RocketNotReady exception: \"{}\", caused by \"{}\"'.format(f, f.__cause__))"
   ],
   "metadata": {
    "collapsed": false,
    "ExecuteTime": {
     "end_time": "2023-11-15T05:22:20.684124300Z",
     "start_time": "2023-11-15T05:22:20.652545700Z"
    }
   },
   "id": "b230f2d8d72b69bb"
  },
  {
   "cell_type": "code",
   "execution_count": 19,
   "outputs": [
    {
     "name": "stdout",
     "output_type": "stream",
     "text": [
      "Final check procedure\n",
      "\tThe captain's name is John\n",
      "\tThe pilot's name is Mary\n",
      "\tThe mechanic's name is Mike\n",
      "<traceback object at 0x000001BB07538C80>\n",
      "<class 'traceback'>\n",
      "\n",
      "Traceback Details\n",
      "  File \"C:\\Users\\justi\\AppData\\Local\\Temp\\ipykernel_5436\\3615339854.py\", line 9, in <module>\n",
      "    personnel_check()\n",
      "\n",
      "  File \"C:\\Users\\justi\\AppData\\Local\\Temp\\ipykernel_5436\\4059215711.py\", line 12, in personnel_check\n",
      "    raise RocketNetReadyErr('Crew not complete') from e\n"
     ]
    }
   ],
   "source": [
    "# Looking at the traceback attribute\n",
    "import traceback\n",
    "\n",
    "crew = ['John', 'Mary', 'Mike']\n",
    "\n",
    "print('Final check procedure')\n",
    "\n",
    "try:\n",
    "    personnel_check()\n",
    "except RocketNetReadyErr as f:\n",
    "    print(f.__traceback__) # we have the traceback details \n",
    "    print(type(f.__traceback__))\n",
    "    \n",
    "    print('\\nTraceback Details')\n",
    "    details = traceback.format_tb(f.__traceback__) # we throw in the traceback object into format_tb \n",
    "    print('\\n'.join(details))\n",
    "\n"
   ],
   "metadata": {
    "collapsed": false,
    "ExecuteTime": {
     "end_time": "2023-11-15T05:28:51.231110600Z",
     "start_time": "2023-11-15T05:28:51.222102600Z"
    }
   },
   "id": "648ba3873435ef64"
  },
  {
   "cell_type": "code",
   "execution_count": null,
   "outputs": [],
   "source": [],
   "metadata": {
    "collapsed": false
   },
   "id": "26d966031f262bca"
  }
 ],
 "metadata": {
  "kernelspec": {
   "display_name": "Python 3",
   "language": "python",
   "name": "python3"
  },
  "language_info": {
   "codemirror_mode": {
    "name": "ipython",
    "version": 2
   },
   "file_extension": ".py",
   "mimetype": "text/x-python",
   "name": "python",
   "nbconvert_exporter": "python",
   "pygments_lexer": "ipython2",
   "version": "2.7.6"
  }
 },
 "nbformat": 4,
 "nbformat_minor": 5
}
