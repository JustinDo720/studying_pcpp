{
 "cells": [
  {
   "cell_type": "markdown",
   "source": [
    "# Tkinter widgets are created by *constructors*\n",
    "\n",
    "The first argument of the constructor is the **master widget**:\n",
    "`widget = Widget(master, option, ...)`\n",
    "- Master is usually the *window* but it could be a *Frame* or *LabelFrame*\n",
    "\n",
    "All widgets fall into two categories:\n",
    "- *clickable* and *non-clickable*\n",
    "\n",
    "---\n",
    "\n",
    "### Recap on Button properties\n",
    "- `command` is the **callback**\n",
    "- `justify` is the inner text *(LEFT, CENTER, RIGHT)*\n",
    "- `state` deals with *DISABLED*, *Normal* and *Active*\n",
    "\n",
    "### Some Button Properties\n",
    "- `flash()` lets the button *flash* a few times without changing state \n",
    "- `invoke()` deals with activating *callback* and this is the **only way** to invoke a callback *explicitly*\n",
    "\n",
    "---"
   ],
   "metadata": {
    "collapsed": false
   },
   "id": "a15dc19035daca50"
  },
  {
   "cell_type": "code",
   "execution_count": 2,
   "outputs": [],
   "source": [
    "import tkinter as tk\n",
    "\n",
    "\n",
    "def switch():\n",
    "    # Like we saw, our button has a \"state\" property \n",
    "    if button_1.cget('state') == tk.DISABLED:\n",
    "        # Change it back to normal (toggling)\n",
    "        button_1.config(state=tk.NORMAL)\n",
    "        button_1.flash()\n",
    "    else:\n",
    "        # Disabling if our button is Normal\n",
    "        button_1.flash()\n",
    "        button_1.config(state=tk.DISABLED)\n",
    "\n",
    "\n",
    "def mouseover(ev):\n",
    "    button_1['bg'] = 'green'\n",
    "\n",
    "\n",
    "def mouseout(ev):\n",
    "    button_1['bg'] = 'red'\n",
    "\n",
    "\n",
    "window = tk.Tk()\n",
    "button_1 = tk.Button(window, text=\"Enabled\", bg=\"red\")\n",
    "# Based on other events, we could change the color of the button if its hovered Over or Off\n",
    "button_1.bind(\"<Enter>\", mouseover)\n",
    "button_1.bind(\"<Leave>\", mouseout)\n",
    "button_1.pack()\n",
    "\n",
    "# This allows use to switch our buttons explicitly using the Switch callback\n",
    "button_2 = tk.Button(window, text=\"Enable/Disable\", command=switch)\n",
    "button_2.pack()\n",
    "window.mainloop()\n"
   ],
   "metadata": {
    "collapsed": false,
    "ExecuteTime": {
     "end_time": "2023-12-07T06:17:51.512147700Z",
     "start_time": "2023-12-07T06:15:13.729129900Z"
    }
   },
   "id": "bba794ccdc1bd078"
  },
  {
   "cell_type": "markdown",
   "source": [
    "---\n",
    "\n",
    "## CheckButton is a two-state switch for *yes/no* items\n",
    "\n",
    "**CheckButton Properties**\n",
    "- `bd` for the frame width\n",
    "- `command` for the callback\n",
    "- `justify and state` are like button \n",
    "- `variable` to like to an observable variable (1 or 0 value)\n",
    "- `offvalue` is the non-default value if the box is *not* checked\n",
    "- `onvalue` is the non-default value if the box is checked\n",
    "\n",
    "**CheckButton Method**\n",
    "- `deselect()` unchecks the widget \n",
    "- `flash()` and `invoke()` are the same for Button \n",
    "- `select()` checks the widget \n",
    "- `toggle()` **toggles** the widget to the opposite value\n",
    "\n",
    "---\n",
    "\n",
    "`checkbutton = tk.Checkbutton(window, text=\"tick\", variable=switch, command=callback)`\n",
    "Each time this button is check, there's a callback command that happens like:\n",
    "`lambda : counter +=1` and you could have a messagebox button that reveals the value of `variable` as it will change based on the tick factor\n",
    "\n",
    "---"
   ],
   "metadata": {
    "collapsed": false
   },
   "id": "913b5b7d81d61d95"
  },
  {
   "cell_type": "markdown",
   "source": [
    "## RadioButtons could be grouped up and one of them is *selected*\n",
    "\n",
    "Every **two** radiobuttons must have **different** observable variables because they belong to different groups \n",
    "\n",
    "**Radiobutton** Properties:\n",
    "- `command` is the callback\n",
    "- `justify`, `state` and `variable` are the same as *CheckButton*\n",
    "- `value` is the unique identifier for the button \n",
    "\n",
    "**Radiobutton** Methods:\n",
    "- `deselect()`, `flash()` and `invoke()` is the same for *CheckButton*\n",
    "- `select()` would check the widget\n",
    "\n",
    "```python\n",
    "radio_1_var = tk.IntVar()\n",
    "radio_1_1 = tk.Radiobutton(window, text=\"pizza\", variable=radio_1_var, value=1, command=command_1)\n",
    "radio_1_1.select()\n",
    "radio_1_1.pack()\n",
    "radio_1_2 = tk.Radiobutton(window, text=\"clams\", variable=radio_1_var, value=2, command=command_1)\n",
    "radio_1_2.pack()\n",
    "radio_2_var = tk.IntVar()\n",
    "radio_2_1 = tk.Radiobutton(window, text=\"FR\", variable=radio_2_var, value=2, command=command_2)\n",
    "radio_2_1.pack()\n",
    "radio_2_2 = tk.Radiobutton(window, text=\"IT\", variable=radio_2_var, value=1, command=command_2)\n",
    "radio_2_2.select()\n",
    "radio_2_2.pack()\n",
    "```"
   ],
   "metadata": {
    "collapsed": false
   },
   "id": "71a16f3c09af7e0c"
  },
  {
   "cell_type": "code",
   "execution_count": null,
   "outputs": [],
   "source": [],
   "metadata": {
    "collapsed": false
   },
   "id": "3ac392587fb7b5c"
  },
  {
   "cell_type": "code",
   "execution_count": null,
   "outputs": [],
   "source": [],
   "metadata": {
    "collapsed": false
   },
   "id": "d7c2a84556e65537"
  },
  {
   "cell_type": "code",
   "execution_count": null,
   "outputs": [],
   "source": [],
   "metadata": {
    "collapsed": false
   },
   "id": "5de384730c47ae9a"
  },
  {
   "cell_type": "code",
   "execution_count": null,
   "outputs": [],
   "source": [],
   "metadata": {
    "collapsed": false
   },
   "id": "c7813eafd477870"
  },
  {
   "cell_type": "code",
   "execution_count": null,
   "outputs": [],
   "source": [],
   "metadata": {
    "collapsed": false
   },
   "id": "e3abba17b0244bd4"
  },
  {
   "cell_type": "code",
   "execution_count": null,
   "outputs": [],
   "source": [],
   "metadata": {
    "collapsed": false
   },
   "id": "e58ace48c01873"
  },
  {
   "cell_type": "code",
   "execution_count": null,
   "outputs": [],
   "source": [],
   "metadata": {
    "collapsed": false
   },
   "id": "6443e88b88723805"
  }
 ],
 "metadata": {
  "kernelspec": {
   "display_name": "Python 3",
   "language": "python",
   "name": "python3"
  },
  "language_info": {
   "codemirror_mode": {
    "name": "ipython",
    "version": 2
   },
   "file_extension": ".py",
   "mimetype": "text/x-python",
   "name": "python",
   "nbconvert_exporter": "python",
   "pygments_lexer": "ipython2",
   "version": "2.7.6"
  }
 },
 "nbformat": 4,
 "nbformat_minor": 5
}
