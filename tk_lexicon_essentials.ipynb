{
 "cells": [
  {
   "cell_type": "markdown",
   "source": [
    "# Tkinter widgets are created by *constructors*\n",
    "\n",
    "The first argument of the constructor is the **master widget**:\n",
    "`widget = Widget(master, option, ...)`\n",
    "- Master is usually the *window* but it could be a *Frame* or *LabelFrame*\n",
    "\n",
    "All widgets fall into two categories:\n",
    "- *clickable* and *non-clickable*\n",
    "\n",
    "---\n",
    "\n",
    "### Recap on Button properties\n",
    "- `command` is the **callback**\n",
    "- `justify` is the inner text *(LEFT, CENTER, RIGHT)*\n",
    "- `state` deals with *DISABLED*, *Normal* and *Active*\n",
    "\n",
    "### Some Button Properties\n",
    "- `flash()` lets the button *flash* a few times without changing state \n",
    "- `invoke()` deals with activating *callback* and this is the **only way** to invoke a callback *explicitly*\n",
    "\n",
    "---"
   ],
   "metadata": {
    "collapsed": false
   },
   "id": "a15dc19035daca50"
  },
  {
   "cell_type": "code",
   "execution_count": 2,
   "outputs": [],
   "source": [
    "import tkinter as tk\n",
    "\n",
    "\n",
    "def switch():\n",
    "    # Like we saw, our button has a \"state\" property \n",
    "    if button_1.cget('state') == tk.DISABLED:\n",
    "        # Change it back to normal (toggling)\n",
    "        button_1.config(state=tk.NORMAL)\n",
    "        button_1.flash()\n",
    "    else:\n",
    "        # Disabling if our button is Normal\n",
    "        button_1.flash()\n",
    "        button_1.config(state=tk.DISABLED)\n",
    "\n",
    "\n",
    "def mouseover(ev):\n",
    "    button_1['bg'] = 'green'\n",
    "\n",
    "\n",
    "def mouseout(ev):\n",
    "    button_1['bg'] = 'red'\n",
    "\n",
    "\n",
    "window = tk.Tk()\n",
    "button_1 = tk.Button(window, text=\"Enabled\", bg=\"red\")\n",
    "# Based on other events, we could change the color of the button if its hovered Over or Off\n",
    "button_1.bind(\"<Enter>\", mouseover)\n",
    "button_1.bind(\"<Leave>\", mouseout)\n",
    "button_1.pack()\n",
    "\n",
    "# This allows use to switch our buttons explicitly using the Switch callback\n",
    "button_2 = tk.Button(window, text=\"Enable/Disable\", command=switch)\n",
    "button_2.pack()\n",
    "window.mainloop()\n"
   ],
   "metadata": {
    "collapsed": false,
    "ExecuteTime": {
     "end_time": "2023-12-07T06:17:51.512147700Z",
     "start_time": "2023-12-07T06:15:13.729129900Z"
    }
   },
   "id": "bba794ccdc1bd078"
  },
  {
   "cell_type": "markdown",
   "source": [
    "---\n",
    "\n",
    "## CheckButton is a two-state switch for *yes/no* items\n",
    "\n",
    "**CheckButton Properties**\n",
    "- `bd` for the frame width\n",
    "- `command` for the callback\n",
    "- `justify and state` are like button \n",
    "- `variable` to like to an observable variable (1 or 0 value)\n",
    "- `offvalue` is the non-default value if the box is *not* checked\n",
    "- `onvalue` is the non-default value if the box is checked\n",
    "\n",
    "**CheckButton Method**\n",
    "- `deselect()` unchecks the widget \n",
    "- `flash()` and `invoke()` are the same for Button \n",
    "- `select()` checks the widget \n",
    "- `toggle()` **toggles** the widget to the opposite value\n",
    "\n",
    "---\n",
    "\n",
    "`checkbutton = tk.Checkbutton(window, text=\"tick\", variable=switch, command=callback)`\n",
    "Each time this button is check, there's a callback command that happens like:\n",
    "`lambda : counter +=1` and you could have a messagebox button that reveals the value of `variable` as it will change based on the tick factor\n",
    "\n",
    "---"
   ],
   "metadata": {
    "collapsed": false
   },
   "id": "913b5b7d81d61d95"
  },
  {
   "cell_type": "markdown",
   "source": [
    "## RadioButtons could be grouped up and one of them is *selected*\n",
    "\n",
    "Every **two** radiobuttons must have **different** observable variables because they belong to different groups \n",
    "\n",
    "**Radiobutton** Properties:\n",
    "- `command` is the callback\n",
    "- `justify`, `state` and `variable` are the same as *CheckButton*\n",
    "- `value` is the unique identifier for the button \n",
    "\n",
    "**Radiobutton** Methods:\n",
    "- `deselect()`, `flash()` and `invoke()` is the same for *CheckButton*\n",
    "- `select()` would check the widget\n",
    "\n",
    "```python\n",
    "radio_1_var = tk.IntVar()\n",
    "radio_1_1 = tk.Radiobutton(window, text=\"pizza\", variable=radio_1_var, value=1, command=command_1)\n",
    "radio_1_1.select()\n",
    "radio_1_1.pack()\n",
    "radio_1_2 = tk.Radiobutton(window, text=\"clams\", variable=radio_1_var, value=2, command=command_1)\n",
    "radio_1_2.pack()\n",
    "radio_2_var = tk.IntVar()\n",
    "radio_2_1 = tk.Radiobutton(window, text=\"FR\", variable=radio_2_var, value=2, command=command_2)\n",
    "radio_2_1.pack()\n",
    "radio_2_2 = tk.Radiobutton(window, text=\"IT\", variable=radio_2_var, value=1, command=command_2)\n",
    "radio_2_2.select()\n",
    "radio_2_2.pack()\n",
    "```"
   ],
   "metadata": {
    "collapsed": false
   },
   "id": "71a16f3c09af7e0c"
  },
  {
   "cell_type": "markdown",
   "source": [
    "## Non-clickable widgets\n",
    "\n",
    "These are to present **textual** information that doesn't have a `command` property but rather uses `bind()` for events \n",
    "\n",
    "\n",
    "### Labels is a part of the non-clickable widgets that provide *textual* information\n",
    "\n",
    "**Label Properties**:\n",
    "- `text` is a string shown\n",
    "- `textvariable` binded to a `StringVar` observational variable \n",
    "\n",
    "**Label has no specific methods** but you could update the label using `textvariable`\n",
    "\n",
    "```python\n",
    "text = tk.StringVar()\n",
    "label = tk.Label(tk.TK(), textvariable=text, height=4)\n",
    "text.set(\"New String\")\n",
    "label.pack()\n",
    "```\n",
    "\n",
    "---\n",
    "\n",
    "### Message is similar to label (same properties) but format the text differently\n",
    "\n",
    "**Message Properties**\n",
    "- `text` is the string shown\n",
    "- `textvariabled` bound to `StringVar`"
   ],
   "metadata": {
    "collapsed": false
   },
   "id": "40e9150e83639cb2"
  },
  {
   "cell_type": "code",
   "execution_count": 3,
   "outputs": [],
   "source": [
    "import tkinter as tk\n",
    "\n",
    "\n",
    "def do_it_again():\n",
    "    text.set(text.get() + \"and again...\")\n",
    "\n",
    "\n",
    "window = tk.Tk()\n",
    "button = tk.Button(window, text=\"Go ahead!\", command=do_it_again)   # Will automatically change the text\n",
    "button.pack()\n",
    "text = tk.StringVar()\n",
    "message = tk.Message(window, textvariable=text, width=400)  # The size will increase the overall geometry window\n",
    "text.set(\"You did it again... \") \n",
    "message.pack()\n",
    "window.mainloop()"
   ],
   "metadata": {
    "collapsed": false,
    "ExecuteTime": {
     "end_time": "2023-12-08T21:41:47.102637100Z",
     "start_time": "2023-12-08T21:40:58.321787Z"
    }
   },
   "id": "d7c2a84556e65537"
  },
  {
   "cell_type": "markdown",
   "source": [
    "---\n",
    "\n",
    "## Frames are widgets that is a *container* \n",
    "\n",
    "They're used to separate a **rectangular part** of the window (treat as *local window*). Frames use it's own **coordinate system** so when placing *widgets* make sure to *work with the FRAMES upper-left corner&*\n",
    "\n",
    "**Frame properties**:\n",
    "- `takefocus` - normally frames dont take focus but if you want it to just set the value to 1\n",
    "\n",
    "```python\n",
    "frame_1 = tk.Frame(window, width=200, height=100, bg='white')\n",
    "frame_2 = tk.Frame(window, width=200, height=100, bg='yellow')\n",
    "\n",
    "button_1_1 = tk.Button(frame_1, text=\"Button #1 inside Frame #1\")\n",
    "button_1_2 = tk.Button(frame_2, text=\"Button #1 inside Frame #2\")\n",
    "\n",
    "button_1_1.place(x=10, y=10)\n",
    "button_1_2.place(x=10, y=10)\n",
    "\n",
    "frame_1.pack()\n",
    "frame_2.pack()\n",
    "```\n",
    "\n",
    "---\n",
    "\n",
    "### LabelFrame is  enriched frame with *visible border* and *title*\n",
    "\n",
    "**LabelFrame Properties**\n",
    "- `takefocus` is the same for Frames \n",
    "- `text` is the title\n",
    "- `labelanchor` is the titles location (quasi-compass)\n",
    "\n",
    "```python\n",
    "label_frame_1 = tk.LabelFrame(window, text=\"Frame #1\",\n",
    "                              width=200, height=100, bg='white')\n",
    "\n",
    "button_1_1 = tk.Button(label_frame_1, text=\"Button #1 inside Frame #1\")\n",
    "button_1_1.place(x=10, y=10)\n",
    "label_frame_1.pack()\n",
    "```\n",
    "---"
   ],
   "metadata": {
    "collapsed": false
   },
   "id": "ee6ea50b988be449"
  },
  {
   "cell_type": "markdown",
   "source": [
    "### Entry widget is used to interact with the user by obtaining necessary information to *edit* their experience\n",
    "\n",
    "**Entry properties**\n",
    "- `show` will display a character inside the input field e.g `show='*'` to protect password fields\n",
    "- `state` is the same for button *(Disabled, active, normal)*\n",
    "- `textvariable` is bound to `StringVar` to obtain information \n",
    "- `width` deals with the fields within\n",
    "\n",
    "**Entry Methods**\n",
    "- `trace(mode, callback)` will work with *tracer functions* for observable variable \n",
    "- `get()` returns the current input field as a string \n",
    "- `set(s)` sets the input field's content with the s string\n",
    "- `delete(first,last=None)` deletes index string based on first and last ranges \n",
    "- `insert(index, s)` will insert the s string into index "
   ],
   "metadata": {
    "collapsed": false
   },
   "id": "d87e48f246832614"
  },
  {
   "cell_type": "code",
   "execution_count": 5,
   "outputs": [],
   "source": [
    "import tkinter as tk\n",
    "\n",
    "\n",
    "def digits_only(*args):\n",
    "    global last_string\n",
    "    string = text.get() # Grabbing the text and checking its' value\n",
    "    if string == '' or string.isdigit():  # Field's content is valid.\n",
    "        last_string = string\n",
    "    else:\n",
    "        text.set(last_string)\n",
    "\n",
    "\n",
    "last_string = ''\n",
    "window = tk.Tk()\n",
    "# Creating that text variable for our Entry input field\n",
    "text = tk.StringVar()\n",
    "entry = tk.Entry(window, textvariable=text)\n",
    "text.set(last_string)\n",
    "\n",
    "# Trace callback to force users to enter in digits only \n",
    "# Note that this tracer will be invoked each time the input field is modified\n",
    "text.trace('w', digits_only)    # Remember 'w' means to write (using set() function)\n",
    "entry.pack()\n",
    "entry.focus_set()\n",
    "window.mainloop()"
   ],
   "metadata": {
    "collapsed": false,
    "ExecuteTime": {
     "end_time": "2023-12-08T22:14:08.143182400Z",
     "start_time": "2023-12-08T22:14:03.400202700Z"
    }
   },
   "id": "e3abba17b0244bd4"
  },
  {
   "cell_type": "markdown",
   "source": [
    "### Menus is a horizontal bar that contains options (items or entries)\n",
    "\n",
    "These *options* have **hot-keys** to access selected operations with a keyboard *Alt-hotkey*\n",
    "\n",
    "**Selecting a menu's options** causes *two effects*\n",
    "- **launches** a callback bound to the option \n",
    "- **unrolls** a new menu (sub menu)\n",
    "\n",
    "To **create** a menu:\n",
    "- **create** a top-level menu obj\n",
    "- **embed** inside window \n",
    "- **bind** a number of required submenus(**cascade**) or connect to callback"
   ],
   "metadata": {
    "collapsed": false
   },
   "id": "690d64faa138e7af"
  },
  {
   "cell_type": "code",
   "execution_count": 7,
   "outputs": [],
   "source": [
    "import tkinter as tk\n",
    "from tkinter import messagebox\n",
    "\n",
    "\n",
    "def about_app():\n",
    "    messagebox.showinfo(\"App\", \"The application\\nthat does nothing\")\n",
    "\n",
    "\n",
    "window = tk.Tk()\n",
    "\n",
    "# main menu creation\n",
    "main_menu = tk.Menu(window)\n",
    "window.config(menu=main_menu)\n",
    "\n",
    "# 1st main menu item: an empty (as far) submenu\n",
    "sub_menu_file = tk.Menu(main_menu)\n",
    "main_menu.add_cascade(label=\"File\", menu=sub_menu_file)\n",
    "\n",
    "# 2nd main menu item: a simple callback\n",
    "sub_menu_help = tk.Menu(main_menu)\n",
    "main_menu.add_command(label=\"About...\", command=about_app)\n",
    "\n",
    "window.mainloop()"
   ],
   "metadata": {
    "collapsed": false,
    "ExecuteTime": {
     "end_time": "2023-12-08T22:55:49.310425500Z",
     "start_time": "2023-12-08T22:54:29.071153300Z"
    }
   },
   "id": "e58ace48c01873"
  },
  {
   "cell_type": "markdown",
   "source": [
    "Let's run through this code above:\n",
    "- We *imported* and created the *window*\n",
    "- The Main window menu was created using:\n",
    "    - `main_menu = tk.Menu(window)` *creating that main menu widget object*\n",
    "    - `window.config(menu=main_menu)` *embedding into main window* \n",
    "- Started creating the **cascade** the *submenu objects*\n",
    "    - `sub_menu_file = tk.Menu(main_menu)` we see that our Menu widget is **part of a Main Menu widget** \n",
    "    - `main_menu.add_cascade(label='File', menu=sub_menu_file)` **added cascade** where we set the menu to our newly created sub-menu\n",
    "- We could also make a menu item that runs a callback \n",
    "    - `sub_menu_help = tk.Menu(main_menu)` again, we create that menu item and place it inside our **Main Menu Widget**\n",
    "    - `main_menu.add_command(label=\"About...\", command=about_app)` **added command** by binding our menu item with a callback\n",
    "\n",
    "---\n",
    "\n",
    "Now to *navigate* this menu you could use *Alt* to bring up your active menu then use your *cursor keys* and press *Enter* to use the menu item's functionality \n",
    "\n",
    "However, we mentioned before about **hot-keys** so let's implement them to do *Alt-hotkey*\n",
    "```python\n",
    "# Creating that main_menu \n",
    "main_menu = tk.Menu(window) # We need a menu object to embed in our window\n",
    "window.config(menu=main_menu)\n",
    "\n",
    "# Sub menu file \n",
    "sub_file = tk.Menu(main_menu)   # We're adding this to our main menu instead of the window\n",
    "# When we use underline, that String value will become our hotkey\n",
    "main_menu.add_cascade(label='File', menu=sub_file, underline=0) # \"F\" is the 0 index of File which now means we could access File tab with \"Alt-F\"\n",
    "```\n",
    "\n",
    "---\n",
    "\n",
    "**Tear-off** are common like the one in our File cascade\n",
    "- to get rid of them just do `sub_menu_file = tk.Menu(main_menu, tearoff=0)` when creating that *main menu to embed in our window*\n",
    "\n",
    "---\n",
    "\n",
    "Given a *menu item* we could continuously add items with `sub_menu_file.add_command()` and it's up to you\n",
    "- Just remember *two things*\n",
    "    - `main_menu.add_cascade(label, menu, underline)` - for a sub-menu\n",
    "    - `main_menu.add_command(label, command, underline)` - to link to a callback\n",
    "- You could also use `sub_menu.separator()` to do something similar to `<hr>` in your menu\n",
    "    - `main_menu = tk.Menu(window)`\n",
    "    - `window.config(menu=main_menu)`\n",
    "    - `sub_menu = tk.Menu(main_menu)`\n",
    "    - `main_menu.add_cascade(label='Sub Menu', menu=sub_menu, underline=0)`\n",
    "    - `sub_menu.add_command(label=\"C1\", command=callback)`\n",
    "    - `sub_menu.add_separtor()`\n",
    "    - `sub_menu.add_command(label=\"C2\", command=callback2)`\n",
    "- When adding cascades, you could *cascade* a **cascade**\n",
    "    - `main_menu = tk.Menu(window)`\n",
    "    - `sub_menu = tk.Menu(main_menu)`\n",
    "    - `main_menu.add_cascade(label='File', menu=sub_menu)`\n",
    "    -  `another_sub_menu = tk.Menu(sub_menu)`\n",
    "    - `sub_menu.add_cascade(another_sub_menu)`\n",
    "\n",
    "---\n",
    "\n"
   ],
   "metadata": {
    "collapsed": false
   },
   "id": "a6a3e5d034ff509"
  },
  {
   "cell_type": "code",
   "execution_count": 8,
   "outputs": [],
   "source": [],
   "metadata": {
    "collapsed": false,
    "ExecuteTime": {
     "end_time": "2023-12-08T23:06:52.942796700Z",
     "start_time": "2023-12-08T23:06:47.861670100Z"
    }
   },
   "id": "3818210b8f4169ea"
  },
  {
   "cell_type": "code",
   "execution_count": null,
   "outputs": [],
   "source": [],
   "metadata": {
    "collapsed": false
   },
   "id": "35f9ea87958841a9"
  },
  {
   "cell_type": "code",
   "execution_count": null,
   "outputs": [],
   "source": [],
   "metadata": {
    "collapsed": false
   },
   "id": "fdc03b092c15fc51"
  },
  {
   "cell_type": "code",
   "execution_count": null,
   "outputs": [],
   "source": [],
   "metadata": {
    "collapsed": false
   },
   "id": "fa7d3d6de3767147"
  },
  {
   "cell_type": "code",
   "execution_count": null,
   "outputs": [],
   "source": [],
   "metadata": {
    "collapsed": false
   },
   "id": "38cb89edd31c84a3"
  }
 ],
 "metadata": {
  "kernelspec": {
   "display_name": "Python 3",
   "language": "python",
   "name": "python3"
  },
  "language_info": {
   "codemirror_mode": {
    "name": "ipython",
    "version": 2
   },
   "file_extension": ".py",
   "mimetype": "text/x-python",
   "name": "python",
   "nbconvert_exporter": "python",
   "pygments_lexer": "ipython2",
   "version": "2.7.6"
  }
 },
 "nbformat": 4,
 "nbformat_minor": 5
}
