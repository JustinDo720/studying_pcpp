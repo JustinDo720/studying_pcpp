{
 "cells": [
  {
   "cell_type": "markdown",
   "source": [
    "# RESTful API Quiz \n",
    "\n",
    "## Initial Score: *90%*\n",
    "\n",
    "---\n",
    "\n",
    "1) **An IP4 address consist of?**\n",
    "- *Correct Answer & My Answer*: 32 bits\n",
    "2) **what's the tuple in `sock.connect((srvaddr, 80))`**\n",
    "- *Correct Answer & My Answer*: necessary as the invocation's arg is a tuple\n",
    "3) **Json is in fact**\n",
    "- *Correct Answer & My Answer*: UTF text\n",
    "4) **None in Python is the same as what in JSON**\n",
    "- *Correct Answer & My Answer*: null\n",
    "5) **An object of any class**\n",
    "- *Correct Answer & NOT My Answer*: is either JSON-serializable by default or can be turned into such an obj \n",
    "6) **XML comments**\n",
    "- *Correct Answer & My Answer*: `<!-- -->`\n",
    "7) **3000 in `requests.get('http://localhost:3000')` is?**\n",
    "- *Correct Answer & My Answer*: server port number \n",
    "8) **`requests.delete(url)` is?**\n",
    "- *Correct Answer & My Answer*: **resource** should be deleted from the server\n",
    "9) **Updating a resource is what HTTP method?**\n",
    "- *Correct Answer & My Answer*: `PUT`\n",
    "10) **Additional parameters are placed inside one URI sep by what?**\n",
    "- *Correct Answer & My Answer*: & "
   ],
   "metadata": {
    "collapsed": false
   },
   "id": "3c721a010997c061"
  },
  {
   "cell_type": "code",
   "execution_count": null,
   "outputs": [],
   "source": [],
   "metadata": {
    "collapsed": false
   },
   "id": "b9d5fb63e27603e7"
  }
 ],
 "metadata": {
  "kernelspec": {
   "display_name": "Python 3",
   "language": "python",
   "name": "python3"
  },
  "language_info": {
   "codemirror_mode": {
    "name": "ipython",
    "version": 2
   },
   "file_extension": ".py",
   "mimetype": "text/x-python",
   "name": "python",
   "nbconvert_exporter": "python",
   "pygments_lexer": "ipython2",
   "version": "2.7.6"
  }
 },
 "nbformat": 4,
 "nbformat_minor": 5
}
