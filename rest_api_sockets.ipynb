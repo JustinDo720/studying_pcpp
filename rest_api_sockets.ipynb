{
 "cells": [
  {
   "cell_type": "markdown",
   "source": [
    "# Fetching a document from a server using Python\n",
    "\n",
    "Here's the goal:\n",
    "- **write a program that reads address of WWW site**\n",
    "- **fetches the root doc**\n",
    "- **outputs the document** and **uses TCP to connect to HTTP server**\n",
    "\n",
    "---\n",
    "\n",
    "## We start with importing our socket standard library \n",
    "\n",
    "We could import this *standard library* without having to install anything:\n",
    "`import socket`\n",
    "\n",
    "## Next we need to look for the name of our HTTP server \n",
    "`serv_addr = input(\"Server Name: \")`\n",
    "This could be the **domain name of the server** (everything after *http://*)\n",
    "- or the **IP address of the server**; however, *there can be more than one HTTP server located on the same IP address*\n",
    "\n",
    "## The Socket module helps the *TCP/IP* work and act as a *carrier for REST*\n",
    "- using the `socket.socket(socket.AF_INET, socket.SOCK_STREAM)` \n",
    "- We create an object of a class\n",
    "    - There are two arguments  \n",
    "        - *domain code* which has `AF_INET` to **specify the internet socket domain** \n",
    "                - (UNIX and INET)\n",
    "        - *socket type code* `SOCK_STREAM` symbol to **specify a high-level socket**  that *acts as a character device* (handling single characters)\n",
    "    - **TCP protocol is the default socket configuration** you need to use a different constructor syntax if you want a different protocol like UDP\n",
    "\n",
    "## Connecting to a sever \n",
    "- after creating our *socket object* we need to use the `sock.connect((server_addr, 80))`\n",
    "- this method tries to connect to the *specified address* and *port/service number* \n",
    "    - you noticed that it is passed as a *tuple* that's  because the *target service address* is **specific for the INET domain** \n",
    "- `80` (the *port/service number*) is necessary because the internet browser will try to connect to port number *80* by default\n",
    "\n",
    "## The *GET* method \n",
    "\n",
    "HTTP protocol deals with *WWW* sites and the *conversations* consist of **requests(sent by client)** and **responses(sent by server)**\n",
    "- There are acceptable requests **words** that indicate the **request method** like `GET` \n",
    "- `GET`\n",
    "    - has the name of the resource the client wants to receive a single slash and ends with `\\r\\n`\n",
    "    - it also has the Host name (the name of the site)\n",
    "    - then we have connection for parameters like `close` which forces the server to close when the request is finished \n",
    "    - then we have an empty line a **request terminator**\n",
    "\n",
    "## Requesting a document from a server \n",
    "\n",
    "The `socket.send()` is a difficult function because it doesn't accept strings but rather bytes so we use `b` and `bytes()` prefix and function respectively. \n",
    "\n",
    "`\"GET / HTTP/1.1\\r\\n HOST: \" + bytes(server_add, \"utf8\") + b\"\\r\\nConnection: close\\r\\n\\r\\n\")\"`\n",
    "- Remember that GET info this we're using this in byte form for send\n",
    "\n",
    "So our code so be something like this:\n",
    "\n",
    "```python\n",
    "import socket\n",
    "\n",
    "server_addr = input(\"What server do you want to connect to? \")\n",
    "sock = socket.socket(socket.AF_INET, socket.SOCK_STREAM)\n",
    "sock.connect((server_addr, 80))\n",
    "sock.send(b\"GET / HTTP/1.1\\r\\nHost: \" +\n",
    "          bytes(server_addr, \"utf8\") +\n",
    "          b\"\\r\\nConnection: close\\r\\n\\r\\n\")\n",
    "```\n",
    "\n",
    "The `recv(10000)` method is waiting to receive the *bytes* data where it takes in the *length* of acceptable data\n",
    "\n",
    "## After Opening and Receiving data, we need to close the connection\n",
    "\n",
    "Using `sock.shutdown(socket.SHUT_RDWR)` we could silent our server\n",
    "- `socket.SHUT_RD` is not reading the servers messages anymore \n",
    "- `socket.SHUT_WR` we won't request/ask the server for anything \n",
    "- `socket.SHUT_RDWR` is the combination \n",
    "\n",
    "However to fully close this portal we use `sock.close()` in addition to shutdown \n",
    " \n",
    "## Textual representation of any object \n",
    "\n",
    "We use `repr()` function to see the text presentation. So if we have a `replay = sock.recv(10000)` we could do `repr(reply)` to see the object\n",
    "\n",
    "## What to expect?\n",
    "\n",
    "We have two separate parts \n",
    "- the first is the response header with `200` being success \n",
    "- the document \n",
    "\n",
    "## Expected Error?\n",
    "\n",
    "a `socket.gaierror` will show up from the low-level function `getaddrinfo()` and our `connect()` function uses that as well\n",
    "- but an error `Name or service not known` and `Connection refused` are two different things...\n",
    "    - a problem with a non-existent service name \n",
    "    - a problem with a different port \n",
    "\n",
    "the `socket.timeout` exception will run a `settimeout()` if the server's reaction doesnt occur in a reasonable time"
   ],
   "metadata": {
    "collapsed": false
   },
   "id": "2649d6728cbafd56"
  },
  {
   "cell_type": "code",
   "execution_count": null,
   "outputs": [],
   "source": [],
   "metadata": {
    "collapsed": false
   },
   "id": "3a92d03f34f88226"
  },
  {
   "cell_type": "code",
   "execution_count": null,
   "outputs": [],
   "source": [],
   "metadata": {
    "collapsed": false
   },
   "id": "df89b94e3e0e03f7"
  },
  {
   "cell_type": "code",
   "execution_count": null,
   "outputs": [],
   "source": [],
   "metadata": {
    "collapsed": false
   },
   "id": "a5be5b43e581ca48"
  },
  {
   "cell_type": "code",
   "execution_count": null,
   "outputs": [],
   "source": [],
   "metadata": {
    "collapsed": false
   },
   "id": "2f48266912f58914"
  },
  {
   "cell_type": "code",
   "execution_count": null,
   "outputs": [],
   "source": [],
   "metadata": {
    "collapsed": false
   },
   "id": "f321b43668a2bf7c"
  }
 ],
 "metadata": {
  "kernelspec": {
   "display_name": "Python 3",
   "language": "python",
   "name": "python3"
  },
  "language_info": {
   "codemirror_mode": {
    "name": "ipython",
    "version": 2
   },
   "file_extension": ".py",
   "mimetype": "text/x-python",
   "name": "python",
   "nbconvert_exporter": "python",
   "pygments_lexer": "ipython2",
   "version": "2.7.6"
  }
 },
 "nbformat": 4,
 "nbformat_minor": 5
}
