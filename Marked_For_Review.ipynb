{
 "cells": [
  {
   "cell_type": "markdown",
   "source": [
    "# After finishing all exams, we marked some for review...\n",
    "\n",
    "\n",
    "## Practice Test 1 Reviews:\n",
    "\n",
    "### Which of the following are the strengths of Tkinter? (Select two answers.)\n",
    "- Extensibility \n",
    "    - Many extensions which is concerning to speed  \n",
    "- Cross Platform \n",
    "    - Mac, Windows and Unix \n",
    "\n",
    "---\n",
    "\n",
    "### Chained Exceptions \n",
    "- `__cause__` attr is sometimes None \n",
    "    - When None it means there are no explicit cause for the exception \n",
    "- Implicit chained in `__context__` is shown if `__cause__` is None and `__supress_context__` is false\n",
    "    - We know the first part since implicit deals with `__context__` and it will be shown if there's no explicit (`__cause__`) and `__supress_context__` is false \n",
    "\n",
    "---"
   ],
   "metadata": {
    "collapsed": false
   },
   "id": "a570873e78a255ad"
  },
  {
   "cell_type": "markdown",
   "source": [],
   "metadata": {
    "collapsed": false
   },
   "id": "a1a72cbe24fdaaca"
  },
  {
   "cell_type": "markdown",
   "source": [
    "## Practice Test 2 Reviews:\n",
    "\n",
    "### Select all true statements about coping objects in Python. (Select two answers.)\n",
    "- Difference in Shallow and Deep copying is relevant to compound objects (nested)\n",
    "    - Shallow creates a new obj but not for elements within the original object (copies references to the elements) \n",
    "    - Deep copy creates new object and recursively copies all elements within the element object \n",
    "        - Both of these are important when working with compound objects to ensure changes do not affect the original object \n",
    "- Two problems exist with deep copy that doesnt exist with shallow \n",
    "    - Circular reference where it may fall into an infinite loop to copy all objects \n",
    "    - Some objects cannot be deep copied like `__copy__()` and `__deepcopy__()` methods\n",
    "\n",
    "---\n",
    "\n",
    "### When creating custom logging handlers, what do you need to define?\n",
    "- Only the handler \n",
    "    - Custom logging handlers are responsible to determine how long records are handled. These can be defined by the handler itself `custom_handler = MyCustomHandler()` and `custom_handler.setLevel(logging.INFO)`. With that handler we could set a format `custom_handler.setFormatter(formatter)` and after all we must add our custom handler to the logger `logger.addHandler(custom_handler)`\n",
    "\n",
    "---\n",
    "\n",
    "### Select all true statements about protocols. (Select two answers.)\n",
    "- TCP uses internet Protocol to transfer data from one end to another\n",
    "    - TCP is a connection protocol and uses internet protocol. \n",
    "- UDP does not ensure delivery to correct destination and does not generate any acknowledgement of sender's data \n",
    "    - Connectionless that doesnt ensure delivery. It's an unreliable protocol\n",
    "\n",
    "---"
   ],
   "metadata": {
    "collapsed": false
   },
   "id": "3064cafe123c24fe"
  },
  {
   "cell_type": "markdown",
   "source": [
    "## Practice Test 3 \n",
    "\n",
    "## What is the purpose of using transaction demarcation in database operations?\n",
    "- to group SQL statements into a single unit or work \n",
    "    - a Transaction is a single unit of work that ensures all statements are executed together and either all succeed or none take effect \n",
    "\n",
    "---\n",
    "\n",
    "## HTTP status codes are issued by a server in response to a client request. From the given status code series, identify the incorrect definition:\n",
    "- 2xx Error \n",
    "    - 1xx is Informational response that the request was received and understood\n",
    "    - 2xx shows that the request was received, understood and accepted\n",
    "    - 3xx shows clients take additional action to complete request (Redirection)\n",
    "    - 4xx intended to see client errors \n",
    "    - 5xx Server fails to fulfill request \n",
    "\n",
    "---\n",
    "\n",
    "## What is the difference between socket.send() and socket.sendall()?\n",
    "- `socket.sendall()` returns None on success \n",
    "    - if error will raise exception but it sends the data until all data has been sent or error occurs  \n",
    "- `socket.send()` returns a number of Bytes sent successfully \n",
    "    - has two arguments and returns the number of bytes \n",
    "\n",
    "---\n",
    "\n",
    "## The tree is a hierarchical structure of elements starting with the root followed by other elements. Each element is created by using Element() function of this module.\n",
    "- The type of object for attrib attribute is a **dictionary**\n",
    "    - `print(type(e.attrib))` will return `<class 'dict'>`\n",
    "\n",
    "---\n",
    "\n",
    "```python\n",
    "class NegativeNumberError(Exception):\n",
    "    pass\n",
    " \n",
    "def calculate_square_root(x):\n",
    "    if x < 0:\n",
    "        raise NegativeNumberError(\"Cannot calculate square root of a negative number.\")\n",
    "    return x ** 0.5\n",
    " \n",
    "try:\n",
    "    result = calculate_square_root(-9)\n",
    "    print(\"Square root:\", result)\n",
    "except NegativeNumberError as e:\n",
    "    raise ValueError(\"Invalid input\") from e\n",
    "```\n",
    " \n",
    "This will bring up `Error:NegativeNumberError and ValueError` because our custom exception is raised during a negative number situation. In the Try except we **explicitly** raised a `ValueError` because we have that **from** keyword. The ValueError with the message \"Invalid Input\" will raise first then with traceback will have the original **implicit** exception `NegativeNumberError`\n",
    "\n",
    "---\n"
   ],
   "metadata": {
    "collapsed": false
   },
   "id": "2bbfa46ed20874cd"
  },
  {
   "cell_type": "code",
   "execution_count": null,
   "outputs": [],
   "source": [],
   "metadata": {
    "collapsed": false
   },
   "id": "c8b1b1238ea6fe14"
  },
  {
   "cell_type": "code",
   "execution_count": null,
   "outputs": [],
   "source": [],
   "metadata": {
    "collapsed": false
   },
   "id": "a6aba18e5519cb28"
  }
 ],
 "metadata": {
  "kernelspec": {
   "display_name": "Python 3",
   "language": "python",
   "name": "python3"
  },
  "language_info": {
   "codemirror_mode": {
    "name": "ipython",
    "version": 2
   },
   "file_extension": ".py",
   "mimetype": "text/x-python",
   "name": "python",
   "nbconvert_exporter": "python",
   "pygments_lexer": "ipython2",
   "version": "2.7.6"
  }
 },
 "nbformat": 4,
 "nbformat_minor": 5
}
