{
 "cells": [
  {
   "cell_type": "markdown",
   "source": [
    "# After finishing all exams, we marked some for review...\n",
    "\n",
    "\n",
    "## Practice Test 1 Reviews:\n",
    "\n",
    "### Which of the following are the strengths of Tkinter? (Select two answers.)\n",
    "- Extensibility \n",
    "    - Many extensions which is concerning to speed  \n",
    "- Cross Platform \n",
    "    - Mac, Windows and Unix \n",
    "\n",
    "---\n",
    "\n",
    "### Chained Exceptions \n",
    "- `__cause__` attr is sometimes None \n",
    "    - When None it means there are no explicit cause for the exception \n",
    "- Implicit chained in `__context__` is shown if `__cause__` is None and `__supress_context__` is false\n",
    "    - We know the first part since implicit deals with `__context__` and it will be shown if there's no explicit (`__cause__`) and `__supress_context__` is false \n",
    "\n",
    "---"
   ],
   "metadata": {
    "collapsed": false
   },
   "id": "a570873e78a255ad"
  },
  {
   "cell_type": "markdown",
   "source": [],
   "metadata": {
    "collapsed": false
   },
   "id": "a1a72cbe24fdaaca"
  },
  {
   "cell_type": "markdown",
   "source": [
    "## Practice Test 2 Reviews:\n",
    "\n",
    "### Select all true statements about coping objects in Python. (Select two answers.)\n",
    "- Difference in Shallow and Deep copying is relevant to compound objects (nested)\n",
    "    - Shallow creates a new obj but not for elements within the original object (copies references to the elements) \n",
    "    - Deep copy creates new object and recursively copies all elements within the element object \n",
    "        - Both of these are important when working with compound objects to ensure changes do not affect the original object \n",
    "- Two problems exist with deep copy that doesnt exist with shallow \n",
    "    - Circular reference where it may fall into an infinite loop to copy all objects \n",
    "    - Some objects cannot be deep copied like `__copy__()` and `__deepcopy__()` methods\n",
    "\n",
    "---\n",
    "\n",
    "### When creating custom logging handlers, what do you need to define?\n",
    "- Only the handler \n",
    "    - Custom logging handlers are responsible to determine how long records are handled. These can be defined by the handler itself `custom_handler = MyCustomHandler()` and `custom_handler.setLevel(logging.INFO)`. With that handler we could set a format `custom_handler.setFormatter(formatter)` and after all we must add our custom handler to the logger `logger.addHandler(custom_handler)`\n",
    "\n",
    "---\n",
    "\n",
    "### Select all true statements about protocols. (Select two answers.)\n",
    "- TCP uses internet Protocol to transfer data from one end to another\n",
    "    - TCP is a connection protocol and uses internet protocol. \n",
    "- UDP does not ensure delivery to correct destination and does not generate any acknowledgement of sender's data \n",
    "    - Connectionless that doesnt ensure delivery. It's an unreliable protocol\n",
    "\n",
    "---"
   ],
   "metadata": {
    "collapsed": false
   },
   "id": "3064cafe123c24fe"
  },
  {
   "cell_type": "markdown",
   "source": [
    "## Practice Test 3 \n",
    "\n",
    "## What is the purpose of using transaction demarcation in database operations?\n",
    "- to group SQL statements into a single unit or work \n",
    "    - a Transaction is a single unit of work that ensures all statements are executed together and either all succeed or none take effect \n",
    "\n",
    "---\n",
    "\n",
    "## HTTP status codes are issued by a server in response to a client request. From the given status code series, identify the incorrect definition:\n",
    "- 2xx Error \n",
    "    - 1xx is Informational response that the request was received and understood\n",
    "    - 2xx shows that the request was received, understood and accepted\n",
    "    - 3xx shows clients take additional action to complete request (Redirection)\n",
    "    - 4xx intended to see client errors \n",
    "    - 5xx Server fails to fulfill request \n",
    "\n",
    "---\n",
    "\n",
    "## What is the difference between socket.send() and socket.sendall()?\n",
    "- `socket.sendall()` returns None on success \n",
    "    - if error will raise exception but it sends the data until all data has been sent or error occurs  \n",
    "- `socket.send()` returns a number of Bytes sent successfully \n",
    "    - has two arguments and returns the number of bytes \n",
    "\n",
    "---\n",
    "\n",
    "## The tree is a hierarchical structure of elements starting with the root followed by other elements. Each element is created by using Element() function of this module.\n",
    "- The type of object for attrib attribute is a **dictionary**\n",
    "    - `print(type(e.attrib))` will return `<class 'dict'>`\n",
    "\n",
    "---\n",
    "\n",
    "```python\n",
    "class NegativeNumberError(Exception):\n",
    "    pass\n",
    " \n",
    "def calculate_square_root(x):\n",
    "    if x < 0:\n",
    "        raise NegativeNumberError(\"Cannot calculate square root of a negative number.\")\n",
    "    return x ** 0.5\n",
    " \n",
    "try:\n",
    "    result = calculate_square_root(-9)\n",
    "    print(\"Square root:\", result)\n",
    "except NegativeNumberError as e:\n",
    "    raise ValueError(\"Invalid input\") from e\n",
    "```\n",
    " \n",
    "This will bring up `Error:NegativeNumberError and ValueError` because our custom exception is raised during a negative number situation. In the Try except we **explicitly** raised a `ValueError` because we have that **from** keyword. The ValueError with the message \"Invalid Input\" will raise first then with traceback will have the original **implicit** exception `NegativeNumberError`\n",
    "\n",
    "---\n"
   ],
   "metadata": {
    "collapsed": false
   },
   "id": "2bbfa46ed20874cd"
  },
  {
   "cell_type": "markdown",
   "source": [
    "# Practice test 4\n",
    "\n",
    "## Informational PEP \n",
    "- Describes Python Design issues and provide general guidelines or information to the Python community. It does not propose a new feature. \n",
    "    - Since it's based off Python community consensus you are free to ignore Informational PEP.\n",
    "\n",
    "---\n",
    "\n",
    "## Formatters and Custom Handlers?\n",
    "- Formatters are used to control the format of log messages, including their structure and content \n",
    "- Custom Handlers can define how log messages are processed (sending to a specific location)\n",
    "    - it's recommended to use these two where formatters allow you to control the structure and content of log messages while handlers allow you to define how log messages are processed and where they are sent to \n",
    "\n",
    "---\n",
    "\n",
    "## DTD (Document Type Definition) are\n",
    "- made up of several building blocks \n",
    "    - elements (main building block), attributes (extra info about elements), PCDATA (parsed character data) and CDATA (character data) \n",
    "- internal and external\n",
    "    - both require `<!DOCTYPE>` but internal is specified right on the xml document and external is where doctype reference to the DTD file\n",
    "\n",
    "---\n",
    "\n",
    "```python\n",
    "import json\n",
    "r = \"\"\n",
    "print(json.dumps(r))\n",
    "```\n",
    "\n",
    "We thought it was `None` but with an empty string the output will be an empty string since in json it looks like `\"\\\"\\\"\"`\n",
    "\n",
    "Similar to \n",
    "\n",
    "```python\n",
    "import json\n",
    "jsonData = 'true'\n",
    "jsonToPython = json.loads(jsonData)\n",
    "print(type(jsonToPython))\n",
    "```\n",
    "\n",
    "We thought it was `true` but it takes it and converts it to `True` in python which the is a **bool** type \n",
    "\n",
    "---\n",
    "\n",
    "## Removing a frame on Tkinter \n",
    "\n",
    "`frame.forgot()` not `frame.detach()`\n",
    "\n",
    "---"
   ],
   "metadata": {
    "collapsed": false
   },
   "id": "2539a0c3ee56f372"
  },
  {
   "cell_type": "markdown",
   "source": [
    "# Practice Test 5 \n",
    "\n",
    "## Standards Track \n",
    "- Describes a new feature or implementation for Python\n",
    "\n",
    "---\n",
    "\n",
    "## Python Closures\n",
    "- Python Closure (close over) is a function that allows us to access variables of the outer function\n",
    "    - functions that capture and retain access to variables from enclosing scope\n",
    "- Closures can be used to avoid global values and provide data hiding \n",
    "\n",
    "---\n",
    "\n",
    "## Service ports\n",
    "- 80 is an HTTP \n",
    "- 21 is for FTP \n",
    "- 53 is for Domain\n",
    "\n",
    "---\n",
    "\n",
    "```python\n",
    "import json\n",
    "pythonVariable= None\n",
    "variableToJson = json.dumps(pythonVariable)\n",
    "print(variableToJson)\n",
    "```\n",
    "\n",
    "Since it's a python None and we're serializing it becomes a **null** value.\n",
    "\n"
   ],
   "metadata": {
    "collapsed": false
   },
   "id": "2c496803267e99ce"
  },
  {
   "cell_type": "code",
   "execution_count": null,
   "outputs": [],
   "source": [],
   "metadata": {
    "collapsed": false
   },
   "id": "4833bb35055095d7"
  },
  {
   "cell_type": "code",
   "execution_count": null,
   "outputs": [],
   "source": [],
   "metadata": {
    "collapsed": false
   },
   "id": "52386814d6b0b7bc"
  },
  {
   "cell_type": "code",
   "execution_count": null,
   "outputs": [],
   "source": [],
   "metadata": {
    "collapsed": false
   },
   "id": "13c39de0f4c695a8"
  },
  {
   "cell_type": "code",
   "execution_count": null,
   "outputs": [],
   "source": [],
   "metadata": {
    "collapsed": false
   },
   "id": "3aabd3fae81867db"
  }
 ],
 "metadata": {
  "kernelspec": {
   "display_name": "Python 3",
   "language": "python",
   "name": "python3"
  },
  "language_info": {
   "codemirror_mode": {
    "name": "ipython",
    "version": 2
   },
   "file_extension": ".py",
   "mimetype": "text/x-python",
   "name": "python",
   "nbconvert_exporter": "python",
   "pygments_lexer": "ipython2",
   "version": "2.7.6"
  }
 },
 "nbformat": 4,
 "nbformat_minor": 5
}
