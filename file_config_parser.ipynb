{
 "cells": [
  {
   "cell_type": "markdown",
   "source": [
    "# Config Parser works with the authentication for API\n",
    "\n",
    "We could store login and password information in a configuration file which will be read by the `configparser` module which is a python standard library \n",
    "\n",
    "---\n",
    "\n",
    "## Configuration file structure \n",
    "\n",
    "It's similar to a *Microsoft Windows INI files* where the identified names are enclosed with `[]` and they're all **key value** pairs that would be assigned with `=` or `:`\n",
    "\n",
    "**Comments** are created with `;` or `#` so for an example:\n",
    "\n",
    "```ini\n",
    "[DEFAULT]\n",
    "host = localhost # This is a comment.\n",
    "\n",
    "[mariadb]\n",
    "name = hello\n",
    "user = user\n",
    "password = password\n",
    "\n",
    "[redis]\n",
    "port = 6379\n",
    "db = 0\n",
    "```"
   ],
   "metadata": {
    "collapsed": false
   },
   "id": "7b3879aac5c0f76c"
  },
  {
   "cell_type": "markdown",
   "source": [
    "You could see that all of these are **split into different section** **EXCEPT** *DEFAULT* as it could be used in other sections denoted by `[SECTION NAME]` in both *sections*, mariadb and redis, we have access to *host* because of the *DEFAULT* section\n",
    "\n",
    "Now that all the script is placed within a file called `config.ini`, we could read it using the `configparser` module\n",
    "\n",
    "First we import the module then create the `ConfigParser` object \n",
    "\n",
    "We then use the *ConfigParser object* to access useful methods for parsing the *ini data* \n",
    "\n",
    "Using the `config.read('config.ini')` method we could read the file (or files by passing in a list of file names)\n",
    "\n",
    "Some methods include:\n",
    "- `config.sections()` to view all the sections \n",
    "- `config.get('section_name', 'key')` to access data or...\n",
    "- We could access the data like how we access items in a dictionary \n",
    "    - `config['section']['key']`\n",
    "    - `config['mariadb']['password']`\n",
    "- Remember that each *section* has access to the key:value in the *DEFAULT* section\n",
    " "
   ],
   "metadata": {
    "collapsed": false
   },
   "id": "1f36b97ab74f7d74"
  },
  {
   "cell_type": "code",
   "execution_count": 10,
   "outputs": [
    {
     "name": "stdout",
     "output_type": "stream",
     "text": [
      "['config.ini']\n",
      "Sections:  ['mariadb', 'redis'] \n",
      "\n",
      "\n",
      "MariaDB section:\n",
      "Host: localhost # This is a comment.\n",
      "Database: hello\n",
      "Username: user\n",
      "Password: password\n",
      "\n",
      "\n",
      "Redis section:\n",
      "Host: localhost # This is a comment.\n",
      "Database Port: 6379\n",
      "Database Number 0\n"
     ]
    }
   ],
   "source": [
    "# Importing the standard config parser\n",
    "import configparser\n",
    "\n",
    "# Creating the ConfigParser Object \n",
    "config = configparser.ConfigParser()\n",
    "print(config.read('config.ini'))\n",
    "\n",
    "# Accessing several useful methods from the ConfigParser Object \n",
    "# Viewing all the sections\n",
    "print('Sections: ', config.sections(), '\\n')\n",
    "\n",
    "# Viewing all the information within the mariadb section\n",
    "print(f\"\"\"\n",
    "MariaDB section:\n",
    "Host: {config['mariadb']['host']}\n",
    "Database: {config['mariadb']['name']}\n",
    "Username: {config['mariadb']['user']}\n",
    "Password: {config['mariadb']['password']}\n",
    "\"\"\")\n",
    "\n",
    "print(f\"\"\"\n",
    "Redis section:\n",
    "Host: {config['redis']['host']}\n",
    "Database Port: {config['redis']['port']}\n",
    "Database Number {config['redis']['db']}\n",
    "\"\"\")"
   ],
   "metadata": {
    "collapsed": false,
    "ExecuteTime": {
     "end_time": "2023-12-20T21:06:27.490610900Z",
     "start_time": "2023-12-20T21:06:27.417832800Z"
    }
   },
   "id": "db0bf19ffceafa5c"
  },
  {
   "cell_type": "markdown",
   "source": [
    "## ConfigParser could read configurations from other sources \n",
    "\n",
    "Using the same methodology in the previous code we could read a configuration from a dictionary \n",
    "\n",
    "Instead of reading a file with `config.read('file_name.ini')` we use `config.read_dict(dict)`\n",
    "- `read_file()` could work with an open file \n",
    "- `read_string()` parses strings\n"
   ],
   "metadata": {
    "collapsed": false
   },
   "id": "77d8a9f0277b9144"
  },
  {
   "cell_type": "code",
   "execution_count": 11,
   "outputs": [
    {
     "name": "stdout",
     "output_type": "stream",
     "text": [
      "Sections:  ['mariadb', 'redis'] \n",
      "\n",
      "\n",
      "MariaDB section:\n",
      "Host: localhost\n",
      "Database: hello\n",
      "Username: root\n",
      "Password: password\n",
      "\n",
      "\n",
      "Redis section:\n",
      "Host: localhost\n",
      "Database Port: 6379\n",
      "Database Number 0\n"
     ]
    }
   ],
   "source": [
    "# Importing the standard config parser\n",
    "import configparser\n",
    "\n",
    "# Creating the ConfigParser Object \n",
    "config = configparser.ConfigParser()\n",
    "\n",
    "# Dictionary configuration\n",
    "dict = {\n",
    "    'DEFAULT': {\n",
    "        'host': 'localhost'\n",
    "    },\n",
    "    'mariadb': {\n",
    "        'name': 'hello',\n",
    "        'user': 'root',\n",
    "        'password': 'password'\n",
    "    },\n",
    "    'redis': {\n",
    "        'port': 6379,\n",
    "        'db': 0\n",
    "    }\n",
    "}\n",
    "\n",
    "# Reading the dictionary configuration \n",
    "config.read_dict(dict)\n",
    "\n",
    "# Accessing several useful methods from the ConfigParser Object \n",
    "# Viewing all the sections\n",
    "print('Sections: ', config.sections(), '\\n')\n",
    "\n",
    "# Viewing all the information within the mariadb section\n",
    "print(f\"\"\"\n",
    "MariaDB section:\n",
    "Host: {config['mariadb']['host']}\n",
    "Database: {config['mariadb']['name']}\n",
    "Username: {config['mariadb']['user']}\n",
    "Password: {config['mariadb']['password']}\n",
    "\"\"\")\n",
    "\n",
    "print(f\"\"\"\n",
    "Redis section:\n",
    "Host: {config['redis']['host']}\n",
    "Database Port: {config['redis']['port']}\n",
    "Database Number {config['redis']['db']}\n",
    "\"\"\")"
   ],
   "metadata": {
    "collapsed": false,
    "ExecuteTime": {
     "end_time": "2023-12-20T21:06:27.519635900Z",
     "start_time": "2023-12-20T21:06:27.427211300Z"
    }
   },
   "id": "b3270d4c2bc4aad6"
  },
  {
   "cell_type": "markdown",
   "source": [
    "## Creating a configuration file \n",
    "\n",
    "It's very much similar to working with *dictionaries* so long as you treat the `ConfigParser` object as a dictionary \n",
    "\n",
    "We could assign a `key` to the config and assign the value as a *dictionary* then use the `config.write(configfile)` method when opening a file object named \"Configfile\"\n",
    "\n",
    "`config['SECTION'] = {'key1':'val1', 'key2':'val2'}"
   ],
   "metadata": {
    "collapsed": false
   },
   "id": "48e9796bc65c641f"
  },
  {
   "cell_type": "code",
   "execution_count": 12,
   "outputs": [],
   "source": [
    "import configparser\n",
    "\n",
    "# Create the ConfigParser object \n",
    "config = configparser.ConfigParser()\n",
    "\n",
    "config['DEFAULT'] = {'host': 'localhost'}\n",
    "config['mariadb'] = {'name': 'hello',\n",
    "                     'user': 'root',\n",
    "                     'password': 'password'}\n",
    "config['redis'] = {'port': 6379,\n",
    "                   'db': 0}\n",
    "\n",
    "with open('config_creater.ini','w') as configfile:\n",
    "    config.write(configfile)"
   ],
   "metadata": {
    "collapsed": false,
    "ExecuteTime": {
     "end_time": "2023-12-20T21:06:27.630097Z",
     "start_time": "2023-12-20T21:06:27.432723Z"
    }
   },
   "id": "555811f983a62b4b"
  },
  {
   "cell_type": "markdown",
   "source": [
    "## Interpolating values\n",
    "\n",
    "Create expressions consisting of a placeholder by using something similar to *formatting in logging* \n",
    "\n",
    "`%(placeholder_name)s`\n",
    "\n",
    "This is all done **WITHIN** the `ini` file\n",
    "\n",
    "```ini\n",
    "[DEFAULT]\n",
    "host = localhost\n",
    "\n",
    "[mariadb]\n",
    "name = hello\n",
    "user = user\n",
    "password = password\n",
    "\n",
    "[redis]\n",
    "port = 6379\n",
    "db = 0\n",
    "dsn = redis://%(host)s\n",
    "\n",
    "```\n",
    "\n",
    "This would mean `config['redis']['dsn']` would be `redis://localhost` because it takes values from our *DEFAULT* section"
   ],
   "metadata": {
    "collapsed": false
   },
   "id": "539c11a398447f26"
  },
  {
   "cell_type": "markdown",
   "source": [
    "# Summary and Recap\n",
    "\n",
    "ConfigParser is important because it allows us to work with the `ini` files which have several **sections** based on the *names enclosed in square brackets* i.e `[SECTION NAME]` and **key:value** pairs which could be assigned using either `key:value:` or `key=value`.\n",
    "\n",
    "This is useful because we could add in *authentication* information and other things that we need to import in.\n",
    "\n",
    "Every *child* section inherits *key:value* pairs from the **DEFAULT** section; therefore, we should treat and create the **DEFAULT** section first.\n",
    "\n",
    "Working with python, the `configparser` module is responsible for working with `ini` files:\n",
    "- We start by importing the module\n",
    "    - `import configparser` \n",
    "- Building the ConfigParser() class object\n",
    "    - `config = configparser.ConfigParser()`  \n",
    "- Reading the file, dictionary or string configuration\n",
    "    - `config.read('file_name.ini')` you could pass in a list of files too \n",
    "    - `config.read_dict(dict_configuration)`\n",
    "        - this means we could build a dictionary like: `dict = {'SECTION': {'key':'val'}}` \n",
    "    - `config.read_file(open_file_object)`\n",
    "    - `config.read_string(str_configration)`\n",
    "- Accessing the data similar to accessing data in a dictionary \n",
    "    - We could use `config.sections()` to view all the different sections \n",
    "    - We could access data using `config['section']['key']` to obtain the value\n",
    "\n",
    "Creating a configuration file is similar to working with a *dictionary*:\n",
    "- We follow through with importing the module and building the *ConfigParser* object \n",
    "- Treat config (the object) as a dictionary when feeding in data\n",
    "    - `config['DEFAULT'] = {'host': 'localhost', 'name':'hello'}` \n",
    "- Open a file then use the \"write()\" method\n",
    "    - `with open('file_name.ini', 'w') as config_file:`\n",
    "        - `config.write(config_file)`\n",
    "\n",
    "In the `ini` file we could *interpolate* values using the form `%(placeholder_variable)s`\n",
    "- Say we have a *key:value* pair in the *DEFAULT* section called 'name'\n",
    "- In another section called *[DiffSection]* we could assign a value to a key using information from default\n",
    "    - `new_key:value_with_%(name)s` "
   ],
   "metadata": {
    "collapsed": false
   },
   "id": "af2b2e2e675f56a"
  },
  {
   "cell_type": "code",
   "execution_count": 12,
   "outputs": [],
   "source": [],
   "metadata": {
    "collapsed": false,
    "ExecuteTime": {
     "end_time": "2023-12-20T21:06:27.682145700Z",
     "start_time": "2023-12-20T21:06:27.459854Z"
    }
   },
   "id": "7920a6bf5d6c39d3"
  },
  {
   "cell_type": "code",
   "execution_count": 12,
   "outputs": [],
   "source": [],
   "metadata": {
    "collapsed": false,
    "ExecuteTime": {
     "end_time": "2023-12-20T21:06:27.695156100Z",
     "start_time": "2023-12-20T21:06:27.464591200Z"
    }
   },
   "id": "2b0387cf78dfa653"
  }
 ],
 "metadata": {
  "kernelspec": {
   "display_name": "Python 3",
   "language": "python",
   "name": "python3"
  },
  "language_info": {
   "codemirror_mode": {
    "name": "ipython",
    "version": 2
   },
   "file_extension": ".py",
   "mimetype": "text/x-python",
   "name": "python",
   "nbconvert_exporter": "python",
   "pygments_lexer": "ipython2",
   "version": "2.7.6"
  }
 },
 "nbformat": 4,
 "nbformat_minor": 5
}
