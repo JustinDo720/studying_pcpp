{
 "cells": [
  {
   "cell_type": "markdown",
   "source": [
    "# Database Management System (DBMS) \n",
    "\n",
    "Are usually responsible for:\n",
    "- creating db structure\n",
    "- insert, update, delete, and searching for data\n",
    "- data security \n",
    "- transaction management \n",
    "- access to data for many users \n",
    "- data exchange with other db system\n",
    "\n",
    "---\n",
    "\n",
    "## Practicing with SQLite\n",
    "\n",
    "a C library that allows users to read and write data directly to a file \n",
    "\n",
    "**To get started** there's a *standard* python library called `sqlite3`; therefore, we could just import it in normally:\n",
    "`import sqlite3`\n",
    "\n",
    "---\n",
    "\n",
    "## Creating a database\n",
    "\n",
    "Use the `connect` method provided by *sqlite3* to create one in your *current working directory*\n",
    "\n",
    "`connect(file_or_path.db)` will create db **if it cannot find a db in that location**"
   ],
   "metadata": {
    "collapsed": false
   },
   "id": "7b3879aac5c0f76c"
  },
  {
   "cell_type": "code",
   "execution_count": 1,
   "outputs": [],
   "source": [
    "import sqlite3\n",
    "\n",
    "# Creating a new database.\n",
    "conn = sqlite3.connect('hello.db')  # This could be the name or path of your database.\n",
    "\n",
    "# NOTE: you could create a database in RAM \n",
    "# conn = sqlite3.connect(':memory:')"
   ],
   "metadata": {
    "collapsed": false,
    "ExecuteTime": {
     "end_time": "2023-12-15T21:37:43.975606900Z",
     "start_time": "2023-12-15T21:37:43.963988600Z"
    }
   },
   "id": "b20f97f3ccf7bf9b"
  },
  {
   "cell_type": "markdown",
   "source": [
    "## SQL (Structured Query Language) and Python SQLITE \n",
    "\n",
    "Creating a table using `CREATE TABLE`\n",
    "```sql\n",
    "CREATE TABLE table_name (\n",
    "col1 int,\n",
    "col2 char,\n",
    "...\n",
    ")\n",
    "```\n",
    "You could see that we just need to input the table_name and the arguments include the *table_name and data_type*\n",
    "\n",
    "For an example:\n",
    "```sqlite\n",
    "CREATE TABLE tasks (\n",
    "id INTEGER PRIMARY KEY,\n",
    "name TEXT NOT NULL,\n",
    "priority INTEGER NOT NULL\n",
    ")\n",
    "```\n",
    "\n",
    "You could find all data types [here](https://www.sqlite.org/datatype3.html)\n",
    "\n",
    "We could do this in **Python** using the method `cursor` which creates a `Cursor` object which allows SQL statements to be executed "
   ],
   "metadata": {
    "collapsed": false
   },
   "id": "85c54fe57083b3e6"
  },
  {
   "cell_type": "code",
   "execution_count": 2,
   "outputs": [
    {
     "data": {
      "text/plain": "<sqlite3.Cursor at 0x1e78ea5eac0>"
     },
     "execution_count": 2,
     "metadata": {},
     "output_type": "execute_result"
    }
   ],
   "source": [
    "# Importing our module from Python's Standard Library.\n",
    "import sqlite3 \n",
    "\n",
    "# Setting up our connection to the database (create if missing).\n",
    "conn = sqlite3.connect('hello.db')\n",
    "c = conn.cursor()   # Creating that Cursor class object\n",
    "\n",
    "# Preparing to execute SQL commands using this c object.\n",
    "c.execute(\n",
    "    '''\n",
    "    CREATE TABLE IF NOT EXISTS tasks (\n",
    "    id INTEGER PRIMARY KEY,\n",
    "    name TEXT NOT NULL,\n",
    "    priorty INTEGER NOT NULL\n",
    "    )\n",
    "    '''\n",
    ")\n"
   ],
   "metadata": {
    "collapsed": false,
    "ExecuteTime": {
     "end_time": "2023-12-15T22:05:06.270353100Z",
     "start_time": "2023-12-15T22:05:06.252263100Z"
    }
   },
   "id": "c9ad75bdda5e3717"
  },
  {
   "cell_type": "markdown",
   "source": [
    "Let's *review* this code above:\n",
    "- We imported the `sqlite3` standard lib\n",
    "- We connected/created (if it doesn't exist) with `conn = sqlite3.connect('hello.db')`\n",
    "- We need a `Cursor` object with that connection: `c = conn.cursor()`\n",
    "- From there we could use the `execute()` method to run our query scripts\n",
    "    - `c.execute('''sql commands''')`\n",
    "\n",
    "We added *IF NOT EXISTS* in case rerun our cell. We cannot have two of the same table as it already exists; therefore, if we put `CREATE TABLE IF NOT EXIST table_name(col dt, col2, dt2)` it will create the table if it doesn't already *exist*\n",
    "---\n",
    "\n",
    "## Inserting Data\n"
   ],
   "metadata": {
    "collapsed": false
   },
   "id": "fcadf2ab15c3e9d0"
  },
  {
   "cell_type": "code",
   "execution_count": null,
   "outputs": [],
   "source": [],
   "metadata": {
    "collapsed": false
   },
   "id": "5d74b18886280886"
  },
  {
   "cell_type": "code",
   "execution_count": null,
   "outputs": [],
   "source": [],
   "metadata": {
    "collapsed": false
   },
   "id": "895e56afa6dc8cc8"
  },
  {
   "cell_type": "code",
   "execution_count": null,
   "outputs": [],
   "source": [],
   "metadata": {
    "collapsed": false
   },
   "id": "7920a6bf5d6c39d3"
  },
  {
   "cell_type": "code",
   "execution_count": null,
   "outputs": [],
   "source": [],
   "metadata": {
    "collapsed": false
   },
   "id": "2b0387cf78dfa653"
  }
 ],
 "metadata": {
  "kernelspec": {
   "display_name": "Python 3",
   "language": "python",
   "name": "python3"
  },
  "language_info": {
   "codemirror_mode": {
    "name": "ipython",
    "version": 2
   },
   "file_extension": ".py",
   "mimetype": "text/x-python",
   "name": "python",
   "nbconvert_exporter": "python",
   "pygments_lexer": "ipython2",
   "version": "2.7.6"
  }
 },
 "nbformat": 4,
 "nbformat_minor": 5
}
