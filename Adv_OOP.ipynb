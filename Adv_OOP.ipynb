{
 "cells": [
  {
   "cell_type": "markdown",
   "source": [
    "# Advanced OOP \n",
    "---\n",
    "\n",
    "We'll be working with:\n",
    "- Classes, instances, attributes, methods, as well as working with class and instance data;\n",
    "- shallow and deep operations;\n",
    "- abstract classes, method overriding, static and class methods, special methods;\n",
    "- inheritance, polymorphism, subclasses, and encapsulation;\n",
    "- advanced exception handling techniques;\n",
    "- the pickle and shelve modules;\n",
    "- metaclasses.\n"
   ],
   "metadata": {
    "collapsed": false
   },
   "id": "5b7e00ce528a14a7"
  },
  {
   "cell_type": "markdown",
   "source": [
    "### Key Terms:\n",
    "- **Class** => a blueprint / recipe for instances \n",
    "- **Instance** => instantiation of the class (similar to object)\n",
    "- **Object** => representation of data and methods of a certain class \n",
    "- **Attribute** => object or class trait (variable or method) \n",
    "- **Method** => function built into the class \n",
    "- **type** => refers to the class that was used to instantiate the object "
   ],
   "metadata": {
    "collapsed": false
   },
   "id": "c700b2dd46a6fa7"
  },
  {
   "cell_type": "markdown",
   "source": [
    "## OOP Foundations \n",
    "---"
   ],
   "metadata": {
    "collapsed": false
   },
   "id": "df61c8952e94d92"
  },
  {
   "cell_type": "code",
   "execution_count": 9,
   "outputs": [
    {
     "name": "stdout",
     "output_type": "stream",
     "text": [
      "<class 'type'>\n",
      "<class '__main__.Duck'>\n",
      "<class 'str'>\n",
      "<class 'method'>\n",
      "Our duckling's sexy is: male\n"
     ]
    }
   ],
   "source": [
    "# class - Duck represents a blueprint / recipe for instances of a Duck \n",
    "class Duck:\n",
    "    # class Variable\n",
    "    has_feet = True\n",
    "    # heres our constructor with variable attributes like height,weight, sex\n",
    "    def __init__(self, height, weight, sex):\n",
    "        self.height = height\n",
    "        self.weight = weight\n",
    "        self.sex = sex \n",
    "        # Duck.has_feet = false <-- accessing class Variables \n",
    "    \n",
    "    # these are our methods but theyre also part of our attribute as methods (also known as callable attributes)\n",
    "    def walk(self):\n",
    "        pass \n",
    "    \n",
    "    def quack(self):\n",
    "        return print(\"Quack\")\n",
    "\n",
    "# instance - instantiating the class so that the self refers to this duckling object.    \n",
    "duckling = Duck(height=10, weight=3.4, sex=\"male\")\n",
    "drake = Duck(height=25, weight=3.7, sex=\"male\")\n",
    "hen = Duck(height=20, weight=3.4, sex=\"female\")\n",
    "\n",
    "# type deals with returning some information based on that class \n",
    "print(Duck.__class__) # we see that it turns type because its the type of class \n",
    "print(duckling.__class__) # we'll see the objects Class \n",
    "print(duckling.sex.__class__) # to see that sex is a string type \n",
    "print(duckling.quack.__class__) # to see that its a method of our class \n",
    "\n",
    "# instance variables - essentially its the same as accessing attributes \n",
    "print('Our duckling\\'s sexy is: ' + duckling.sex)"
   ],
   "metadata": {
    "collapsed": false,
    "ExecuteTime": {
     "end_time": "2023-11-08T00:26:58.454524700Z",
     "start_time": "2023-11-08T00:26:58.446226600Z"
    }
   },
   "id": "564bf31a539fc95e"
  },
  {
   "cell_type": "code",
   "execution_count": 10,
   "outputs": [
    {
     "name": "stdout",
     "output_type": "stream",
     "text": [
      "contents of duckling:  {'height': 10, 'weight': 3.4, 'sex': 'male'}\n",
      "contents of Duck class:  {'__module__': '__main__', 'has_feet': True, '__init__': <function Duck.__init__ at 0x000001BE2FBBFF60>, 'walk': <function Duck.walk at 0x000001BE2FBBF4C0>, 'quack': <function Duck.quack at 0x000001BE2FBBF380>, '__dict__': <attribute '__dict__' of 'Duck' objects>, '__weakref__': <attribute '__weakref__' of 'Duck' objects>, '__doc__': None}\n"
     ]
    }
   ],
   "source": [
    "# we can see all the in contents of an object with '__dict__()' built in property \n",
    "print('contents of duckling: ', duckling.__dict__)\n",
    "print('contents of Duck class: ', Duck.__dict__) # you could see the class variable here which could still be accessed by objects which are instances of that class"
   ],
   "metadata": {
    "collapsed": false,
    "ExecuteTime": {
     "end_time": "2023-11-08T00:26:59.685807500Z",
     "start_time": "2023-11-08T00:26:59.681055700Z"
    }
   },
   "id": "d7c2a5b6589329"
  },
  {
   "cell_type": "markdown",
   "source": [
    "## Advanced OOP\n",
    "---"
   ],
   "metadata": {
    "collapsed": false
   },
   "id": "c51463381d19a65d"
  },
  {
   "cell_type": "markdown",
   "source": [
    "### Inheritance and Polymorphism\n",
    "\n",
    "```\n",
    "python\n",
    "\n",
    "class Vehicle:\n",
    "    pass \n",
    "\n",
    "class LandVehicle(Vehicle):\n",
    "    pass\n",
    "\n",
    "class TrackedVehicle(LandVehicle):\n",
    "    pass\n",
    "```"
   ],
   "metadata": {
    "collapsed": false
   },
   "id": "5a61e2d72fc452d1"
  },
  {
   "cell_type": "code",
   "execution_count": 12,
   "outputs": [
    {
     "ename": "TypeError",
     "evalue": "Cannot create a consistent method resolution\norder (MRO) for bases Vehicle, TrackedVehicle",
     "output_type": "error",
     "traceback": [
      "\u001B[1;31m---------------------------------------------------------------------------\u001B[0m",
      "\u001B[1;31mTypeError\u001B[0m                                 Traceback (most recent call last)",
      "Cell \u001B[1;32mIn[12], line 12\u001B[0m\n\u001B[0;32m      9\u001B[0m     \u001B[38;5;28;01mpass\u001B[39;00m\n\u001B[0;32m     11\u001B[0m \u001B[38;5;66;03m# Vehicle is the parent class which means it can't be inherited first then have a lingering additional parent class\u001B[39;00m\n\u001B[1;32m---> 12\u001B[0m \u001B[38;5;28;43;01mclass\u001B[39;49;00m\u001B[43m \u001B[49m\u001B[38;5;21;43;01mFalseVehicle\u001B[39;49;00m\u001B[43m(\u001B[49m\u001B[43mVehicle\u001B[49m\u001B[43m,\u001B[49m\u001B[43m \u001B[49m\u001B[43mTrackedVehicle\u001B[49m\u001B[43m)\u001B[49m\u001B[43m:\u001B[49m\n\u001B[0;32m     13\u001B[0m \u001B[43m    \u001B[49m\u001B[38;5;28;43;01mpass\u001B[39;49;00m\n",
      "\u001B[1;31mTypeError\u001B[0m: Cannot create a consistent method resolution\norder (MRO) for bases Vehicle, TrackedVehicle"
     ]
    }
   ],
   "source": [
    "# theres an issue with multiple inheritance \n",
    "class Vehicle:\n",
    "    pass \n",
    "\n",
    "class LandVehicle(Vehicle):\n",
    "    pass\n",
    "\n",
    "class TrackedVehicle(LandVehicle):\n",
    "    pass\n",
    "\n",
    "# Vehicle is the parent class which means it can't be inherited first then have a lingering additional parent class\n",
    "class FalseVehicle(Vehicle, TrackedVehicle):\n",
    "    pass"
   ],
   "metadata": {
    "collapsed": false,
    "ExecuteTime": {
     "end_time": "2023-11-08T04:06:09.667569500Z",
     "start_time": "2023-11-08T04:06:09.649993600Z"
    }
   },
   "id": "490ebaa646316898"
  },
  {
   "cell_type": "markdown",
   "source": [
    "With *MRO* just know that it searches/accesses through attributes based on which inheritance is first when it comes to multiple inheritance"
   ],
   "metadata": {
    "collapsed": false
   },
   "id": "993f64f74ce41f37"
  },
  {
   "cell_type": "code",
   "execution_count": 8,
   "outputs": [
    {
     "name": "stdout",
     "output_type": "stream",
     "text": [
      "CLass B\n"
     ]
    }
   ],
   "source": [
    "class A:\n",
    "    def info(self):\n",
    "        print(\"Class A\")\n",
    "\n",
    "class B:\n",
    "    # since B has an info method...\n",
    "    def info(self):\n",
    "        print('CLass B') # it prints Class B\n",
    "\n",
    "class C:\n",
    "    def info(self):\n",
    "        print('Class C')\n",
    "\n",
    "# Because of MRO it checks B for the info() method first\n",
    "class D(B,C): # just remember that you cant have something like D(A,C) because the bases are not consistent resolution order \n",
    "    pass \n",
    "\n",
    "D().info()"
   ],
   "metadata": {
    "collapsed": false,
    "ExecuteTime": {
     "end_time": "2023-11-08T21:37:05.362414200Z",
     "start_time": "2023-11-08T21:37:05.355775400Z"
    }
   },
   "id": "424ecccced4ea01d"
  },
  {
   "cell_type": "code",
   "execution_count": 11,
   "outputs": [
    {
     "name": "stdout",
     "output_type": "stream",
     "text": [
      "The device was turned on\n",
      "The device was turned on\n",
      "PortableRadio type object was turned on\n",
      "Tvset type object was turned on\n"
     ]
    }
   ],
   "source": [
    "# Remember inheritance is used to carry out polymorphism \n",
    "class Device:\n",
    "    def turn_on(self):\n",
    "        print(\"The device was turned on\")\n",
    "    \n",
    "class Radio(Device):\n",
    "    pass \n",
    "\n",
    "class PortableRadio(Device):\n",
    "    def turn_on(self):\n",
    "        print('PortableRadio type object was turned on')\n",
    "    \n",
    "class TvSet(Device):\n",
    "    def turn_on(self):\n",
    "        print(\"Tvset type object was turned on\")\n",
    "        \n",
    "device = Device()\n",
    "radio = Radio()\n",
    "portableRadio = PortableRadio()\n",
    "tvset = TvSet()\n",
    "\n",
    "for element in (device, radio, portableRadio, tvset):\n",
    "    element.turn_on() # we could see that multiple objects which are instances of the classes can access the turn_on() method even with referring to an arbitrary variable like element"
   ],
   "metadata": {
    "collapsed": false,
    "ExecuteTime": {
     "end_time": "2023-11-09T00:26:01.624314100Z",
     "start_time": "2023-11-09T00:26:01.619307800Z"
    }
   },
   "id": "53743e710998c1a2"
  },
  {
   "cell_type": "markdown",
   "source": [
    "> If it walks like a duck and it quacks like a duck, then it m ust be a duck\n",
    "\n",
    "*Duck Typing*\n",
    "- Duck test to see if an object can be usef for a particular purpose \n",
    "- General approach because objects own the methods that are called "
   ],
   "metadata": {
    "collapsed": false
   },
   "id": "d945b62420954ddf"
  },
  {
   "cell_type": "code",
   "execution_count": null,
   "outputs": [],
   "source": [],
   "metadata": {
    "collapsed": false
   },
   "id": "69f0b6f3a6ec0b97"
  }
 ],
 "metadata": {
  "kernelspec": {
   "display_name": "Python 3",
   "language": "python",
   "name": "python3"
  },
  "language_info": {
   "codemirror_mode": {
    "name": "ipython",
    "version": 2
   },
   "file_extension": ".py",
   "mimetype": "text/x-python",
   "name": "python",
   "nbconvert_exporter": "python",
   "pygments_lexer": "ipython2",
   "version": "2.7.6"
  }
 },
 "nbformat": 4,
 "nbformat_minor": 5
}
