{
 "cells": [
  {
   "cell_type": "markdown",
   "source": [
    "# Advanced OOP \n",
    "---\n",
    "\n",
    "We'll be working with:\n",
    "- Classes, instances, attributes, methods, as well as working with class and instance data;\n",
    "- shallow and deep operations;\n",
    "- abstract classes, method overriding, static and class methods, special methods;\n",
    "- inheritance, polymorphism, subclasses, and encapsulation;\n",
    "- advanced exception handling techniques;\n",
    "- the pickle and shelve modules;\n",
    "- metaclasses.\n"
   ],
   "metadata": {
    "collapsed": false
   },
   "id": "5b7e00ce528a14a7"
  },
  {
   "cell_type": "markdown",
   "source": [
    "### Key Terms:\n",
    "- **Class** => a blueprint / recipe for instances \n",
    "- **Instance** => instantiation of the class (similar to object)\n",
    "- **Object** => representation of data and methods of a certain class \n",
    "- **Attribute** => object or class trait (variable or method) \n",
    "- **Method** => function built into the class \n",
    "- **type** => refers to the class that was used to instantiate the object "
   ],
   "metadata": {
    "collapsed": false
   },
   "id": "c700b2dd46a6fa7"
  },
  {
   "cell_type": "markdown",
   "source": [
    "## OOP Foundations \n",
    "---"
   ],
   "metadata": {
    "collapsed": false
   },
   "id": "df61c8952e94d92"
  },
  {
   "cell_type": "code",
   "execution_count": 9,
   "outputs": [
    {
     "name": "stdout",
     "output_type": "stream",
     "text": [
      "<class 'type'>\n",
      "<class '__main__.Duck'>\n",
      "<class 'str'>\n",
      "<class 'method'>\n",
      "Our duckling's sexy is: male\n"
     ]
    }
   ],
   "source": [
    "# class - Duck represents a blueprint / recipe for instances of a Duck \n",
    "class Duck:\n",
    "    # class Variable\n",
    "    has_feet = True\n",
    "    # heres our constructor with variable attributes like height,weight, sex\n",
    "    def __init__(self, height, weight, sex):\n",
    "        self.height = height\n",
    "        self.weight = weight\n",
    "        self.sex = sex \n",
    "        # Duck.has_feet = false <-- accessing class Variables \n",
    "    \n",
    "    # these are our methods but theyre also part of our attribute as methods (also known as callable attributes)\n",
    "    def walk(self):\n",
    "        pass \n",
    "    \n",
    "    def quack(self):\n",
    "        return print(\"Quack\")\n",
    "\n",
    "# instance - instantiating the class so that the self refers to this duckling object.    \n",
    "duckling = Duck(height=10, weight=3.4, sex=\"male\")\n",
    "drake = Duck(height=25, weight=3.7, sex=\"male\")\n",
    "hen = Duck(height=20, weight=3.4, sex=\"female\")\n",
    "\n",
    "# type deals with returning some information based on that class \n",
    "print(Duck.__class__) # we see that it turns type because its the type of class \n",
    "print(duckling.__class__) # we'll see the objects Class \n",
    "print(duckling.sex.__class__) # to see that sex is a string type \n",
    "print(duckling.quack.__class__) # to see that its a method of our class \n",
    "\n",
    "# instance variables - essentially its the same as accessing attributes \n",
    "print('Our duckling\\'s sexy is: ' + duckling.sex)"
   ],
   "metadata": {
    "collapsed": false,
    "ExecuteTime": {
     "end_time": "2023-11-08T00:26:58.454524700Z",
     "start_time": "2023-11-08T00:26:58.446226600Z"
    }
   },
   "id": "564bf31a539fc95e"
  },
  {
   "cell_type": "code",
   "execution_count": 10,
   "outputs": [
    {
     "name": "stdout",
     "output_type": "stream",
     "text": [
      "contents of duckling:  {'height': 10, 'weight': 3.4, 'sex': 'male'}\n",
      "contents of Duck class:  {'__module__': '__main__', 'has_feet': True, '__init__': <function Duck.__init__ at 0x000001BE2FBBFF60>, 'walk': <function Duck.walk at 0x000001BE2FBBF4C0>, 'quack': <function Duck.quack at 0x000001BE2FBBF380>, '__dict__': <attribute '__dict__' of 'Duck' objects>, '__weakref__': <attribute '__weakref__' of 'Duck' objects>, '__doc__': None}\n"
     ]
    }
   ],
   "source": [
    "# we can see all the in contents of an object with '__dict__()' built in property \n",
    "print('contents of duckling: ', duckling.__dict__)\n",
    "print('contents of Duck class: ', Duck.__dict__) # you could see the class variable here which could still be accessed by objects which are instances of that class"
   ],
   "metadata": {
    "collapsed": false,
    "ExecuteTime": {
     "end_time": "2023-11-08T00:26:59.685807500Z",
     "start_time": "2023-11-08T00:26:59.681055700Z"
    }
   },
   "id": "d7c2a5b6589329"
  },
  {
   "cell_type": "markdown",
   "source": [
    "## Advanced OOP\n",
    "---"
   ],
   "metadata": {
    "collapsed": false
   },
   "id": "c51463381d19a65d"
  },
  {
   "cell_type": "markdown",
   "source": [
    "### Inheritance and Polymorphism\n",
    "\n",
    "```\n",
    "python\n",
    "\n",
    "class Vehicle:\n",
    "    pass \n",
    "\n",
    "class LandVehicle(Vehicle):\n",
    "    pass\n",
    "\n",
    "class TrackedVehicle(LandVehicle):\n",
    "    pass\n",
    "```"
   ],
   "metadata": {
    "collapsed": false
   },
   "id": "5a61e2d72fc452d1"
  },
  {
   "cell_type": "code",
   "execution_count": 12,
   "outputs": [
    {
     "ename": "TypeError",
     "evalue": "Cannot create a consistent method resolution\norder (MRO) for bases Vehicle, TrackedVehicle",
     "output_type": "error",
     "traceback": [
      "\u001B[1;31m---------------------------------------------------------------------------\u001B[0m",
      "\u001B[1;31mTypeError\u001B[0m                                 Traceback (most recent call last)",
      "Cell \u001B[1;32mIn[12], line 12\u001B[0m\n\u001B[0;32m      9\u001B[0m     \u001B[38;5;28;01mpass\u001B[39;00m\n\u001B[0;32m     11\u001B[0m \u001B[38;5;66;03m# Vehicle is the parent class which means it can't be inherited first then have a lingering additional parent class\u001B[39;00m\n\u001B[1;32m---> 12\u001B[0m \u001B[38;5;28;43;01mclass\u001B[39;49;00m\u001B[43m \u001B[49m\u001B[38;5;21;43;01mFalseVehicle\u001B[39;49;00m\u001B[43m(\u001B[49m\u001B[43mVehicle\u001B[49m\u001B[43m,\u001B[49m\u001B[43m \u001B[49m\u001B[43mTrackedVehicle\u001B[49m\u001B[43m)\u001B[49m\u001B[43m:\u001B[49m\n\u001B[0;32m     13\u001B[0m \u001B[43m    \u001B[49m\u001B[38;5;28;43;01mpass\u001B[39;49;00m\n",
      "\u001B[1;31mTypeError\u001B[0m: Cannot create a consistent method resolution\norder (MRO) for bases Vehicle, TrackedVehicle"
     ]
    }
   ],
   "source": [
    "# theres an issue with multiple inheritance \n",
    "class Vehicle:\n",
    "    pass \n",
    "\n",
    "class LandVehicle(Vehicle):\n",
    "    pass\n",
    "\n",
    "class TrackedVehicle(LandVehicle):\n",
    "    pass\n",
    "\n",
    "# Vehicle is the parent class which means it can't be inherited first then have a lingering additional parent class\n",
    "class FalseVehicle(Vehicle, TrackedVehicle):\n",
    "    pass"
   ],
   "metadata": {
    "collapsed": false,
    "ExecuteTime": {
     "end_time": "2023-11-08T04:06:09.667569500Z",
     "start_time": "2023-11-08T04:06:09.649993600Z"
    }
   },
   "id": "490ebaa646316898"
  },
  {
   "cell_type": "markdown",
   "source": [
    "With *MRO* just know that it searches/accesses through attributes based on which inheritance is first when it comes to multiple inheritance"
   ],
   "metadata": {
    "collapsed": false
   },
   "id": "993f64f74ce41f37"
  },
  {
   "cell_type": "code",
   "execution_count": 8,
   "outputs": [
    {
     "name": "stdout",
     "output_type": "stream",
     "text": [
      "CLass B\n"
     ]
    }
   ],
   "source": [
    "class A:\n",
    "    def info(self):\n",
    "        print(\"Class A\")\n",
    "\n",
    "class B:\n",
    "    # since B has an info method...\n",
    "    def info(self):\n",
    "        print('CLass B') # it prints Class B\n",
    "\n",
    "class C:\n",
    "    def info(self):\n",
    "        print('Class C')\n",
    "\n",
    "# Because of MRO it checks B for the info() method first\n",
    "class D(B,C): # just remember that you cant have something like D(A,C) because the bases are not consistent resolution order \n",
    "    pass \n",
    "\n",
    "D().info()"
   ],
   "metadata": {
    "collapsed": false,
    "ExecuteTime": {
     "end_time": "2023-11-08T21:37:05.362414200Z",
     "start_time": "2023-11-08T21:37:05.355775400Z"
    }
   },
   "id": "424ecccced4ea01d"
  },
  {
   "cell_type": "code",
   "execution_count": 11,
   "outputs": [
    {
     "name": "stdout",
     "output_type": "stream",
     "text": [
      "The device was turned on\n",
      "The device was turned on\n",
      "PortableRadio type object was turned on\n",
      "Tvset type object was turned on\n"
     ]
    }
   ],
   "source": [
    "# Remember inheritance is used to carry out polymorphism \n",
    "class Device:\n",
    "    def turn_on(self):\n",
    "        print(\"The device was turned on\")\n",
    "    \n",
    "class Radio(Device):\n",
    "    pass \n",
    "\n",
    "class PortableRadio(Device):\n",
    "    def turn_on(self):\n",
    "        print('PortableRadio type object was turned on')\n",
    "    \n",
    "class TvSet(Device):\n",
    "    def turn_on(self):\n",
    "        print(\"Tvset type object was turned on\")\n",
    "        \n",
    "device = Device()\n",
    "radio = Radio()\n",
    "portableRadio = PortableRadio()\n",
    "tvset = TvSet()\n",
    "\n",
    "for element in (device, radio, portableRadio, tvset):\n",
    "    element.turn_on() # we could see that multiple objects which are instances of the classes can access the turn_on() method even with referring to an arbitrary variable like element"
   ],
   "metadata": {
    "collapsed": false,
    "ExecuteTime": {
     "end_time": "2023-11-09T00:26:01.624314100Z",
     "start_time": "2023-11-09T00:26:01.619307800Z"
    }
   },
   "id": "53743e710998c1a2"
  },
  {
   "cell_type": "markdown",
   "source": [
    "> If it walks like a duck and it quacks like a duck, then it m ust be a duck\n",
    "\n",
    "*Duck Typing*\n",
    "- Duck test to see if an object can be usef for a particular purpose \n",
    "- General approach because objects own the methods that are called "
   ],
   "metadata": {
    "collapsed": false
   },
   "id": "d945b62420954ddf"
  },
  {
   "cell_type": "markdown",
   "source": [
    "### Decorators\n",
    "---\n",
    "The idea is that it wraps the original function with a new decorating function/class \n"
   ],
   "metadata": {
    "collapsed": false
   },
   "id": "85ad26fea2d36f1a"
  },
  {
   "cell_type": "code",
   "execution_count": 1,
   "outputs": [
    {
     "name": "stdout",
     "output_type": "stream",
     "text": [
      "We are about to call 'simple_hello'\n",
      "Hello World\n"
     ]
    }
   ],
   "source": [
    "def simple_hello():\n",
    "    print(\"Hello World\")\n",
    "    \n",
    "def simple_decorator(fun):\n",
    "    print(\"We are about to call '{}'\".format(fun.__name__))\n",
    "    return fun\n",
    "\n",
    "decorated = simple_decorator(simple_hello)\n",
    "decorated()"
   ],
   "metadata": {
    "collapsed": false,
    "ExecuteTime": {
     "end_time": "2023-11-10T00:47:01.108960900Z",
     "start_time": "2023-11-10T00:47:01.094559500Z"
    }
   },
   "id": "50cf7c1e13cdbbde"
  },
  {
   "cell_type": "code",
   "execution_count": 5,
   "outputs": [
    {
     "name": "stdout",
     "output_type": "stream",
     "text": [
      "new simple dec: simp_hello\n",
      "Simple Hello\n"
     ]
    }
   ],
   "source": [
    "# you could actually define the decorator function first and then use the @dec_func \n",
    "def simple_dec(func):\n",
    "    print(\"new simple dec: \" + func.__name__)\n",
    "    return func \n",
    "\n",
    "@simple_dec # we could see that our decorator function ran first and then our main function\n",
    "def simp_hello():\n",
    "    print(\"Simple Hello\")\n",
    "    \n",
    "simp_hello()"
   ],
   "metadata": {
    "collapsed": false,
    "ExecuteTime": {
     "end_time": "2023-11-10T02:35:38.266955500Z",
     "start_time": "2023-11-10T02:35:38.259240900Z"
    }
   },
   "id": "e86b440e1e554c2"
  },
  {
   "cell_type": "code",
   "execution_count": 7,
   "outputs": [
    {
     "name": "stdout",
     "output_type": "stream",
     "text": [
      "combiner was called with the following arguments\n",
      "\t('a', 'b')\n",
      "\t{'exe': 'yes'}\n",
      "\n",
      "\tHello from the dec function; received arguments ('a', 'b') {'exe': 'yes'}\n",
      "Dec is still operating\n"
     ]
    }
   ],
   "source": [
    "def simple_decorator(own_func): # given a function...\n",
    "    \n",
    "    def int_wrap(*args, **kwargs): # 2) this function will deal with our function passed as an argument \n",
    "        print('{} was called with the following arguments'.format(own_func.__name__))\n",
    "        print('\\t{}\\n\\t{}\\n'.format(args, kwargs)) # we could access the func passed as an arg's args and kwargs through our inner wrapper's paramters \n",
    "        own_func(*args, **kwargs) # 3) we could then run our outer function \n",
    "        print('Dec is still operating') # then end it with something\n",
    "    \n",
    "    return int_wrap # 4) dont forget the return statement\n",
    "\n",
    "@simple_decorator # 1) we see that we have a decorator function so we must see whats in here first\n",
    "def combiner(*args, **kwargs): # 5) here's our base function that being passed as an arg to our decorator function\n",
    "    print('\\tHello from the dec function; received arguments', args, kwargs)\n",
    "\n",
    "combiner('a', 'b', exe='yes') # 6) calling our base function thats wrapped in our dec"
   ],
   "metadata": {
    "collapsed": false,
    "ExecuteTime": {
     "end_time": "2023-11-10T04:22:40.256464500Z",
     "start_time": "2023-11-10T04:22:40.243400400Z"
    }
   },
   "id": "e525a82679481a94"
  },
  {
   "cell_type": "code",
   "execution_count": 10,
   "outputs": [
    {
     "name": "stdout",
     "output_type": "stream",
     "text": [
      "Our function: pack_books has kraft\n",
      "We are packing books:  ('Alice', 'Winnie')\n",
      "\n",
      "Our function: pack_toys has foil\n",
      "We'll pack toys: ('doll', 'car')\n",
      "\n",
      "Our function: pack_fruits has cardboard\n",
      "We'll pack fruits: ('plum', 'pear')\n"
     ]
    }
   ],
   "source": [
    "# Dec with args \n",
    "def warehouse_dec(material):\n",
    "    def wrap(our_func):\n",
    "        def int_wrap(*args):\n",
    "            print(f'Our function: {our_func.__name__} has {material}')\n",
    "            our_func(*args)\n",
    "            print() \n",
    "        return int_wrap \n",
    "    return wrap \n",
    "\n",
    "@warehouse_dec('kraft') # 1) lets look at the dec we see that \n",
    "def pack_books(*args):\n",
    "    print('We are packing books: ', args)\n",
    "\n",
    "@warehouse_dec('foil')\n",
    "def pack_toys(*args):\n",
    "    print(\"We'll pack toys:\", args)\n",
    "\n",
    "\n",
    "@warehouse_dec('cardboard')\n",
    "def pack_fruits(*args):\n",
    "    print(\"We'll pack fruits:\", args)\n",
    "    \n",
    "pack_books('Alice', 'Winnie')\n",
    "pack_toys('doll', 'car')\n",
    "pack_fruits('plum', 'pear')"
   ],
   "metadata": {
    "collapsed": false,
    "ExecuteTime": {
     "end_time": "2023-11-10T05:24:06.759382Z",
     "start_time": "2023-11-10T05:24:06.743987600Z"
    }
   },
   "id": "83465629a33266f0"
  },
  {
   "cell_type": "code",
   "execution_count": 1,
   "outputs": [
    {
     "name": "stdout",
     "output_type": "stream",
     "text": [
      "We'll pack books: ('Alice in Wonderland', 'Winnie the Pooh')\n",
      "<strong>*</strong> Wrapping items from pack_books with bubble foil\n",
      "<strong>*</strong> The whole order would be packed with plain cardboard\n"
     ]
    }
   ],
   "source": [
    "# stacking decorators \n",
    "\"\"\"\n",
    "Applying multiple dec requires remembering the order in which the decorators are listed in your code\n",
    "\n",
    "Here's the code flow:\n",
    "outer dec to call inner dec --> inner dec to call function  --> after function ends, inner dec takes over control --> after inner dec ends, outer dec is able to finish the job\n",
    "\"\"\"\n",
    "\n",
    "# we named our dec with a requested parameter FOR THE DEC\n",
    "def big_container(col_mat):\n",
    "    # here's our outer wrapper that takes our base function into account\n",
    "    def wrapper(func):\n",
    "        def int_wrap(*args): # our inner wrapper takes care of all the arguments passed within that function\n",
    "            func(*args) # running our base function captured by our outer wrapper\n",
    "            print('<strong>*</strong> The whole order would be packed with', col_mat) # remember inner wrap always run after the function ends\n",
    "            print()\n",
    "        return int_wrap  # its also important to return all wrapper \n",
    "    return wrapper  # eventually returning it back to the decorators \n",
    "\n",
    "def warehouse(mat):\n",
    "    def wrapper(func):\n",
    "        def int_wrap(*args):\n",
    "            func(*args)\n",
    "            print('<strong>*</strong> Wrapping items from {} with {}'.format(func.__name__, mat))\n",
    "        return int_wrap\n",
    "    return wrapper\n",
    "\n",
    "@big_container('plain cardboard') # we could see this deco went first with that func then print statement\n",
    "@warehouse('bubble foil') # \n",
    "def pack_books(*args):\n",
    "    print(\"We'll pack books:\", args) \n",
    "    \n",
    "pack_books('Alice in Wonderland', 'Winnie the Pooh')"
   ],
   "metadata": {
    "collapsed": false,
    "ExecuteTime": {
     "end_time": "2023-11-11T17:49:51.543151300Z",
     "start_time": "2023-11-11T17:49:51.534098800Z"
    }
   },
   "id": "89a23c629a553096"
  },
  {
   "cell_type": "code",
   "execution_count": 2,
   "outputs": [
    {
     "name": "stdout",
     "output_type": "stream",
     "text": [
      "\"combiner\" was called with the following arguments\n",
      "\t('a', 'b')\n",
      "\t{'exec': 'yes'}\n",
      "\n",
      "\tHello from the decorated function; received arguments: ('a', 'b') {'exec': 'yes'}\n",
      "Decorator is still operating\n"
     ]
    }
   ],
   "source": [
    "# def simple_decorator(own_function): ## you can see that this function has no outer wrapper because there is no argument needed so we go straight to taking in the function \n",
    "# \n",
    "#     def internal_wrapper(*args, **kwargs):\n",
    "#         print('\"{}\" was called with the following arguments'.format(own_function.__name__))\n",
    "#         print('\\t{}\\n\\t{}\\n'.format(args, kwargs))\n",
    "#         own_function(*args, **kwargs)\n",
    "#         print('Decorator is still operating')\n",
    "# \n",
    "#     return internal_wrapper\n",
    "\n",
    "class SimpleDec: # a class dec of simple_decorator function above\n",
    "    def __init__(self, own_function):\n",
    "        self.func = own_function\n",
    "    \n",
    "    # in order to define a dec as a class we need to use this special class method __call__\n",
    "    def __call__(self, *args, **kwargs):\n",
    "        print('\"{}\" was called with the following arguments'.format(self.func.__name__))\n",
    "        print('\\t{}\\n\\t{}\\n'.format(args, kwargs))\n",
    "        self.func(*args, **kwargs)\n",
    "        print('Decorator is still operating')\n",
    "\n",
    "\n",
    "# using the class Decorator \n",
    "@SimpleDec\n",
    "def combiner(*args, **kwargs):\n",
    "     print(\"\\tHello from the decorated function; received arguments:\", args, kwargs)\n",
    "combiner('a', 'b', exec='yes')\n"
   ],
   "metadata": {
    "collapsed": false,
    "ExecuteTime": {
     "end_time": "2023-11-11T17:53:49.656861400Z",
     "start_time": "2023-11-11T17:53:49.614823600Z"
    }
   },
   "id": "ca4a4e1c77c6431f"
  },
  {
   "cell_type": "code",
   "execution_count": 4,
   "outputs": [
    {
     "name": "stdout",
     "output_type": "stream",
     "text": [
      "We noticed that the mileage attribute was read\n",
      "The mileage is 0\n",
      "The VIN is CAR123\n"
     ]
    }
   ],
   "source": [
    "# we could dec a class \n",
    "def obj_counter(class_):\n",
    "    # __getattribute__ is responsible for returning attribute values\n",
    "    class_.__getattr__orig = class_.__getattribute__\n",
    "    \n",
    "    def new_getattr(self, name):\n",
    "        if name == 'mileage':\n",
    "            print('We noticed that the mileage attribute was read')\n",
    "        return class_.__getattr__orig(self, name)\n",
    "    \n",
    "    class_.__getattribute__ = new_getattr # we run that function and add it to getattribute\n",
    "    return class_ \n",
    "\n",
    "# our car class \n",
    "@obj_counter\n",
    "class Car:\n",
    "    def __init__(self, VIN):\n",
    "        self.mileage = 0 \n",
    "        self.VIN = VIN \n",
    "        \n",
    "car = Car('CAR123')\n",
    "print('The mileage is', car.mileage)\n",
    "print('The VIN is', car.VIN)\n"
   ],
   "metadata": {
    "collapsed": false,
    "ExecuteTime": {
     "end_time": "2023-11-11T18:17:22.789183700Z",
     "start_time": "2023-11-11T18:17:22.774513700Z"
    }
   },
   "id": "54e9d9ca6123a997"
  },
  {
   "cell_type": "markdown",
   "source": [
    "### Instance methods \n",
    "- methods that have performed operations on the instance (objects) usually dealing with the attributes \n",
    "- "
   ],
   "metadata": {
    "collapsed": false
   },
   "id": "b5069f207a8abc5b"
  },
  {
   "cell_type": "code",
   "execution_count": 10,
   "outputs": [
    {
     "name": "stdout",
     "output_type": "stream",
     "text": [
      "10\n"
     ]
    }
   ],
   "source": [
    "class Example:\n",
    "    def __init__(self, val,val2):\n",
    "        self.__internal = val \n",
    "        self.visible_internal = val2\n",
    "        \n",
    "    def get_internal(self):\n",
    "        return self.__internal # takes self which retfers to the instance and returned it's private variable \n",
    "    \n",
    "ex1 = Example(10, 99)\n",
    "ex1.visible_internal # we could access this but not ex1.__internal because its a priv var \n",
    "# ex1._Example__internal ## we could however use the object.__ClassName__priv_var\n",
    "print(ex1.get_internal()) "
   ],
   "metadata": {
    "collapsed": false,
    "ExecuteTime": {
     "end_time": "2023-11-11T18:24:59.026633Z",
     "start_time": "2023-11-11T18:24:59.014621800Z"
    }
   },
   "id": "d5333934fa596715"
  },
  {
   "cell_type": "code",
   "execution_count": 17,
   "outputs": [
    {
     "name": "stdout",
     "output_type": "stream",
     "text": [
      "# of objects created: 0\n",
      "# of objects created: 1\n",
      "# of objects created: 2\n"
     ]
    }
   ],
   "source": [
    "class Example2:\n",
    "    __internal_counter = 0 \n",
    "    \n",
    "    def __init__(self, val):\n",
    "        Example2.__internal_counter +=1 # accessing class variable \n",
    "\n",
    "    @classmethod # to show that this method works on the class itself rather than the instance\n",
    "    def get_internal(cls): # instead of self we have cls which can be used to refer to class method and attributes \n",
    "        return '# of objects created: {}'.format(cls.__internal_counter) # accessing the class variable \n",
    "\n",
    "print(Example2.get_internal())\n",
    "\n",
    "example1 = Example2(10)\n",
    "print(Example2.get_internal())\n",
    "\n",
    "example2 = Example2(99)\n",
    "print(Example2.get_internal())\n"
   ],
   "metadata": {
    "collapsed": false,
    "ExecuteTime": {
     "end_time": "2023-11-11T18:30:53.595206500Z",
     "start_time": "2023-11-11T18:30:53.580192700Z"
    }
   },
   "id": "96114459f7e7a84b"
  },
  {
   "cell_type": "markdown",
   "source": [
    "There's a difference between class methods and instance methods \n",
    "- One deals with the object (instance methods) and the other with class (class method) \n",
    "- But there are also \n",
    "    -  class methods \n",
    "    -  static methods"
   ],
   "metadata": {
    "collapsed": false
   },
   "id": "d00106ea64924975"
  },
  {
   "cell_type": "code",
   "execution_count": 19,
   "outputs": [
    {
     "name": "stdout",
     "output_type": "stream",
     "text": [
      "Ordinary __init__ was called for Car123\n",
      "Class method is called\n",
      "Ordinary __init__ was called for Car321\n"
     ]
    },
    {
     "data": {
      "text/plain": "'Diff Brand'"
     },
     "execution_count": 19,
     "metadata": {},
     "output_type": "execute_result"
    }
   ],
   "source": [
    "# lets look deeper with class methods \n",
    "class Car:\n",
    "    def __init__(self, vin):\n",
    "        print('Ordinary __init__ was called for', vin)\n",
    "        self.vin = vin \n",
    "        self.brand = ''\n",
    "        \n",
    "    @classmethod  # heres our class method \n",
    "    def including_brand(cls, vin, brand):\n",
    "        print('Class method is called') \n",
    "        _car = cls(vin) # used to create an object using the standard constructor method __init__\n",
    "        _car.brand = brand # then we modify the attribute band with the second paramter brand \n",
    "        return _car \n",
    "    \n",
    "car1 = Car(\"Car123\")\n",
    "car2 = Car.including_brand(\"Car321\", \"Diff Brand\")\n",
    "car2.brand"
   ],
   "metadata": {
    "collapsed": false,
    "ExecuteTime": {
     "end_time": "2023-11-11T18:42:51.551566800Z",
     "start_time": "2023-11-11T18:42:51.537478600Z"
    }
   },
   "id": "a0bd4ae21f9257e7"
  },
  {
   "cell_type": "code",
   "execution_count": null,
   "outputs": [],
   "source": [
    "# Static methods\n",
    "\"\"\"\n",
    "    Static methods do not require a parameter indicating the class object \n",
    "    in other words, no self\n",
    "    \n",
    "    Static methods are used as utility methods and dont need an obj to execute its code \n",
    "\"\"\"\n",
    "\n",
    "class Bank_Acc:\n",
    "    def __init__(self, iban):\n",
    "        print(\"__init__ was called\") \n",
    "        self.iban = iban \n",
    "    \n",
    "    @staticmethod # labeling the staticmethod \n",
    "    def validate(iban):\n",
    "        if len(iban) == 20:\n",
    "            return True\n",
    "        else:\n",
    "            return False "
   ],
   "metadata": {
    "collapsed": false
   },
   "id": "512e15020ca9f711"
  },
  {
   "cell_type": "markdown",
   "source": [
    "### Sooo.. whats the difference between all these methods?\n",
    "\n",
    "*class methods* \n",
    "- require that `@classmethod` dec and **cls** instead of self\n",
    "- we're more focused on **changing things with the class** like class variables we could access them without the syntax Class.__priv_var \n",
    "- We could create objects using `cls(required_constructor_attribute)` and setting it to an object then modifying that object to add in more attributes that arent required by the constructor \n",
    "\n",
    "*instance methods*\n",
    "- usually the **normal methods** that we see as it modifies the <u>instance's attribute</u> \n",
    "- they're the **typical methods** that we see as we use the instances attribute for a certain purpose therefore we dont need any special dec  \n",
    "\n",
    "*static methods*\n",
    "- require the `@staticmethod` def and **doesnt** need self\n",
    "- used as a **utility function** rather than an actual function that modifies that class or object"
   ],
   "metadata": {
    "collapsed": false
   },
   "id": "2697dab61ead1c69"
  },
  {
   "cell_type": "code",
   "execution_count": null,
   "outputs": [],
   "source": [],
   "metadata": {
    "collapsed": false
   },
   "id": "bb49c5f2f7e716c5"
  }
 ],
 "metadata": {
  "kernelspec": {
   "display_name": "Python 3",
   "language": "python",
   "name": "python3"
  },
  "language_info": {
   "codemirror_mode": {
    "name": "ipython",
    "version": 2
   },
   "file_extension": ".py",
   "mimetype": "text/x-python",
   "name": "python",
   "nbconvert_exporter": "python",
   "pygments_lexer": "ipython2",
   "version": "2.7.6"
  }
 },
 "nbformat": 4,
 "nbformat_minor": 5
}
