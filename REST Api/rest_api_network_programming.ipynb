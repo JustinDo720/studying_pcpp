{
 "cells": [
  {
   "cell_type": "markdown",
   "source": [
    "# Representational State Transfer (REST)\n",
    "\n",
    "## Representational stores, transmits and receives representation \n",
    "\n",
    "Representation reflects **data or states that are retained inside the system and presented to the users**\n",
    "\n",
    "REST is all about *text* \n",
    "\n",
    "REST is focused on reflecting **states**\n",
    "\n",
    "## State is like class properties \n",
    "\n",
    "If properties changes its value it affects the object's *state* which is a **transition** \n",
    "\n",
    "With REST you could **affect the objects state through the network**\n",
    "\n",
    "## Transfer allows the network to act as a carrier...\n",
    "\n",
    "This allows the *network* to act as a **carrier allowing yuou to transmit states' representation to and from the server\n",
    "\n",
    "We transfer over **not the object, but its states or actions to modify the states**\n",
    " \n",
    "---\n",
    "\n",
    "## BSD sockets is an end-point \n",
    "\n",
    "a **point where the data is available to get it from and where the data may be sent to**\n",
    "\n",
    "BSD is borrowed from *Berkeley Software Distribution* where the socket was deployed for the first time \n",
    "\n",
    "The standard now is **POSIX sockets** but the **MS Windows reimplements BSD sockets in form of the WinSock**\n",
    "\n",
    "### Socket Domains are designed to combine two *domains*\n",
    "- **Unix domain** used to communicate programs within one operating system\n",
    "- **Internet domain** BSD socket API to communicate programs without with different computer system using TCP/IP\n",
    "\n",
    "### Socket address exchange their data to identify themselves \n",
    "- **IP address** of the computer system \n",
    "    - *32-bit long value to identify computers connected to any TCP/IP network*  \n",
    "- **Port number** (service number)\n",
    "    - *16-bit long integer number identifying a socket within a particular system* \n",
    "    - Some network services are usually the same (*the HTTP protocol, a carrier of data used by REST, is usually 80*)\n",
    "- **Protocol**\n",
    "    - *standardized set of rules allowing processes to communicate with each other*\n",
    "    - *protocol stack* is a *multilayer* set of protocols providing a unified services \n",
    "        - *basic* **elementary services**   are located at the bottom while advanced ones are on top\n",
    "- **IP** (Internet Protocol) is at the lowest part of TCP/IP and is **able to send a packet of a data between two network nodes**\n",
    "    - unreliable because it doesn't *guarantee*  \n",
    "        - any sent diagram might be lost and remain undetected \n",
    "- **TCP** (Transmission Control Protocol) is the highest part of the protocol stack because it **uses datagrams from the lower layers and handshakes (automated process of synchronizing flow of data) to construct reliable communication channel able to transmit and recieve single characters\n",
    "    - reliable because the if the stream of data doesnt reach to the target\n",
    "        - sends a communication failure \n",
    "                - data reaches the target intact \n",
    "- **UDP** (User Datagram Protocol) lower than TCP but on the higher end but doesnt use handshake (an automated process of synchronizing the flow of data) \n",
    "    - faster than TCP \n",
    "    - less reliable \n",
    "\n",
    "### What do these protocol tell us?\n",
    "\n",
    "**TCP** (Transmission Control Protocol) is the first-choice protocol for applications where data is more important than efficiency (REST, mail transfer etc)\n",
    "\n",
    "**UDP** is more adequate for **response time** (DNS, DHCP)\n",
    "\n",
    "### Connection-oriented vs Connectionless communication \n",
    "\n",
    "*Connection-oriented communication* **demands some preliminary steps to establish the connection and other steps to finish it\n",
    "\n",
    "(phone call) - connection-oriented\n",
    "- caller must dial callee number and wait till the network routes the connection\n",
    "- caller must wait for callee to answer \n",
    "- actual communication wont start until previous steps are completed \n",
    "\n",
    "*TCP/IP* is similar to this phone call \n",
    "- the caller would be the **client** \n",
    "- the calle would be the **server**\n",
    "\n",
    "**This connection-oriented communication is built on top of TCP** \n",
    "\n",
    "**Connectionless communication** can be *established ad-hoc* (snap) but neither *parties* are aware of the other sides **state** \n",
    "\n",
    "(walkie-talkies) - connectionless-oriented\n",
    "- either parties could communicate at *any time*\n",
    "- it doesnt guarantee that anyone will hear \n",
    "\n",
    "**This connectionless communication is built on top of UDP**\n"
   ],
   "metadata": {
    "collapsed": false
   },
   "id": "a4df8cb9b2247775"
  },
  {
   "cell_type": "code",
   "execution_count": null,
   "outputs": [],
   "source": [],
   "metadata": {
    "collapsed": false
   },
   "id": "de8923148510077e"
  },
  {
   "cell_type": "code",
   "execution_count": null,
   "outputs": [],
   "source": [],
   "metadata": {
    "collapsed": false
   },
   "id": "21361bf412c9e860"
  },
  {
   "cell_type": "code",
   "execution_count": null,
   "outputs": [],
   "source": [],
   "metadata": {
    "collapsed": false
   },
   "id": "cf0718bc0e207fed"
  },
  {
   "cell_type": "code",
   "execution_count": null,
   "outputs": [],
   "source": [],
   "metadata": {
    "collapsed": false
   },
   "id": "4bee8e7ef7bb9f24"
  },
  {
   "cell_type": "code",
   "execution_count": null,
   "outputs": [],
   "source": [],
   "metadata": {
    "collapsed": false
   },
   "id": "fe2868ac29799172"
  }
 ],
 "metadata": {
  "kernelspec": {
   "display_name": "Python 3",
   "language": "python",
   "name": "python3"
  },
  "language_info": {
   "codemirror_mode": {
    "name": "ipython",
    "version": 2
   },
   "file_extension": ".py",
   "mimetype": "text/x-python",
   "name": "python",
   "nbconvert_exporter": "python",
   "pygments_lexer": "ipython2",
   "version": "2.7.6"
  }
 },
 "nbformat": 4,
 "nbformat_minor": 5
}
