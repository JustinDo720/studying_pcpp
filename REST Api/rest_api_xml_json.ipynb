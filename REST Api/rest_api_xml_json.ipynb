{
 "cells": [
  {
   "cell_type": "markdown",
   "source": [
    "# XML (Extendable Markup Language) is a language\n",
    "\n",
    "It's also a **universal and transparent carrier** of any type of data. \n",
    "\n",
    "\n",
    "```xml\n",
    "<?xml version = \"1.0\" encoding = \"utf-8\"?>\n",
    "<!-- cars.xml - List of cars ready to sell -->\n",
    "<!DOCTYPE cars_for_sale SYSTEM \"cars.dtd\">\n",
    "<cars_for_sale>\n",
    "   <car>\n",
    "      <id>1</id>\n",
    "      <brand>Ford</brand>\n",
    "      <model>Mustang</model>\n",
    "      <production_year>1972</production_year>\n",
    "      <price currency=\"USD\">35900</price>\n",
    "   </car>\n",
    "   <car>\n",
    "      <id>2</id>\n",
    "      <brand>Aston Martin</brand>\n",
    "      <model>Rapide</model>\n",
    "      <production_year>2010</production_year>\n",
    "      <price currency=\"GBP\">32000</price>\n",
    "   </car>\n",
    "</cars_for_sale>\n",
    "```\n",
    "\n",
    "**The first line** *declares that the XML contains plain text* where we have an `attribute=value` like `version=\"1.0\"` which informs us about the version of XML and `encoding=\"utf-8\"` for the text encoded.\n",
    "\n",
    "**Second line** is just a *comment* using `<!-- comment -->` (Parser is going to ignore it completely)\n",
    "\n",
    "**Third line** has `<!DOCTYPE cars_for_sale SYSTEM \"cars.dtd\">` which is **self-defining** and the contents **isn't defined at all** as the parser is not able to check if the document contains all the needed data. \n",
    "- We have a \"meta-document\" which *describes the desired document content*. The parser is able to fully check the document's correctness\n",
    "- *Document type definition* (dtd) is a file extension which allows us to aggregate our document with its external definition (any internet location)\n",
    "    - *DOCTYPE* has the **name** of the XML document (*cars_for_sale*) \n",
    "        - also a **keyword** (`SYSTEM`, `PUBLIC`) where `PUBLIC` means DTD is pub with an **FPI** (Formal Public Identifier) and it's location is on a url. `SYSTEM` has it to where DTD is private and we just need the URI\n",
    "        - We also have the **URI** `\"cars.dtd\"`\n",
    "\n",
    "**Next** We have the XML document itself which consist of **elements** (**pair of tags**). It can also contain **empty elements** using (`<empty></empty>` or '<empty/>`).\n",
    "\n",
    "**Inside the XML document** we have *two elements* which means there are two cars inside the root element for sale. \n",
    "\n",
    "**Within each car** we have specified data for each.\n",
    "\n",
    "We need to take a look at `<price currency=\"WSD\">35900</price>` where we see that `currency` is the `prices` **attribute**. We could also add **as many attr inside a tag**\n",
    "\n",
    "---\n",
    "\n",
    "## How do we process XML documents in Python\n",
    "\n",
    "From our other course we remember that we *process* XML using a **tree graph**\n",
    "\n",
    "```python\n",
    "import xml.etree.ElementTree\n",
    "\n",
    "cars_for_sale = xml.etree.ElementTree.parse('cars.xml').getroot()\n",
    "print(cars_for_sale.tag)\n",
    "for car in cars_for_sale.findall('car'):\n",
    "    print('\\t', car.tag)\n",
    "    for prop in car:\n",
    "        print('\\t\\t', prop.tag, end='')\n",
    "        if prop.tag == 'price':\n",
    "            print(prop.attrib, end='')\n",
    "    print(' =', prop.text)\n",
    "```\n",
    "\n",
    "We remember the `xml.etree.ElementTree as ET` where we\n",
    "- Parse the xml file then grab the root (cars_for_sale) `cars_for_sale = xml.etree.ElementTree.parse('cars.xml').getroot()`\n",
    "- Iterate through all cars using `cars_for_sale.findall('car')`\n",
    "- Print or alter the elements in our root to access properties like `tag`, `attrib` and `text`\n",
    "\n",
    "**Modifying XML files** could be done with `cars_for_sale.remove(car)` and we could also add elements with `ET.SubElement(new_element, property).text = '4'` where `new_car = ET.Element('car')`\n",
    "- After creating the element we use `SubElement(parent_ele, sub_element_name)` which takes in the *parent element object* and the *sub elements name* we also have one more argument for the *attribute* by providing a tuple like: `ET.SubElement(new_car, 'price', {'currency': 'EUR'}).text = '61800'`\n",
    "\n",
    "After we have all the sub elements... we need to add this to our root. with `cars_for_sale`. We also need to use the `write()` function to fully create a new file and fills it with the modified XML document. `tree.write('newcars.xml', method='')`\n",
    "\n",
    "```python\n",
    "import xml.etree.ElementTree\n",
    "\n",
    "tree = xml.etree.ElementTree.parse('cars.xml')\n",
    "cars_for_sale = tree.getroot()\n",
    "for car in cars_for_sale.findall('car'):\n",
    "    if car.find('brand').text == 'Ford' and car.find('model').text == 'Mustang':\n",
    "        cars_for_sale.remove(car)\n",
    "        break\n",
    "new_car = xml.etree.ElementTree.Element('car')\n",
    "xml.etree.ElementTree.SubElement(new_car, 'id').text = '4'\n",
    "xml.etree.ElementTree.SubElement(new_car, 'brand').text = 'Maserati'\n",
    "xml.etree.ElementTree.SubElement(new_car, 'model').text = 'Mexico'\n",
    "xml.etree.ElementTree.SubElement(new_car, 'production_year').text = '1970'\n",
    "xml.etree.ElementTree.SubElement(new_car, 'price', {'currency': 'EUR'}).text = '61800'\n",
    "cars_for_sale.append(new_car)\n",
    "tree.write('newcars.xml', method='')\n",
    "\n",
    "```\n",
    "\n"
   ],
   "metadata": {
    "collapsed": false
   },
   "id": "7a9bbe0e7f6959be"
  },
  {
   "cell_type": "code",
   "execution_count": null,
   "outputs": [],
   "source": [],
   "metadata": {
    "collapsed": false
   },
   "id": "891d541d15dbc672"
  },
  {
   "cell_type": "code",
   "execution_count": null,
   "outputs": [],
   "source": [],
   "metadata": {
    "collapsed": false
   },
   "id": "8c1a3e73f4356561"
  },
  {
   "cell_type": "code",
   "execution_count": null,
   "outputs": [],
   "source": [],
   "metadata": {
    "collapsed": false
   },
   "id": "9b9f201c30586bfa"
  },
  {
   "cell_type": "code",
   "execution_count": null,
   "outputs": [],
   "source": [],
   "metadata": {
    "collapsed": false
   },
   "id": "46f83d41eb6792ae"
  },
  {
   "cell_type": "code",
   "execution_count": null,
   "outputs": [],
   "source": [],
   "metadata": {
    "collapsed": false
   },
   "id": "7cb7feb11e0f249e"
  },
  {
   "cell_type": "code",
   "execution_count": null,
   "outputs": [],
   "source": [],
   "metadata": {
    "collapsed": false
   },
   "id": "ed7c0db727e96872"
  },
  {
   "cell_type": "code",
   "execution_count": null,
   "outputs": [],
   "source": [],
   "metadata": {
    "collapsed": false
   },
   "id": "e487d98f4fce1e60"
  },
  {
   "cell_type": "code",
   "execution_count": null,
   "outputs": [],
   "source": [],
   "metadata": {
    "collapsed": false
   },
   "id": "a5857a57757b6779"
  },
  {
   "cell_type": "code",
   "execution_count": null,
   "outputs": [],
   "source": [],
   "metadata": {
    "collapsed": false
   },
   "id": "5e68598b69a223a1"
  }
 ],
 "metadata": {
  "kernelspec": {
   "display_name": "Python 3",
   "language": "python",
   "name": "python3"
  },
  "language_info": {
   "codemirror_mode": {
    "name": "ipython",
    "version": 2
   },
   "file_extension": ".py",
   "mimetype": "text/x-python",
   "name": "python",
   "nbconvert_exporter": "python",
   "pygments_lexer": "ipython2",
   "version": "2.7.6"
  }
 },
 "nbformat": 4,
 "nbformat_minor": 5
}
