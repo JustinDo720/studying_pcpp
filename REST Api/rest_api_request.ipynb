{
 "cells": [
  {
   "cell_type": "markdown",
   "source": [
    "# Sockets are good, but we need a *server* serving a web service\n",
    "\n",
    "Sockets are fine but it's **too good** meaning it exposes unnecessary information/details.\n",
    "\n",
    "**json-server** requires a Node.js environment (so install node.js) then run `npm` in the console to check.\n",
    "\n",
    "Next we download and install the `json-sever` package\n",
    "`npm install -g json-sever`\n",
    "\n",
    "So now let's use this with a json file \n",
    "`json-sever --watch cars.json`\n",
    "\n",
    "If all goes well you should have a link to **localhost** which means its connected to the **same machine** youre working on with a **port number 3000**\n",
    "- We could terminate with **CTRL-C** \n",
    "- Without a source it will automatically send us to the **welcome screen** \n",
    "- We could change the welcome screen with \n",
    "    - a **public** folder that has **index.html** but this folder has to be a *subfolder* where the json file exists\n",
    "\n",
    "---\n",
    " \n",
    "The `requests` module could work with our `json-sever` \n",
    "\n",
    "```python\n",
    "import requests \n",
    "\n",
    "reply = requests.get('http://localhost:3000')\n",
    "print(reply.status_code) \n",
    "```\n",
    "\n",
    "It's all about the **HTTP method** which act as as a **two-way interaction between the client and server**\n",
    "\n",
    "The `get()` function from `request` executes a HTTP `GET` method to *receive* the server's response. This is **simple and compact** because we just need to provide the **server's address and service port number** (the default port number is **80**)\n",
    "\n",
    "This `get()` requests returns an **object** result which is why we use a dot method called `status_code` to check if the method was **successful** \n",
    "\n",
    "We could see all the status codes [here](https://en.wikipedia.org/wiki/List_of_HTTP_status_codes)"
   ],
   "metadata": {
    "collapsed": false
   },
   "id": "913ee2fb90c8e84a"
  },
  {
   "cell_type": "code",
   "execution_count": 1,
   "outputs": [
    {
     "name": "stdout",
     "output_type": "stream",
     "text": [
      "{'name': 'status_codes', 'continue': 100, 'CONTINUE': 100, 'switching_protocols': 101, 'SWITCHING_PROTOCOLS': 101, 'processing': 102, 'PROCESSING': 102, 'checkpoint': 103, 'CHECKPOINT': 103, 'uri_too_long': 122, 'URI_TOO_LONG': 122, 'request_uri_too_long': 122, 'REQUEST_URI_TOO_LONG': 122, 'ok': 200, 'OK': 200, 'okay': 200, 'OKAY': 200, 'all_ok': 200, 'ALL_OK': 200, 'all_okay': 200, 'ALL_OKAY': 200, 'all_good': 200, 'ALL_GOOD': 200, '\\\\o/': 200, '✓': 200, 'created': 201, 'CREATED': 201, 'accepted': 202, 'ACCEPTED': 202, 'non_authoritative_info': 203, 'NON_AUTHORITATIVE_INFO': 203, 'non_authoritative_information': 203, 'NON_AUTHORITATIVE_INFORMATION': 203, 'no_content': 204, 'NO_CONTENT': 204, 'reset_content': 205, 'RESET_CONTENT': 205, 'reset': 205, 'RESET': 205, 'partial_content': 206, 'PARTIAL_CONTENT': 206, 'partial': 206, 'PARTIAL': 206, 'multi_status': 207, 'MULTI_STATUS': 207, 'multiple_status': 207, 'MULTIPLE_STATUS': 207, 'multi_stati': 207, 'MULTI_STATI': 207, 'multiple_stati': 207, 'MULTIPLE_STATI': 207, 'already_reported': 208, 'ALREADY_REPORTED': 208, 'im_used': 226, 'IM_USED': 226, 'multiple_choices': 300, 'MULTIPLE_CHOICES': 300, 'moved_permanently': 301, 'MOVED_PERMANENTLY': 301, 'moved': 301, 'MOVED': 301, '\\\\o-': 301, 'found': 302, 'FOUND': 302, 'see_other': 303, 'SEE_OTHER': 303, 'other': 303, 'OTHER': 303, 'not_modified': 304, 'NOT_MODIFIED': 304, 'use_proxy': 305, 'USE_PROXY': 305, 'switch_proxy': 306, 'SWITCH_PROXY': 306, 'temporary_redirect': 307, 'TEMPORARY_REDIRECT': 307, 'temporary_moved': 307, 'TEMPORARY_MOVED': 307, 'temporary': 307, 'TEMPORARY': 307, 'permanent_redirect': 308, 'PERMANENT_REDIRECT': 308, 'resume_incomplete': 308, 'RESUME_INCOMPLETE': 308, 'resume': 308, 'RESUME': 308, 'bad_request': 400, 'BAD_REQUEST': 400, 'bad': 400, 'BAD': 400, 'unauthorized': 401, 'UNAUTHORIZED': 401, 'payment_required': 402, 'PAYMENT_REQUIRED': 402, 'payment': 402, 'PAYMENT': 402, 'forbidden': 403, 'FORBIDDEN': 403, 'not_found': 404, 'NOT_FOUND': 404, '-o-': 404, '-O-': 404, 'method_not_allowed': 405, 'METHOD_NOT_ALLOWED': 405, 'not_allowed': 405, 'NOT_ALLOWED': 405, 'not_acceptable': 406, 'NOT_ACCEPTABLE': 406, 'proxy_authentication_required': 407, 'PROXY_AUTHENTICATION_REQUIRED': 407, 'proxy_auth': 407, 'PROXY_AUTH': 407, 'proxy_authentication': 407, 'PROXY_AUTHENTICATION': 407, 'request_timeout': 408, 'REQUEST_TIMEOUT': 408, 'timeout': 408, 'TIMEOUT': 408, 'conflict': 409, 'CONFLICT': 409, 'gone': 410, 'GONE': 410, 'length_required': 411, 'LENGTH_REQUIRED': 411, 'precondition_failed': 412, 'PRECONDITION_FAILED': 412, 'precondition': 428, 'PRECONDITION': 428, 'request_entity_too_large': 413, 'REQUEST_ENTITY_TOO_LARGE': 413, 'request_uri_too_large': 414, 'REQUEST_URI_TOO_LARGE': 414, 'unsupported_media_type': 415, 'UNSUPPORTED_MEDIA_TYPE': 415, 'unsupported_media': 415, 'UNSUPPORTED_MEDIA': 415, 'media_type': 415, 'MEDIA_TYPE': 415, 'requested_range_not_satisfiable': 416, 'REQUESTED_RANGE_NOT_SATISFIABLE': 416, 'requested_range': 416, 'REQUESTED_RANGE': 416, 'range_not_satisfiable': 416, 'RANGE_NOT_SATISFIABLE': 416, 'expectation_failed': 417, 'EXPECTATION_FAILED': 417, 'im_a_teapot': 418, 'IM_A_TEAPOT': 418, 'teapot': 418, 'TEAPOT': 418, 'i_am_a_teapot': 418, 'I_AM_A_TEAPOT': 418, 'misdirected_request': 421, 'MISDIRECTED_REQUEST': 421, 'unprocessable_entity': 422, 'UNPROCESSABLE_ENTITY': 422, 'unprocessable': 422, 'UNPROCESSABLE': 422, 'locked': 423, 'LOCKED': 423, 'failed_dependency': 424, 'FAILED_DEPENDENCY': 424, 'dependency': 424, 'DEPENDENCY': 424, 'unordered_collection': 425, 'UNORDERED_COLLECTION': 425, 'unordered': 425, 'UNORDERED': 425, 'upgrade_required': 426, 'UPGRADE_REQUIRED': 426, 'upgrade': 426, 'UPGRADE': 426, 'precondition_required': 428, 'PRECONDITION_REQUIRED': 428, 'too_many_requests': 429, 'TOO_MANY_REQUESTS': 429, 'too_many': 429, 'TOO_MANY': 429, 'header_fields_too_large': 431, 'HEADER_FIELDS_TOO_LARGE': 431, 'fields_too_large': 431, 'FIELDS_TOO_LARGE': 431, 'no_response': 444, 'NO_RESPONSE': 444, 'none': 444, 'NONE': 444, 'retry_with': 449, 'RETRY_WITH': 449, 'retry': 449, 'RETRY': 449, 'blocked_by_windows_parental_controls': 450, 'BLOCKED_BY_WINDOWS_PARENTAL_CONTROLS': 450, 'parental_controls': 450, 'PARENTAL_CONTROLS': 450, 'unavailable_for_legal_reasons': 451, 'UNAVAILABLE_FOR_LEGAL_REASONS': 451, 'legal_reasons': 451, 'LEGAL_REASONS': 451, 'client_closed_request': 499, 'CLIENT_CLOSED_REQUEST': 499, 'internal_server_error': 500, 'INTERNAL_SERVER_ERROR': 500, 'server_error': 500, 'SERVER_ERROR': 500, '/o\\\\': 500, '✗': 500, 'not_implemented': 501, 'NOT_IMPLEMENTED': 501, 'bad_gateway': 502, 'BAD_GATEWAY': 502, 'service_unavailable': 503, 'SERVICE_UNAVAILABLE': 503, 'unavailable': 503, 'UNAVAILABLE': 503, 'gateway_timeout': 504, 'GATEWAY_TIMEOUT': 504, 'http_version_not_supported': 505, 'HTTP_VERSION_NOT_SUPPORTED': 505, 'http_version': 505, 'HTTP_VERSION': 505, 'variant_also_negotiates': 506, 'VARIANT_ALSO_NEGOTIATES': 506, 'insufficient_storage': 507, 'INSUFFICIENT_STORAGE': 507, 'bandwidth_limit_exceeded': 509, 'BANDWIDTH_LIMIT_EXCEEDED': 509, 'bandwidth': 509, 'BANDWIDTH': 509, 'not_extended': 510, 'NOT_EXTENDED': 510, 'network_authentication_required': 511, 'NETWORK_AUTHENTICATION_REQUIRED': 511, 'network_auth': 511, 'NETWORK_AUTH': 511, 'network_authentication': 511, 'NETWORK_AUTHENTICATION': 511}\n"
     ]
    }
   ],
   "source": [
    "import requests\n",
    "\n",
    "print(requests.codes.__dict__)"
   ],
   "metadata": {
    "collapsed": false,
    "ExecuteTime": {
     "end_time": "2024-01-04T05:19:09.997241800Z",
     "start_time": "2024-01-04T05:19:09.926745500Z"
    }
   },
   "id": "49ecb62d6cd486a9"
  },
  {
   "cell_type": "markdown",
   "source": [
    "With these codes we could compare like: `if reply.status_code == requests.codes.ok` \n",
    "\n",
    "The server's response consist of two parts \n",
    "- **header** \n",
    "    - we could access the headers with `request.get(link).headers` \n",
    "- **contents**\n",
    "    -  The response contents are stored as **texts** so `requests.get(link).text` \n",
    "    - it will contain the **root document**\n",
    "\n",
    "We have other methods aside from `GET`. `POST` is in the opposite direction (from client to server). The server *assumes* that the data is **new to the server** (doesn't replace or overwrite)\n",
    "\n",
    "`PUT` on the other hand **replaces** stored data but its similar to client to server but with **different intentions**\n",
    "\n",
    "`DELETE` removes the resource given an identification \n",
    "- There are more like `HEAD`, `CONNECT`, `OPTIONS`, `TRACE`\n",
    "\n",
    "If **something goes wrong** we run a **try except** block where we can except `requests.exceptions.Timeout` and add an additional argument named `timeout` to our `get(url, timeout=1)`\n",
    "- if the server response exceeds this it will pull the Timeout exception up.\n",
    "\n",
    "We also have `requests.exceptions.ConnectionError` for **wrong ports**\n",
    "\n",
    "Malformed urls can be intercepted with `requests.exceptions.InvalidURL`\n",
    "\n",
    "Here's a tree of exceptions:\n",
    "\n",
    "```\n",
    "RequestException\n",
    "|___HTTPError\n",
    "|___ConnectionError\n",
    "|   |___ProxyError\t\n",
    "|   |___SSLError\t\n",
    "|___Timeout\n",
    "|   |___ConnectTimeout\n",
    "|   |___ReadTimeout\n",
    "|___URLRequired\n",
    "|___TooManyRedirects\n",
    "|___MissingSchema\n",
    "|___InvalidSchema\n",
    "|___InvalidURL\n",
    "|   |___InvalidProxyURL\n",
    "|___InvalidHeader\n",
    "|___ChunkedEncodingError\n",
    "|___ContentDecodingError\n",
    "|___StreamConsumedError\n",
    "|___RetryError\n",
    "|___UnrewindableBodyError\n",
    "```"
   ],
   "metadata": {
    "collapsed": false
   },
   "id": "b0101fd9dbe00387"
  },
  {
   "cell_type": "code",
   "execution_count": null,
   "outputs": [],
   "source": [],
   "metadata": {
    "collapsed": false
   },
   "id": "18ee8e8881dfad9b"
  },
  {
   "cell_type": "code",
   "execution_count": null,
   "outputs": [],
   "source": [],
   "metadata": {
    "collapsed": false
   },
   "id": "5bdafc478de6e114"
  },
  {
   "cell_type": "code",
   "execution_count": null,
   "outputs": [],
   "source": [],
   "metadata": {
    "collapsed": false
   },
   "id": "f3a770b9cf79efaa"
  },
  {
   "cell_type": "code",
   "execution_count": null,
   "outputs": [],
   "source": [],
   "metadata": {
    "collapsed": false
   },
   "id": "f3aa336bc8a15bd0"
  },
  {
   "cell_type": "code",
   "execution_count": null,
   "outputs": [],
   "source": [],
   "metadata": {
    "collapsed": false
   },
   "id": "aa37f941a110d7ba"
  },
  {
   "cell_type": "code",
   "execution_count": null,
   "outputs": [],
   "source": [],
   "metadata": {
    "collapsed": false
   },
   "id": "35820959fc4d4ef5"
  },
  {
   "cell_type": "code",
   "execution_count": null,
   "outputs": [],
   "source": [],
   "metadata": {
    "collapsed": false
   },
   "id": "567ce38a2106c7f4"
  }
 ],
 "metadata": {
  "kernelspec": {
   "display_name": "Python 3",
   "language": "python",
   "name": "python3"
  },
  "language_info": {
   "codemirror_mode": {
    "name": "ipython",
    "version": 2
   },
   "file_extension": ".py",
   "mimetype": "text/x-python",
   "name": "python",
   "nbconvert_exporter": "python",
   "pygments_lexer": "ipython2",
   "version": "2.7.6"
  }
 },
 "nbformat": 4,
 "nbformat_minor": 5
}
