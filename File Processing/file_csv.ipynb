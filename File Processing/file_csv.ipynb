{
 "cells": [
  {
   "cell_type": "markdown",
   "source": [
    "# Comma Separated Values (CSV) Module in Python\n",
    "\n",
    "Though this file is comma separated, other separators exist like *semicolon* and *tab*\n",
    "\n",
    "*Pandas* could be used or the *csv* module\n",
    "\n",
    "---\n",
    "\n",
    "## Reading data from a CSV file\n",
    "\n",
    "Using the `csv` library we could *read* and *write* data using the `reader(csvfile, delimiter=',')` "
   ],
   "metadata": {
    "collapsed": false
   },
   "id": "7317ddca7f5db3c9"
  },
  {
   "cell_type": "code",
   "execution_count": 2,
   "outputs": [
    {
     "name": "stdout",
     "output_type": "stream",
     "text": [
      "['Name', 'Phone']\n",
      "Name,Phone\n",
      "['mother', '222-555-101']\n",
      "mother,222-555-101\n",
      "['father', '222-555-102']\n",
      "father,222-555-102\n",
      "['wife', '222-555-103']\n",
      "wife,222-555-103\n",
      "['mother-in-law', '222-555-104']\n",
      "mother-in-law,222-555-104\n"
     ]
    }
   ],
   "source": [
    "# Standard Library \n",
    "import csv \n",
    "\n",
    "# Opening the csv file and inputting that object to the reader function\n",
    "with open('contacts.csv', newline='') as csvfile:\n",
    "    reader = csv.reader(csvfile, delimiter=',')\n",
    "    for row in reader:\n",
    "        print(row)\n",
    "        print(','.join(row))"
   ],
   "metadata": {
    "collapsed": false,
    "ExecuteTime": {
     "end_time": "2023-12-19T03:05:51.735867Z",
     "start_time": "2023-12-19T03:05:51.724349500Z"
    }
   },
   "id": "df6931d7b26d131a"
  },
  {
   "cell_type": "markdown",
   "source": [
    "Using that `csv` lib we open a csv file as an object and using the `csv.reader(csv_obj, delimiter=',')` because there could be different separators.\n",
    "\n",
    "When we open the csv as a file `with open('csv_file.csv', newline='') as csvfile` we have `newline` which protects us from incorrect interpretation of new line characters.\n",
    "\n",
    "After that we loop over our reader object because it returns rows of data \n",
    "\n",
    "---"
   ],
   "metadata": {
    "collapsed": false
   },
   "id": "eb885465e7cf2668"
  },
  {
   "cell_type": "markdown",
   "source": [
    "## We could read CSV files as a OrderedDict Object \n",
    "\n",
    "Each line (row) is mapped to an `OrderedDict` object using the `DictReader` class "
   ],
   "metadata": {
    "collapsed": false
   },
   "id": "d67a148f75167a12"
  },
  {
   "cell_type": "code",
   "execution_count": 3,
   "outputs": [
    {
     "name": "stdout",
     "output_type": "stream",
     "text": [
      "mother : 222-555-101\n",
      "father : 222-555-102\n",
      "wife : 222-555-103\n",
      "mother-in-law : 222-555-104\n"
     ]
    }
   ],
   "source": [
    "import csv \n",
    "\n",
    "with open('contacts.csv', newline='') as csvfile:\n",
    "    reader = csv.DictReader(csvfile)\n",
    "    for row in reader:\n",
    "        print(row['Name'], ':', row['Phone'])\n",
    "    "
   ],
   "metadata": {
    "collapsed": false,
    "ExecuteTime": {
     "end_time": "2023-12-19T03:31:39.565896600Z",
     "start_time": "2023-12-19T03:31:39.559892300Z"
    }
   },
   "id": "8df03b1c694a6f42"
  },
  {
   "cell_type": "markdown",
   "source": [
    "`DictReader` treats the first line of the file as a header which means if we don't have set columns then we **MUST** set our own columns \n"
   ],
   "metadata": {
    "collapsed": false
   },
   "id": "1dcd490bf04a9cc9"
  },
  {
   "cell_type": "code",
   "execution_count": 4,
   "outputs": [
    {
     "name": "stdout",
     "output_type": "stream",
     "text": [
      "Name : Phone\n",
      "mother : 222-555-101\n",
      "father : 222-555-102\n",
      "wife : 222-555-103\n",
      "mother-in-law : 222-555-104\n"
     ]
    }
   ],
   "source": [
    "with open('contacts.csv', newline='') as csvfile:\n",
    "    fieldnames = ['Name', 'Phone']\n",
    "    reader = csv.DictReader(csvfile, fieldnames=fieldnames)\n",
    "    for row in reader:\n",
    "        print(row['Name'], ':', row['Phone'])"
   ],
   "metadata": {
    "collapsed": false,
    "ExecuteTime": {
     "end_time": "2023-12-19T03:33:37.088981700Z",
     "start_time": "2023-12-19T03:33:37.079973600Z"
    }
   },
   "id": "3b54ca2895c20037"
  },
  {
   "cell_type": "markdown",
   "source": [
    "## Saving data to a CSV file \n",
    "\n",
    "This could be done using the `writer(csvfile, delimiter)` function \n",
    "\n",
    "Instead of opening our file without a *mode* we added a *\"w\"* mode for writing \n",
    "\n",
    "we use that `writer=csv.writer(csvfile, delimiter=',')` to create the writer object \n",
    "\n",
    "then we added data using `writer.writerow([])`\n",
    "\n",
    "We added `quotechar` and `quoting` options because by *default* the values are **quoted**\n",
    "- using `quoting=csv.QUOTE_MINIMAL` means that only values with **special characters** like *separators* or `quotechar` will be quoted \n",
    "\n",
    "We could see this with `\"grandmother, grandfather\"` because it has a `,` which is actually our delimiter and instead of separating them, we end up quoting it.\n",
    "- `quoting` has several options:\n",
    "    - `csv.QUOTE_ALL` will quote all values \n",
    "    - `csv.QUOTE_NONNUMERIC` will quote non-numerical values \n",
    "    - `csv.QUOTE_NONE` doesnt quote any value (kinda bad idea)\n",
    "-  "
   ],
   "metadata": {
    "collapsed": false
   },
   "id": "b10081a27473b9a8"
  },
  {
   "cell_type": "code",
   "execution_count": 7,
   "outputs": [],
   "source": [
    "import csv \n",
    "\n",
    "with open(\"exported_csv_file.csv\", \"w\", newline=\"\") as csvfile:\n",
    "    writer = csv.writer(csvfile, delimiter=',',quotechar='\"', quoting=csv.QUOTE_MINIMAL)\n",
    "    \n",
    "    writer.writerow(['Name', 'Phone'])\n",
    "    writer.writerow(['mother', '222-555-101'])\n",
    "    writer.writerow(['father', '222-555-102'])\n",
    "    writer.writerow(['wife', '222-555-103'])\n",
    "    writer.writerow(['mother-in-law', '222-555-104'])\n",
    "    writer.writerow(['grandmother, grandfather', '222-555-105'])"
   ],
   "metadata": {
    "collapsed": false,
    "ExecuteTime": {
     "end_time": "2023-12-19T03:47:20.889208Z",
     "start_time": "2023-12-19T03:47:20.884698600Z"
    }
   },
   "id": "3c5c812202f2990a"
  },
  {
   "cell_type": "markdown",
   "source": [],
   "metadata": {
    "collapsed": false
   },
   "id": "821a320dad6e2ccd"
  },
  {
   "cell_type": "markdown",
   "source": [
    "## We know about DictReader but now DictWriter?\n",
    "\n",
    "We set it up similar to the `writer` object but this time we have to worry about a few more items:\n",
    "- fieldnames\n",
    "- writing headers \n",
    "- a different way to enter row information while using the same `writerow()` function\n",
    "\n",
    "With a *file object*, we need a list of column names as *fieldnames*. After that we pass in both of these necessary information to `csv.DictWriter()`\n",
    "\n",
    "Before saving values we must call the `writer.writeheader()`\n",
    "\n",
    "As usual... we use the `writer.writerow()` to input the data into the CSV file; however, *this time* we add in a **dictionary** which contains the `{fieldname1: val1, fieldname2: val2}` to specify what the data belongs to instead of using a **list**\n"
   ],
   "metadata": {
    "collapsed": false
   },
   "id": "4d03ed0a6903a2ee"
  },
  {
   "cell_type": "code",
   "execution_count": 8,
   "outputs": [],
   "source": [
    "import csv \n",
    "\n",
    "with open('dict_exported_contacts.csv', 'w', newline='') as csvfile:\n",
    "    fieldnames = ['Name', 'Phone']\n",
    "    writer = csv.DictWriter(csvfile, fieldnames=fieldnames)\n",
    "    \n",
    "    writer.writeheader()\n",
    "    writer.writerow({'Name': 'mother', 'Phone': '222-555-101'})\n",
    "    writer.writerow({'Name': 'father', 'Phone': '222-555-102'})\n",
    "    writer.writerow({'Name': 'wife', 'Phone': '222-555-103'})\n",
    "    writer.writerow({'Name': 'mother-in-law', 'Phone': '222-555-104'})\n",
    "    writer.writerow({'Name': 'grandmother, grandfather and auntie', 'Phone': '222-555-105'})"
   ],
   "metadata": {
    "collapsed": false,
    "ExecuteTime": {
     "end_time": "2023-12-19T04:01:46.455343400Z",
     "start_time": "2023-12-19T04:01:46.452763300Z"
    }
   },
   "id": "8a98cce1e5bbab0f"
  },
  {
   "cell_type": "markdown",
   "source": [
    "## Summary and Recap\n",
    "\n",
    "**Comma Separated Values (CSV)** is another way to read and insert data throughout multiple platforms. We end up using the `csv` library but `pandas` also exist to work with csv files. These separators don't *necessarily** have to be commas; they could be spaces or tabs.\n",
    "\n",
    "**How do we read CSV files?** \n",
    "- We import the `csv` library \n",
    "    - `import csv` \n",
    "- Open the csv as a **file object** and understand that `newline` helps prevent misinterpretation of new lines characters\n",
    "    - `with open('csv_file_name.csv', newline='') as csvfile` \n",
    "- Use the `csv.reader()` function to a reader object while specifying the csvfile object and delimiter used (as many could be the separators) \n",
    "    - `reader = csv.reader(csvfile, delimiter=',')` \n",
    "- Loop through the **reader object** to see each row of data\n",
    "    -  ```python\n",
    "       for row in reader:\n",
    "            print(','.join(row))\n",
    "       ```\n",
    "\n",
    "**Instead of using a reader object** we could work with `OrderedDict` \n",
    "- Do the same thing with importing and opening a file object \n",
    "- This time we set the reader object to a `reader = csv.DictReader(csvfile)`\n",
    "- However... we **must** also work with columns using `fieldnames`\n",
    "    - set the field names (columns) as a list `fieldnames=['col1', 'col2']`\n",
    "    - add this fieldnames to the reader object `reader = csv.DictReader(csvfile, fieldnames=fieldnames)`  \n",
    "- This means we could access the data using **key values** \n",
    "    - ```python\n",
    "      for row in reader:\n",
    "            print(row['key1'], row['key2'])\n",
    "      ```  \n",
    "\n",
    "**Saving data** to a csv also has two of the *same* ways as reading CSV files\n",
    "- We import our csv library \n",
    "    - `import csv` \n",
    "- Open the file as an object **BUT** we must open it in *writing* form\n",
    "    - `with open('file_name.csv', \"w\", newline='') as csvfile` \n",
    "- Create the writer object \n",
    "    - `writer = csv.writer(csvfile, delimiter=',', quotechar='\"', quoting=csv.QUOTE_MINIMAL`\n",
    "- Insert rows\n",
    "    - `writer.writerow(['data1', 'data2'])` \n",
    "\n",
    "**Before we move onto** the second way we must look at **quote characters**. Now values are, by default, **quoted** and using the `quoting=csv.QUOTE_MINIMAL` specifies that only **special characters** will now use the `quotechar='\"'` provided.\n",
    "- There are more options like:\n",
    "    - `csv.QUOTE_ALL` will quote all values \n",
    "    - `csv.QUOTE_NONNUMERIC` will quote non-numerical values \n",
    "    - `csv.QUOTE_NONE` doesnt quote any value (kinda bad idea)\n",
    "\n",
    "**Saving data with dictionaries** is another way to store data\n",
    "- This follows the same pattern with importing csv, opening a file object in *writing* form\n",
    "- But it also includes `fieldnames=['col1','col2']` as we need the fieldnames for columns\n",
    "- After that, we create the writer object using `DictWriter()`\n",
    "    - `writer = csv.DictWriter(csvfile, fieldnames=fieldnames)`\n",
    "- Now we have to **actually** write the header before inputting data \n",
    "    - `writer.writeheader()`  \n",
    "- Instead of adding data with a list to `writerow()` function\n",
    "    - We use dictionaries specifying the fieldnames as keys then provide its value\n",
    "        -  `writer.writerow({'Name': 'mother', 'Phone': '222-555-101'})`"
   ],
   "metadata": {
    "collapsed": false
   },
   "id": "cf55345ece906c46"
  },
  {
   "cell_type": "markdown",
   "source": [
    "## Let's dumb it down for Justin (me)\n",
    "\n",
    "**Comma Separated Values (CSV)** are used with delimiters (separators) that could be commas, tabs, spaces etc...\n",
    "\n",
    "Using the `csv` library we could *read* and *write* data in two separate ways using the **reader/writer** function attached to an object or using the **DictReader/DictWriter** classes to treat rows as *dictionaries* instead of *lists*\n",
    "\n",
    "It all starts with **opening the csv file as an object**\n",
    "- `with open('csv_file_name.csv', newline='') as csvfile`\n",
    "\n",
    "Depending on our need (read/write) we need to add in \"w\" into that `open()` function to write data. **Newline** is important!! as it clears misunderstanding of new line characters.\n",
    "\n",
    "We create the reader/writer object with either of the two methods:\n",
    "- `reader = csv.reader(csvfile, delimiter=',')`\n",
    "- `reader = csv.DictReader(csvfile, fieldnames=['col1','col2'])`\n",
    "    - Fieldnames are important because dictionaries need **columns**\n",
    "- `writer = csv.writer(csvfile, delimiter=',', qoutechar='\"', quoting=csv.QUOTE_MINIMAL)` \n",
    "- `writer = csv.DictWriter(csvfile, fieldnames=['col1', 'col2']`\n",
    "    - Quoting is important because it handles *special characters* in our inputted data\n",
    "\n",
    "If we are **reading** we just loop through the reader object:\n",
    "- *normal* reader object would be a list type\n",
    "- *dictionary* reader object would be a dictionary type (access with keys)\n",
    "\n",
    "If we are **writing** we use `writer.writerow()`\n",
    "However; depending on our type we might insert a list `['d1','d2']` or a dictionary based on the **fieldnames** `{'fieldname1':'val', 'fieldname2':'val2'}`\n",
    "\n",
    "**BUT** if we are writing using `DictWriter()` we **MUST** `writer.writeheader()` before we insert data "
   ],
   "metadata": {
    "collapsed": false
   },
   "id": "fe22a87f339c54bb"
  },
  {
   "cell_type": "code",
   "execution_count": null,
   "outputs": [],
   "source": [],
   "metadata": {
    "collapsed": false
   },
   "id": "a302f79898d94be7"
  },
  {
   "cell_type": "code",
   "execution_count": null,
   "outputs": [],
   "source": [],
   "metadata": {
    "collapsed": false
   },
   "id": "c1c18b025d3a8dfe"
  },
  {
   "cell_type": "code",
   "execution_count": null,
   "outputs": [],
   "source": [],
   "metadata": {
    "collapsed": false
   },
   "id": "ec32eb4bcfb790d4"
  },
  {
   "cell_type": "markdown",
   "source": [],
   "metadata": {
    "collapsed": false
   },
   "id": "2bc511d91c29ad05"
  }
 ],
 "metadata": {
  "kernelspec": {
   "display_name": "Python 3",
   "language": "python",
   "name": "python3"
  },
  "language_info": {
   "codemirror_mode": {
    "name": "ipython",
    "version": 2
   },
   "file_extension": ".py",
   "mimetype": "text/x-python",
   "name": "python",
   "nbconvert_exporter": "python",
   "pygments_lexer": "ipython2",
   "version": "2.7.6"
  }
 },
 "nbformat": 4,
 "nbformat_minor": 5
}
