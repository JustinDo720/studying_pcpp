{
 "cells": [
  {
   "cell_type": "markdown",
   "source": [
    "# Processing Files Final Test \n",
    "\n",
    "### Attempt: 79%\n",
    "\n",
    "Sadly they don't give me the answers so here's some info on the questions I did \n",
    "\n",
    "1) **XML** must have an *opening closing tag*, *root element*, *prolog*\n",
    "2) `logger = logging.getLogger()` returns the **root logger**\n",
    "3) *INI file* have *key/value entries*, *attr*, *sections*\n",
    "4) `xml.etree.ElementTree` has *getroot* for returning the root element\n",
    "5) *SQLite* is *self-contained* and *transactional*\n",
    "6) `xml.etree.ElementTree` parsing are `parse`\n",
    "7) *INI files* contain `DEFAULT` for entries in other sections\n",
    "8) `SELECT * FROM fruit` and `SELECT id, name FROM fruit`\n",
    "9) `conn = sqlite3.connect('file.db')` and `conn=sqlite3.connect(':memory:')`\n",
    "10) *XML* documents include *prolog*, *root element*, *attributes*\n",
    "11) *sqlite3* module have *fetchall* and *fetchone*\n",
    "12) *DictWriter* provided by *csv* module are *writerow* and *writeheader*\n",
    "13) *Do not exist* methods in *sqlite3* are `executeall` and `executeone`\n",
    "14) **CRITICAL** is the highest logging level value\n",
    "15) *sqlite3* have `Cursor` and `Connection` class\n",
    "16) `xml.etree.ElemenTree` has *find, iter and findall*\n",
    "17) if key doesn't exist in `config['mongo']['key']` it raises an **error*\n",
    "18) saving data in csv file with *writer* function and *DictWriter* class\n",
    "19) `%(level)s` for *LogRecord* object\n",
    "20) `:` and `=` for key/value entries in ini files\n",
    "21) `xml.etree.ElementTree` and `xml.dom.minidom` for py standard library to work with XML module\n",
    "22) Lowest logging level: `NOTSET` because it's 0\n",
    "23) `CRITICAL:root:Message` is default logging format\n",
    "24) `header = csv.DictWriter()` needs `writer.writeheader()` unless no fieldnames then we don't need `writeheader()`\n",
    "25) `commit` method to save changes made to db\n",
    "26) *Interpolation syntax* is `%(placeholder)s`\n",
    "27) reading csv file with `reader()` function and `DictReader` class\n",
    "28) `utf-8` default encoding for xml files"
   ],
   "metadata": {
    "collapsed": false
   },
   "id": "6a71d179063cd8f6"
  },
  {
   "cell_type": "code",
   "execution_count": null,
   "outputs": [],
   "source": [],
   "metadata": {
    "collapsed": false
   },
   "id": "3fd98d7426bf8d88"
  }
 ],
 "metadata": {
  "kernelspec": {
   "display_name": "Python 3",
   "language": "python",
   "name": "python3"
  },
  "language_info": {
   "codemirror_mode": {
    "name": "ipython",
    "version": 2
   },
   "file_extension": ".py",
   "mimetype": "text/x-python",
   "name": "python",
   "nbconvert_exporter": "python",
   "pygments_lexer": "ipython2",
   "version": "2.7.6"
  }
 },
 "nbformat": 4,
 "nbformat_minor": 5
}
