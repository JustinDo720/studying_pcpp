{
 "cells": [
  {
   "cell_type": "markdown",
   "source": [
    "# Logging in Python\n",
    "\n",
    "the `logging` module is often used to find errors by informing you of the causes of errors \n",
    "\n",
    "When logging with a simple application we use **root logger** by calling the `logging.getLogger()` function from our imported library `import logging`\n",
    "\n",
    "**Hierarchy** is based on the fact that a name *may or may not* be placed as an argument for our `getLogger()` function. If there is no name, the logger is a **root logger** which is higher in terms of hierarchy.\n",
    "\n",
    "We could create **child loggers** by passing in a name and use **dot separators** to build child loggers of a child logger\n",
    "\n",
    "All *loggers* return an **Logger object**"
   ],
   "metadata": {
    "collapsed": false
   },
   "id": "c48b12daa3f027d1"
  },
  {
   "cell_type": "code",
   "execution_count": 4,
   "outputs": [],
   "source": [
    "import logging\n",
    "\n",
    "# Root logger\n",
    "logger = logging.getLogger()\n",
    "# Child logger\n",
    "hello_logger = logging.getLogger('hello')\n",
    "# Child logger a hello_logger (a child logger of root)\n",
    "hello_world_logger = logging.getLogger('hello.world')\n",
    "recommended_logger = logging.getLogger(__name__)"
   ],
   "metadata": {
    "collapsed": false,
    "ExecuteTime": {
     "end_time": "2023-12-20T02:26:26.373115600Z",
     "start_time": "2023-12-20T02:26:26.347091800Z"
    }
   },
   "id": "2ba24fe030867aea"
  },
  {
   "cell_type": "markdown",
   "source": [
    "## Different levels of logging \n",
    "\n",
    "There are different levels to *distinguish* between less important logs and important ones like reporting an error \n",
    "\n",
    "**Level Names** \n",
    "- `CRITICAL` | Value: `50`\n",
    "- `ERROR` | Value: `40`\n",
    "- `WARNING` | Value: `30`\n",
    "- `INFO` | Value: `20`\n",
    "- `DEBUG` | Value: `10`\n",
    "- `NOTSET` | Value: `0`"
   ],
   "metadata": {
    "collapsed": false
   },
   "id": "97e08028cfaff9cb"
  },
  {
   "cell_type": "code",
   "execution_count": 5,
   "outputs": [
    {
     "name": "stderr",
     "output_type": "stream",
     "text": [
      "CRITICAL:root:CRITICAL\n",
      "ERROR:root:ERROR\n",
      "WARNING:root:WARNING\n"
     ]
    }
   ],
   "source": [
    "import logging \n",
    "\n",
    "# Setting up Basic Configurations \n",
    "logging.basicConfig()\n",
    "# Building that root logger\n",
    "logger = logging.getLogger()\n",
    "\n",
    "# Trying different levels of logging \n",
    "logger.critical(\"CRITICAL\")\n",
    "logger.error(\"ERROR\")\n",
    "logger.warning(\"WARNING\")\n",
    "logger.info(\"INFO\")\n",
    "logger.debug(\"DEBUG\")"
   ],
   "metadata": {
    "collapsed": false,
    "ExecuteTime": {
     "end_time": "2023-12-20T02:33:54.893856600Z",
     "start_time": "2023-12-20T02:33:54.888539700Z"
    }
   },
   "id": "2d0cfea48aea03e5"
  },
  {
   "cell_type": "markdown",
   "source": [
    "## Log format \n",
    "\n",
    "Our log format includes: level:logger_name:logger_message\n",
    "\n",
    "**The root logger** has a level set to `WARNING` which means it doesn't log `DEBUG` or `INFO`; therefore, we might want to change this using `setLevel()` method \n",
    "`logger = logging.getLogger()` then `logger.setLevel(logging.DEBUG)` \n",
    "\n",
    "Since the setting is on `logging.DEBUG` that means it will log `DEBUG` and above (`CRITICAL`, `ERROR`, `WARNING`, `INFO`)\n",
    "\n",
    "---\n",
    "\n",
    "## Let's start the configuration process\n",
    "\n",
    "We import the `logging` module then using `basicConfig()` (which, by itself, creates a `StreamHandler` object and displays them on console) to set the configuration. We could add in arguments. The default `Formatter` object is responsible for the log format **level_name:logger_name:logger_message**\n",
    "\n",
    "Using `basicConfig(level=logging.CRITICAL, filename='prod.log', filemode='a')` you could change the logging level (similar to `setLevel()`), the location of the logs, and the `filemode` to specify the mode ('a' for append (default), 'w' for write, 'r' for read) "
   ],
   "metadata": {
    "collapsed": false
   },
   "id": "257aac02964353a7"
  },
  {
   "cell_type": "code",
   "execution_count": 11,
   "outputs": [
    {
     "name": "stderr",
     "output_type": "stream",
     "text": [
      "CRITICAL:root:CRITICAL\n",
      "ERROR:root:ERROR\n",
      "WARNING:root:WARNING\n"
     ]
    }
   ],
   "source": [
    "import logging \n",
    "\n",
    "# Setting up Basic Configurations with a set level and the filename.log to grab all the information and put them into there\n",
    "logging.basicConfig(level=logging.CRITICAL, filename='prod.log', filemode='w')\n",
    "# Building that root logger\n",
    "logger = logging.getLogger()\n",
    "\n",
    "# Trying different levels of logging \n",
    "logger.critical(\"CRITICAL\")\n",
    "logger.error(\"ERROR\")\n",
    "logger.warning(\"WARNING\")\n",
    "logger.info(\"INFO\")\n",
    "logger.debug(\"DEBUG\")"
   ],
   "metadata": {
    "collapsed": false,
    "ExecuteTime": {
     "end_time": "2023-12-20T02:57:26.035263Z",
     "start_time": "2023-12-20T02:57:26.030987300Z"
    }
   },
   "id": "7b0298d989c89065"
  },
  {
   "cell_type": "markdown",
   "source": [],
   "metadata": {
    "collapsed": false
   },
   "id": "6733eae4d64071ef"
  },
  {
   "cell_type": "markdown",
   "source": [
    "## basicConfig could help change the format \n",
    "\n",
    "Using the `basicConfig(level=logging.DEBUG, filename='prod.log', filemode='a', format=format)` we could change the format using the `format` argument \n",
    "\n",
    "Attributes to create our format:\n",
    "- `%(name)s` for the logger name\n",
    "- `%(levelname)s` for the level name\n",
    "- `%(asctime)s` for the human-readable date\n",
    "- `%(message)s` for the message \n",
    "\n",
    "The format for the `format` argument is like this:\n",
    "- `%(LOG_RECORD_ATTR_NAME)s`\n",
    "\n"
   ],
   "metadata": {
    "collapsed": false
   },
   "id": "3f01c5126d8308f1"
  },
  {
   "cell_type": "code",
   "execution_count": null,
   "outputs": [],
   "source": [
    "import logging\n",
    "\n",
    "FORMAT = '%(name)s:%(levelname)s:%(asctime)s:%(message)s'\n",
    "\n",
    "logging.basicConfig(level=logging.CRITICAL, filename='prod.log', filemode='a', format=FORMAT)\n",
    "\n",
    "logger = logging.getLogger()\n",
    "\n",
    "logger.critical('Your CRITICAL message')\n",
    "logger.error('Your ERROR message')\n",
    "logger.warning('Your WARNING message')\n",
    "logger.info('Your INFO message')\n",
    "logger.debug('Your DEBUG message')"
   ],
   "metadata": {
    "collapsed": false
   },
   "id": "3a31ab2277e13bbc"
  },
  {
   "cell_type": "markdown",
   "source": [
    "---\n",
    "\n",
    "## Personal handler and formatter\n",
    "\n",
    "We might want to save these into a file so the `logging` module has a `FileHandler` class that takes in a *file_name.log* and a mode (w,a,r)\n",
    "- `handler = logging.FileHandler('prod.log', mode='w')`\n",
    "\n",
    "We could configure this handler and set the level\n",
    "- `handler.setLevel(logging.CRITICAL)`\n",
    "\n",
    "**The Formatter** is added to the handler by:\n",
    "- creating the format like before\n",
    "- creating the format object `formatter = logging.Formatter(FORMAT)`\n",
    "- then adding it to the handler `handler.setFormatter(formatter)`\n",
    "\n",
    "Once we finished making our handler we must *register* it with `logger.addHandler(handler)`"
   ],
   "metadata": {
    "collapsed": false
   },
   "id": "3758df9405cbfb70"
  },
  {
   "cell_type": "code",
   "execution_count": 12,
   "outputs": [
    {
     "name": "stderr",
     "output_type": "stream",
     "text": [
      "CRITICAL:__main__:Your CRITICAL message\n",
      "ERROR:__main__:Your ERROR message\n",
      "WARNING:__main__:Your WARNING message\n"
     ]
    }
   ],
   "source": [
    "import logging\n",
    "\n",
    "FORMAT = '%(name)s:%(levelname)s:%(asctime)s:%(message)s'\n",
    "\n",
    "logger = logging.getLogger(__name__)\n",
    "\n",
    "handler = logging.FileHandler('prod.log', mode='w')\n",
    "handler.setLevel(logging.CRITICAL)\n",
    "\n",
    "formatter = logging.Formatter(FORMAT)\n",
    "handler.setFormatter(formatter)\n",
    "\n",
    "logger.addHandler(handler)\n",
    "\n",
    "logger.critical('Your CRITICAL message')\n",
    "logger.error('Your ERROR message')\n",
    "logger.warning('Your WARNING message')\n",
    "logger.info('Your INFO message')\n",
    "logger.debug('Your DEBUG message')"
   ],
   "metadata": {
    "collapsed": false,
    "ExecuteTime": {
     "end_time": "2023-12-20T05:57:59.114757900Z",
     "start_time": "2023-12-20T05:57:59.112756500Z"
    }
   },
   "id": "e7a7ced51b316617"
  },
  {
   "cell_type": "markdown",
   "source": [
    "# Summary and Recap\n",
    "\n",
    "**Logging** could be useful to obtain information about serious errors or other necessary materials for you or another developer. \n",
    "\n",
    "We use the `logging` library to create our logs by:\n",
    "- importing the logging library \n",
    "    - `import logging` \n",
    "- set up the basic config with a specified **level** and an *optional* **file name and mode**\n",
    "    - `logging.basicConfig(level=logging.DEBUG, filename='filename.log', filemode='w')`\n",
    "- create the *root logger* (followed by any child)\n",
    "    - `root_logger = logging.getLogger()` will be your *root logger*\n",
    "    - `hello_logger = logging.getLogger('hello')` will be a *child logger*\n",
    "    - `hello_world_logger = logging.getLogger('hello.world')` will be a *child logger* of hello_logger \n",
    "- modify your logger with **handlers** and **formatters**\n",
    "    - handlers are strong because it **works better with files**\n",
    "        - we create a handler object with `handler = logging.FileHandler('file_name.log', mode='w')\n",
    "        - set the level using `handler.setLevel(logging.CRITICAL)`\n",
    "    - formatters could change the default format => level:logger_name:logger_msg\n",
    "        - create a format like: `FORMAT = '%(name)s:%(levelname)s:%(asctime)s:%(message)s'`\n",
    "        - create the format object `formatter = logging.Formatter(FORMAT)`\n",
    "        - set the formatter to the **handler** `handler.setFormatter(formatter)`\n",
    "            - you could use this formatter with `logging.basicConfig(level=logging.DEBUG, filename='file_name.log', filemode='w', format=FORMAT)`\n",
    "\n",
    "Here are the levels that we must know:\n",
    "- `CRITICAL` | Value: `50`\n",
    "- `ERROR` | Value: `40`\n",
    "- `WARNING` | Value: `30` (default)\n",
    "- `INFO` | Value: `20`\n",
    "- `DEBUG` | Value: `10`\n",
    "- `NOTSET` | Value: `0`\n",
    "\n",
    "*Understand* that if we use this with `logging.LEVEL` where \"LEVEL\" is one of the level above. If we choose something too high it won't log the **ones under**."
   ],
   "metadata": {
    "collapsed": false
   },
   "id": "122db5eb81cc7745"
  },
  {
   "cell_type": "code",
   "execution_count": 24,
   "outputs": [
    {
     "name": "stderr",
     "output_type": "stream",
     "text": [
      "ERROR:__main__:THIS IS AN ERROR\n"
     ]
    }
   ],
   "source": [
    "# First we import logging \n",
    "import logging \n",
    "\n",
    "# # Setting up the Basic Config\n",
    "# logging.basicConfig(level=logging.INFO)\n",
    "\n",
    "# Set a format \n",
    "format = '%(asctime)s:%(levelname)s:%(name)s:%(message)s'\n",
    "formatter = logging.Formatter(format)\n",
    "\n",
    "# Setting up the File Handler \n",
    "handler = logging.FileHandler('prod2.log', mode='a')    # BE SURE TO ADD MODE (we forgot to)\n",
    "handler.setLevel(level=logging.INFO)    # we set the logging level here so we dont need to use basic config\n",
    "\n",
    "handler.setFormatter(formatter)\n",
    "\n",
    "# Building the logger \n",
    "logger = logging.getLogger(__name__)\n",
    "# MAKE SURE TO ADD THE HANDLER \n",
    "logger.addHandler(handler)\n",
    "\n",
    "logger.error(\"THIS IS AN ERROR\")\n",
    "logger.info(\"THIS IS INFO\")\n",
    "logger.debug(\"THIS IS DEBUG BUT WILL NOT SHOW IN FILE\")"
   ],
   "metadata": {
    "collapsed": false,
    "ExecuteTime": {
     "end_time": "2023-12-20T06:43:25.415802800Z",
     "start_time": "2023-12-20T06:43:25.405793900Z"
    }
   },
   "id": "a88651e549bd6e8"
  },
  {
   "cell_type": "code",
   "execution_count": null,
   "outputs": [],
   "source": [],
   "metadata": {
    "collapsed": false
   },
   "id": "f928fda6254fd2e6"
  },
  {
   "cell_type": "code",
   "execution_count": null,
   "outputs": [],
   "source": [],
   "metadata": {
    "collapsed": false
   },
   "id": "132fd7350d0df65c"
  }
 ],
 "metadata": {
  "kernelspec": {
   "display_name": "Python 3",
   "language": "python",
   "name": "python3"
  },
  "language_info": {
   "codemirror_mode": {
    "name": "ipython",
    "version": 2
   },
   "file_extension": ".py",
   "mimetype": "text/x-python",
   "name": "python",
   "nbconvert_exporter": "python",
   "pygments_lexer": "ipython2",
   "version": "2.7.6"
  }
 },
 "nbformat": 4,
 "nbformat_minor": 5
}
