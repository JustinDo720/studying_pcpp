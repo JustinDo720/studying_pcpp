{
 "cells": [
  {
   "cell_type": "markdown",
   "source": [
    "# **Extensible Markup Language (XML) processing with Python\n",
    "\n",
    "Python libraries to work with *XML* \n",
    "- **xml.etree.ElementTree** is an API for *analyzing and creating* XML data \n",
    "- **xml.dom.minidom** uses a *Document Object Model* approach for XML where each node of the tree structure is an object\n",
    "- **xml.sax** is where SAX (Simple API for XML) deals with event-driven XML document analysis\n",
    "\n",
    " XML is a *markup language* intended for storing and transporting data\n",
    " \n",
    "Here are some XML *elements*:\n",
    "- **prolog** (optional) is specify character encoding `<?xml version=\"1.0\" encoding=\"ISO-8859-2>` \n",
    "- **root element** is the main element that contains all other element \n",
    "- **elements** consist of opening and closing tags (text, attributes, child elements) \n",
    "- **attributes** key-value pairs that are inside elements\n",
    "\n",
    "```xml\n",
    "<?xml version=\"1.0\"?>\n",
    "<data>\n",
    "    <book title=\"The Little Prince\">\n",
    "        <author>Antoine de Saint-Exupéry</author>\n",
    "        <year>1943</year>\n",
    "    </book>\n",
    "    <book title=\"Hamlet\">\n",
    "        <author>William Shakespeare</author>\n",
    "        <year>1603</year>\n",
    "    </book>\n",
    "</data>\n",
    "```\n",
    "`<?xml version=\"1.0\">` is the **prolog**\n",
    "`data` is your **root element**\n",
    "`<book title=\"The Little Prince\">` is an **element** with an **attribute** title "
   ],
   "metadata": {
    "collapsed": false
   },
   "id": "a8d2828fd3f6c504"
  },
  {
   "cell_type": "code",
   "execution_count": 4,
   "outputs": [
    {
     "name": "stdout",
     "output_type": "stream",
     "text": [
      "Root tag is:  breakfast_menu\n",
      "Child tag is:  food\n",
      "Attributes:  {}\n",
      "Child tag is:  food\n",
      "Attributes:  {}\n",
      "Child tag is:  food\n",
      "Attributes:  {}\n",
      "Child tag is:  food\n",
      "Attributes:  {}\n",
      "Child tag is:  food\n",
      "Attributes:  {}\n"
     ]
    }
   ],
   "source": [
    "# Importing ElementTree with an Alias \n",
    "import xml.etree.ElementTree as ET \n",
    "\n",
    "# Creating a tree from an existing XML document using the parse() method\n",
    "tree = ET.parse('breakfast.xml')\n",
    "# getroot() returns the root element in which we can reach any element in the document\n",
    "root = tree.getroot()   \n",
    "\n",
    "# Another way is to use formstring from an XML as a string returning a root element \n",
    "# root = ET.fromstring(your_xml_as_string)\n",
    "\n",
    "print(\"Root tag is: \", root.tag)\n",
    "for child in root:\n",
    "    print(\"Child tag is: \", child.tag)\n",
    "    print(\"Attributes: \", child.attrib)"
   ],
   "metadata": {
    "collapsed": false,
    "ExecuteTime": {
     "end_time": "2023-12-18T10:46:55.852564600Z",
     "start_time": "2023-12-18T10:46:55.839586500Z"
    }
   },
   "id": "8842c0af60d1ba61"
  },
  {
   "cell_type": "code",
   "execution_count": 25,
   "outputs": [
    {
     "name": "stdout",
     "output_type": "stream",
     "text": [
      "Berry-Berry Belgian Waffles\n",
      "$8.95\n",
      "\n",
      "Light Belgian waffles covered with an assortment of fresh berries and whipped cream\n",
      "\n",
      "900\n",
      "French Toast\n",
      "$4.50\n",
      "\n",
      "Thick slices made from our homemade sourdough bread\n",
      "\n",
      "600\n",
      "Homestyle Breakfast\n",
      "$6.95\n",
      "\n",
      "Two eggs, bacon or sausage, toast, and our ever-popular hash browns\n",
      "\n",
      "950\n"
     ]
    }
   ],
   "source": [
    "# We could access things directly using indexes\n",
    "for child in root:  # inside breakfast_menu\n",
    "    for inner_child in child:   # inside each food element \n",
    "        print(inner_child.text)"
   ],
   "metadata": {
    "collapsed": false,
    "ExecuteTime": {
     "end_time": "2023-12-18T10:54:37.910557900Z",
     "start_time": "2023-12-18T10:54:37.903044900Z"
    }
   },
   "id": "e07ea660fb17d8c"
  },
  {
   "cell_type": "markdown",
   "source": [
    "**IF** my child had attributes...\n",
    "\n",
    "You could access them using `child.attrib['attrib_name']` and work with `.text` or `.tag` properties "
   ],
   "metadata": {
    "collapsed": false
   },
   "id": "f4014e76a9d0a25a"
  },
  {
   "cell_type": "code",
   "execution_count": 31,
   "outputs": [
    {
     "name": "stdout",
     "output_type": "stream",
     "text": [
      "Berry-Berry Belgian Waffles\n",
      "French Toast\n",
      "Homestyle Breakfast\n"
     ]
    }
   ],
   "source": [
    "# Looking inside and finds all child elements (and nested elements) for the requested tag\n",
    "for breakfast in root.iter('name'): \n",
    "    print(breakfast.text)   # we could access the Element class object by using .text\n",
    "    \n",
    "# We'll see that this prints nothing because it ONLY looks at the first/closest child of the root element\n",
    "for breakfast in root.findall('name'):  \n",
    "    print(breakfast.text)"
   ],
   "metadata": {
    "collapsed": false,
    "ExecuteTime": {
     "end_time": "2023-12-18T11:01:39.541332300Z",
     "start_time": "2023-12-18T11:01:39.531818100Z"
    }
   },
   "id": "e4619f5b1f89f619"
  },
  {
   "cell_type": "code",
   "execution_count": 35,
   "outputs": [
    {
     "name": "stdout",
     "output_type": "stream",
     "text": [
      "food\n"
     ]
    }
   ],
   "source": [
    "# Using the find method to parse XML \n",
    "print(root.find('food').tag)    # Represents the FIRST child element containing the \"food\" tag"
   ],
   "metadata": {
    "collapsed": false,
    "ExecuteTime": {
     "end_time": "2023-12-18T11:04:17.220479100Z",
     "start_time": "2023-12-18T11:04:17.210475Z"
    }
   },
   "id": "bb8759af97dc9382"
  },
  {
   "cell_type": "code",
   "execution_count": 41,
   "outputs": [
    {
     "name": "stdout",
     "output_type": "stream",
     "text": [
      "Monday: 28 Celsius, 82.4 Fahrenheit\n",
      "Tuesday: 27 Celsius, 80.6 Fahrenheit\n",
      "Wednesday: 28 Celsius, 82.4 Fahrenheit\n",
      "Thursday: 29 Celsius, 84.2 Fahrenheit\n",
      "Friday: 29 Celsius, 84.2 Fahrenheit\n",
      "Saturday: 31 Celsius, 87.8 Fahrenheit\n",
      "Sunday: 32 Celsius, 89.6 Fahrenheit\n"
     ]
    }
   ],
   "source": [
    "# Exercise creating a class to convert cel to fahr\n",
    "import xml.etree.ElementTree as ET\n",
    "\n",
    "class TemperatureConverter:\n",
    "    \n",
    "    def __init__(self, temp_c):\n",
    "        self.temp_c = temp_c\n",
    "        self.temp_f = None\n",
    "    \n",
    "    def convert_celsius_to_fahrenheit(self):\n",
    "        # perform the mafhs \n",
    "        temp_f = 9/5*float(self.temp_c) + 32\n",
    "        self.temp_f = round(temp_f,1)\n",
    "        return temp_f\n",
    "\n",
    "\n",
    "class ForecastXmlParser:\n",
    "    \n",
    "    def __init__(self):\n",
    "        pass \n",
    "    \n",
    "    def parse(self, file_name):\n",
    "        # Create the XML tree \n",
    "        tree = ET.parse(file_name)\n",
    "        # Creating the root based off the tree (grabs root element)\n",
    "        root = tree.getroot()\n",
    "        # Looping through all the child memories of root \n",
    "        for item in root:\n",
    "            # Let's convert our Cel to Fahr\n",
    "            converter = TemperatureConverter(item.find('temperature_in_celsius').text)\n",
    "            converter.convert_celsius_to_fahrenheit()\n",
    "            # We could use index slice for each child element (0-day, 1-temp in cel) but we could also work with .find()\n",
    "            # Our requested format is: \"Day: C Celsius, F.0 Fahrenheit\" where Fahrenheit is rounded to the first decimal\n",
    "            print(f'{item[0].text}: {item.find('temperature_in_celsius').text} Celsius, {converter.temp_f} Fahrenheit')\n",
    "            \n",
    "\n",
    "forecast = ForecastXmlParser()\n",
    "forecast.parse('forecast.xml')\n",
    "        "
   ],
   "metadata": {
    "collapsed": false,
    "ExecuteTime": {
     "end_time": "2023-12-18T11:24:55.665766900Z",
     "start_time": "2023-12-18T11:24:55.656671100Z"
    }
   },
   "id": "2eaf104b8d2917bd"
  },
  {
   "cell_type": "markdown",
   "source": [
    "the exact result: Check the Lab_1.PNG"
   ],
   "metadata": {
    "collapsed": false
   },
   "id": "f2eef01eb8b712b8"
  },
  {
   "cell_type": "code",
   "execution_count": null,
   "outputs": [],
   "source": [],
   "metadata": {
    "collapsed": false
   },
   "id": "aa71a3eaf9f2a8d9"
  },
  {
   "cell_type": "code",
   "execution_count": null,
   "outputs": [],
   "source": [],
   "metadata": {
    "collapsed": false
   },
   "id": "d53cd9bbf8cd433b"
  },
  {
   "cell_type": "code",
   "execution_count": null,
   "outputs": [],
   "source": [],
   "metadata": {
    "collapsed": false
   },
   "id": "1a71633fd7d045cd"
  }
 ],
 "metadata": {
  "kernelspec": {
   "display_name": "Python 3",
   "language": "python",
   "name": "python3"
  },
  "language_info": {
   "codemirror_mode": {
    "name": "ipython",
    "version": 2
   },
   "file_extension": ".py",
   "mimetype": "text/x-python",
   "name": "python",
   "nbconvert_exporter": "python",
   "pygments_lexer": "ipython2",
   "version": "2.7.6"
  }
 },
 "nbformat": 4,
 "nbformat_minor": 5
}
